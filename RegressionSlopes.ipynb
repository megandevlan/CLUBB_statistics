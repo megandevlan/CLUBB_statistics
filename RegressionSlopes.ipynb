{
 "cells": [
  {
   "cell_type": "markdown",
   "metadata": {},
   "source": [
    "## The ultimate goal here is to start trying to characterize various regimes around the globe in terms of the relationships between mean wind speed and wind variance near the surface, as well as surface fluxes and PBL height vs. mean wind speed. \n",
    "<br>\n",
    "This was originally part of the script Regional_CombineUV.ipynb, but it makes more sense to keep it seperate. <br>\n",
    "<br>\n",
    "<b>Author:</b> Meg Fowler <br>\n",
    "<b>Date:</b> 21 Oct 2020 <br>"
   ]
  },
  {
   "cell_type": "code",
   "execution_count": 1,
   "metadata": {},
   "outputs": [],
   "source": [
    "# Load libraries\n",
    "\n",
    "# Plotting utils \n",
    "import matplotlib.pyplot as plt \n",
    "import matplotlib.colors as colors\n",
    "import matplotlib.ticker as ticker \n",
    "import matplotlib.patches as patches\n",
    "import matplotlib.animation as animation\n",
    "import matplotlib as matplotlib\n",
    "import cartopy\n",
    "import cartopy.feature as cfeature\n",
    "import cartopy.crs as ccrs\n",
    "import cartopy.util\n",
    "\n",
    "# Analysis\n",
    "import os\n",
    "import numpy as np \n",
    "import xarray as xr\n",
    "import datetime\n",
    "from   datetime import date, timedelta\n",
    "import pandas as pd \n",
    "#import regionmask\n",
    "import pickle\n",
    "import scipy.stats as stats\n"
   ]
  },
  {
   "cell_type": "markdown",
   "metadata": {},
   "source": [
    "## 1. Read in and process data "
   ]
  },
  {
   "cell_type": "markdown",
   "metadata": {},
   "source": [
    "This is meant to run with output from AMIP simulations. Note that there are a *ton* of different file naming conventions here. This could certainly be streamlined, but is written this way due to incremental accesasing of new data from the same simulation. I've used NCO to concatenate certain variables into individual files over a certain decade.<br>\n",
    "(E.g., <i>ncrcat -v SHFLX,LHFLX f.e20.FHIST.f09_f09.cesm2_1.001.cam.h0.197* f.e20.FHIST.f09_f09.cesm2_1.001.cam.h0.1970-1979_sfcFluxes.nc</i>)"
   ]
  },
  {
   "cell_type": "code",
   "execution_count": 2,
   "metadata": {},
   "outputs": [],
   "source": [
    "# Set up directories \n",
    "dataDir    = '/Users/mdfowler/Documents/Analysis/CLUBB_initial/data/'\n",
    "nameStart  = 'f.e20.FHIST.f09_f09.cesm2_1.001.cam.h0.'\n",
    "nameEnd    = '_CLUBBwinds.nc'\n",
    "nameEnd_UV = '_UV.nc'\n",
    "nameEnd_W  = '_W.nc'\n",
    "nameEnd_PBLH = '_PBLH.nc'\n",
    "nameEnd_FLX  = '_sfcFluxes.nc'\n",
    "\n",
    "#decadeList = ['1951-59','1960-69', '1970-79','1980-89','1990-99','2000-14']\n",
    "decadeList = ['1970-79','1980-89','1990-99','2000-14']"
   ]
  },
  {
   "cell_type": "code",
   "execution_count": 57,
   "metadata": {},
   "outputs": [
    {
     "name": "stderr",
     "output_type": "stream",
     "text": [
      "<ipython-input-57-fc907abc9c0b>:16: RuntimeWarning: invalid value encountered in less\n",
      "  iceMask[iceContent<10000] = 1\n"
     ]
    },
    {
     "data": {
      "text/plain": [
       "<matplotlib.colorbar.Colorbar at 0x7ff0702d1070>"
      ]
     },
     "execution_count": 57,
     "metadata": {},
     "output_type": "execute_result"
    },
    {
     "data": {
      "image/png": "[encoded data removed]",
      "text/plain": [
       "<Figure size 432x288 with 2 Axes>"
      ]
     },
     "metadata": {
      "needs_background": "light"
     },
     "output_type": "display_data"
    }
   ],
   "source": [
    "# Read in single history file to get lat/lon and masks \n",
    "testName = dataDir+'f.e20.FHIST.f09_f09.cesm2_1.001.clm2.h0.1989-12.nc'\n",
    "testDF   = xr.open_dataset(testName)\n",
    "\n",
    "# Set lat, lon \n",
    "lat = testDF.lat\n",
    "lon = testDF.lon\n",
    "\n",
    "# Make land mask\n",
    "landMask              = testDF.landmask.values\n",
    "landMask[landMask==0] = np.nan\n",
    "\n",
    "# Ideally, want to mask out Greenland/Antarctica too (ice sheets)\n",
    "iceContent = testDF.ICE_CONTENT1.values[0,:,:]  # \"Initial gridcell total ice content\"\n",
    "iceMask    = np.full([len(lat),len(lon)], np.nan)\n",
    "iceMask[iceContent<10000] = 1\n"
   ]
  },
  {
   "cell_type": "markdown",
   "metadata": {},
   "source": [
    "Since files are saved by decade, it's easy to read them all in by decade as well. They're read in as xarray datasets and then concatenated into one large dataset with xr.concat along the time dimension. The dates are then reformatted to correspond to a pandas datetimeindex, which is *much* easier to work with (i.e., you can easily index to get year, month, etc). "
   ]
  },
  {
   "cell_type": "code",
   "execution_count": 4,
   "metadata": {},
   "outputs": [
    {
     "name": "stderr",
     "output_type": "stream",
     "text": [
      "<ipython-input-4-a5b5b58f2600>:7: RuntimeWarning: Converting a CFTimeIndex with dates from a non-standard calendar, 'noleap', to a pandas.DatetimeIndex, which uses dates from the standard calendar.  This may lead to subtle errors in operations that depend on the length of time between dates.\n",
      "  dataDF['time'] = dataDF.indexes['time'].to_datetimeindex() # Convert from cf time (non-standard calendar) to datetime\n",
      "<ipython-input-4-a5b5b58f2600>:11: RuntimeWarning: Converting a CFTimeIndex with dates from a non-standard calendar, 'noleap', to a pandas.DatetimeIndex, which uses dates from the standard calendar.  This may lead to subtle errors in operations that depend on the length of time between dates.\n",
      "  windDF['time'] = windDF.indexes['time'].to_datetimeindex()\n",
      "<ipython-input-4-a5b5b58f2600>:23: RuntimeWarning: Converting a CFTimeIndex with dates from a non-standard calendar, 'noleap', to a pandas.DatetimeIndex, which uses dates from the standard calendar.  This may lead to subtle errors in operations that depend on the length of time between dates.\n",
      "  pblhDF['time'] = pblhDF.indexes['time'].to_datetimeindex()\n",
      "<ipython-input-4-a5b5b58f2600>:27: RuntimeWarning: Converting a CFTimeIndex with dates from a non-standard calendar, 'noleap', to a pandas.DatetimeIndex, which uses dates from the standard calendar.  This may lead to subtle errors in operations that depend on the length of time between dates.\n",
      "  flxDF['time'] = flxDF.indexes['time'].to_datetimeindex()\n"
     ]
    },
    {
     "name": "stdout",
     "output_type": "stream",
     "text": [
      "Done with decade  1970-79  ... \n",
      "    Number of times saved:  120\n",
      "Done with decade  1980-89  ... \n",
      "    Number of times saved:  240\n",
      "Done with decade  1990-99  ... \n",
      "    Number of times saved:  360\n",
      "Done with decade  2000-14  ... \n",
      "    Number of times saved:  540\n"
     ]
    }
   ],
   "source": [
    "# Read in data by decade \n",
    "for iDec in range(len(decadeList)): \n",
    "    \n",
    "    # Open datasets for each decade \n",
    "    fileName = dataDir+nameStart+decadeList[iDec]+nameEnd\n",
    "    dataDF   = xr.open_dataset(fileName, decode_times=True)\n",
    "    dataDF['time'] = dataDF.indexes['time'].to_datetimeindex() # Convert from cf time (non-standard calendar) to datetime\n",
    "\n",
    "    UVfile = dataDir+nameStart+decadeList[iDec]+nameEnd_UV \n",
    "    windDF = xr.open_dataset(UVfile, decode_times=True)\n",
    "    windDF['time'] = windDF.indexes['time'].to_datetimeindex()\n",
    "    \n",
    "#     Wfile = dataDir+nameStart+decadeList[iDec]+nameEnd_W\n",
    "#     vertDF = xr.open_dataset(Wfile, decode_times=True)\n",
    "#     vertDF['time'] = vertDF.indexes['time'].to_datetimeindex()\n",
    "    \n",
    "#     PSfile = dataDir+nameStart+decadeList[iDec]+'_PS.nc'\n",
    "#     presDF = xr.open_dataset(PSfile, decode_times=True)\n",
    "#     presDF['time'] = presDF.indexes['time'].to_datetimeindex() # Convert from cf time (non-standard calendar) to datetime\n",
    "\n",
    "    PBLHfile = dataDir+nameStart+decadeList[iDec]+nameEnd_PBLH\n",
    "    pblhDF   = xr.open_dataset(PBLHfile, decode_times=True)\n",
    "    pblhDF['time'] = pblhDF.indexes['time'].to_datetimeindex()\n",
    "    \n",
    "    FLXfile = dataDir+nameStart+decadeList[iDec]+nameEnd_FLX\n",
    "    flxDF   = xr.open_dataset(FLXfile, decode_times=True)\n",
    "    flxDF['time'] = flxDF.indexes['time'].to_datetimeindex()\n",
    "\n",
    "    # Create *giant* datasets that span the full period of the simulations\n",
    "    if iDec==0:\n",
    "        fullDF = dataDF\n",
    "        fullUV = windDF\n",
    "        fullPBLH = pblhDF\n",
    "        fullFLX  = flxDF\n",
    "#         fullW  = vertDF\n",
    "#         fullPS = presDF\n",
    "    else:\n",
    "        fullDF = xr.concat([fullDF, dataDF], dim=\"time\")\n",
    "        fullUV = xr.concat([fullUV, windDF], dim=\"time\")\n",
    "        fullPBLH = xr.concat([fullPBLH, pblhDF], dim=\"time\")\n",
    "        fullFLX  = xr.concat([fullFLX, flxDF], dim=\"time\")\n",
    "#         fullW  = xr.concat([fullW,  vertDF], dim=\"time\")\n",
    "#         fullPS = xr.concat([fullPS, presDF], dim=\"time\")\n",
    "        \n",
    "    print('Done with decade ', decadeList[iDec], ' ... ')\n",
    "    print('    Number of times saved: ', len(fullDF['time']))"
   ]
  },
  {
   "cell_type": "code",
   "execution_count": 5,
   "metadata": {},
   "outputs": [],
   "source": [
    "# To be able to easily access years, months, days - use Pandas \n",
    "dates = pd.DatetimeIndex(fullDF['time'].values) \n",
    "\n",
    "# Let's set the monthly averages to be roughly mid-month\n",
    "#   This way, the average for January has a month of 1 instead of being the first day of February \n",
    "midTime = dates - timedelta(days=15)       # Get new dates array that has the right month/year in it \n"
   ]
  },
  {
   "cell_type": "markdown",
   "metadata": {},
   "source": [
    "Model levels are stored with the *top* level as index 0. So to make life a bit easier, I like to flip those arrays around so that the first index is the level closest to the surface. It's also a bit easier (though less efficient) to pull out the arrays of values I'll be working with later into a single unique variable. "
   ]
  },
  {
   "cell_type": "code",
   "execution_count": 6,
   "metadata": {},
   "outputs": [],
   "source": [
    "# Read into individual arrays for easy access\n",
    "\n",
    "UP2 = fullDF.UP2_CLUBB.values      # Zonal velocity variance (m2/s2)\n",
    "VP2 = fullDF.VP2_CLUBB.values      # Meridional velocity variance (m2/s2)\n",
    "WP2 = fullDF.WP2_CLUBB.values      # Vertical velocity variance (m2/s2)\n",
    "WP3 = fullDF.WP3_CLUBB.values      # Third moment vertical velocity (m3/s3)\n",
    "PBLH = fullPBLH.PBLH.values\n",
    "SHFLX = fullFLX.SHFLX.values\n",
    "LHFLX = fullFLX.LHFLX.values\n",
    "\n",
    "U   = fullUV.U.values              # Zonal wind (m/s)\n",
    "V   = fullUV.V.values              # Meridional wind (m/s)\n",
    "#W   = fullW.W.values              # Vertical velocity (m/s) -- script to compute on /glade/work/mdfowler/...\n"
   ]
  },
  {
   "cell_type": "code",
   "execution_count": 7,
   "metadata": {},
   "outputs": [],
   "source": [
    "# Flip along vertical (level) axis, so that index 0 is surface \n",
    "\n",
    "UP2 = np.flip(UP2, axis=1)\n",
    "VP2 = np.flip(VP2, axis=1)\n",
    "WP2 = np.flip(WP2, axis=1)\n",
    "WP3 = np.flip(WP3, axis=1)\n",
    "\n",
    "U   = np.flip(U, axis=1)\n",
    "V   = np.flip(V, axis=1)\n",
    "#W   = np.flip(W, axis=1)\n",
    "\n",
    "# Save levels themselves to arrays and flip them \n",
    "lev_interface = np.flip(fullDF.ilev.values)\n",
    "lev_middle    = np.flip(fullUV.lev.values)\n"
   ]
  },
  {
   "cell_type": "markdown",
   "metadata": {},
   "source": [
    "We found some odd looking artifacts when using *just* zonal winds (U) near the surface for understanding the relationship between mean wind and wind variance. So instead, let's use total wind speed and total wind variance - that is, sqrt(u^2 + v^2) for wind speed, and the sum of the meridional and zonal wind variances for total wind variance. "
   ]
  },
  {
   "cell_type": "code",
   "execution_count": 8,
   "metadata": {},
   "outputs": [],
   "source": [
    "# Now get surface wind magnitude and combine variances \n",
    "windSpd = np.sqrt(U**2 + V**2)\n",
    "windVar = UP2 + VP2 \n"
   ]
  },
  {
   "cell_type": "markdown",
   "metadata": {},
   "source": [
    "Lastly for this section, we'll want to pay close attention to certain seasons for a lot of this analysis, and we mostly care about near-surface winds. So let's pick out the indices corresponding to those months and those levels. "
   ]
  },
  {
   "cell_type": "code",
   "execution_count": 9,
   "metadata": {},
   "outputs": [],
   "source": [
    "# Get seasonal indices \n",
    "iDJF = np.where((midTime.month==12) | (midTime.month<=2))[0]\n",
    "iMAM = np.where((midTime.month>=3)  & (midTime.month<=5))[0]\n",
    "iJJA = np.where((midTime.month>=6)  & (midTime.month<=8))[0]\n",
    "iSON = np.where((midTime.month>=9)  & (midTime.month<=11))[0]\n",
    "\n",
    "# Select near surface speed and variance \n",
    "sfcWindSpd = windSpd[:,0,:,:]\n",
    "sfcWindVar = windVar[:,1,:,:]\n"
   ]
  },
  {
   "cell_type": "markdown",
   "metadata": {},
   "source": [
    "## 2. Carry out linear regression on sets of variables that could be interesting "
   ]
  },
  {
   "cell_type": "markdown",
   "metadata": {},
   "source": [
    "Writing up a very simple function to return stats from linear regression over a 3D array with dimensions of [time, lat, lon]"
   ]
  },
  {
   "cell_type": "code",
   "execution_count": 14,
   "metadata": {},
   "outputs": [],
   "source": [
    "def linRegress3D(xVar, yVar):\n",
    "    \n",
    "    # Get length of lat/lon dimensions \n",
    "    shapeDat = np.shape(xVar)\n",
    "    nlat     = shapeDat[1]\n",
    "    nlon     = shapeDat[2]\n",
    "    \n",
    "    # Define empty arrays to return \n",
    "    slope     = np.full([nlat, nlon], np.nan)\n",
    "    intercept = np.full([nlat, nlon], np.nan)\n",
    "    rValue    = np.full([nlat, nlon], np.nan)\n",
    "    pValue    = np.full([nlat, nlon], np.nan)\n",
    "    \n",
    "    for ilat in range(len(lat)):\n",
    "        for ilon in range(len(lon)): \n",
    "            x = xVar[:,ilat,ilon]\n",
    "            y = yVar[:,ilat,ilon]\n",
    "\n",
    "            # Perform linear regression\n",
    "            slope[ilat,ilon], intercept[ilat,ilon], rValue[ilat,ilon], pValue[ilat,ilon], std_err = stats.linregress(x, y)\n",
    "\n",
    "\n",
    "    return(slope,intercept,rValue,pValue)\n"
   ]
  },
  {
   "cell_type": "markdown",
   "metadata": {},
   "source": [
    "First, lets look just at JJA. Also, let's say we're only interested in land points for right now and classifying those. "
   ]
  },
  {
   "cell_type": "code",
   "execution_count": 58,
   "metadata": {},
   "outputs": [],
   "source": [
    "# Use only land points... (and exclude ice sheets)\n",
    "sfcWindSpd_land = sfcWindSpd*landMask*iceMask\n",
    "sfcWindVar_land = sfcWindVar*landMask*iceMask\n",
    "PBLH_land       = PBLH*landMask*iceMask\n",
    "SHFLX_land      = SHFLX*landMask*iceMask\n",
    "LHFLX_land      = LHFLX*landMask*iceMask\n",
    "\n",
    "# Also consider using the bowen ratio or EF rather than fluxes individually (more holistic energy concept)\n",
    "EF_land         = LHFLX_land / (LHFLX_land + SHFLX_land)\n",
    "bowen_land      = SHFLX_land / LHFLX_land\n"
   ]
  },
  {
   "cell_type": "code",
   "execution_count": 59,
   "metadata": {},
   "outputs": [],
   "source": [
    "# Now pick out JJA values: \n",
    "sfcWindSpd_JJA = sfcWindSpd_land[iJJA,:,:]\n",
    "sfcWindVar_JJA = sfcWindVar_land[iJJA,:,:]\n",
    "PBLH_JJA       = PBLH_land[iJJA,:,:]\n",
    "SHFLX_JJA      = SHFLX_land[iJJA,:,:]\n",
    "LHFLX_JJA      = LHFLX_land[iJJA,:,:]\n",
    "EF_JJA         = EF_land[iJJA,:,:]\n",
    "bowen_JJA      = bowen_land[iJJA,:,:]\n"
   ]
  },
  {
   "cell_type": "markdown",
   "metadata": {},
   "source": [
    "Now perform the linear regression and save statistics out "
   ]
  },
  {
   "cell_type": "code",
   "execution_count": 126,
   "metadata": {},
   "outputs": [
    {
     "name": "stdout",
     "output_type": "stream",
     "text": [
      "...Regression between wind speed and variance completed...\n",
      "...Regression between wind speed/var and PBLH completed...\n",
      "...Regression between wind speed and surface fluxes completed...\n",
      "...Regression between wind speed and EF/Bowen ratio completed...\n"
     ]
    }
   ],
   "source": [
    "# Linear regression between wind speed and wind variance (surface)\n",
    "slope_SpdVar_JJA,intercept_SpdVar_JJA,rValue_SpdVar_JJA,pValue_SpdVar_JJA = linRegress3D(sfcWindSpd_JJA, sfcWindVar_JJA)\n",
    "print('...Regression between wind speed and variance completed...')\n",
    "\n",
    "# Linear regression between mean wind speed and PBLH \n",
    "slope_SpdPBL_JJA,intercept_SpdPBL_JJA,rValue_SpdPBL_JJA,pValue_SpdPBL_JJA = linRegress3D(sfcWindSpd_JJA, PBLH_JJA)\n",
    "\n",
    "# Linear regression between wind variance and PBLH \n",
    "slope_VarPBL_JJA,intercept_VarPBL_JJA,rValue_VarPBL_JJA,pValue_VarPBL_JJA = linRegress3D(sfcWindVar_JJA, PBLH_JJA)\n",
    "print('...Regression between wind speed/var and PBLH completed...')\n",
    "\n",
    "# Linear regression between mean wind speed and SHFLX \n",
    "slope_SpdSHF_JJA,intercept_SpdSHF_JJA,rValue_SpdSHF_JJA,pValue_SpdSHF_JJA = linRegress3D(sfcWindSpd_JJA, np.abs(SHFLX_JJA))\n",
    "\n",
    "# Linear regression between mean wind speed and LHFLX\n",
    "slope_SpdLHF_JJA,intercept_SpdLHF_JJA,rValue_SpdLHF_JJA,pValue_SpdLHF_JJA = linRegress3D(sfcWindSpd_JJA, np.abs(LHFLX_JJA))\n",
    "print('...Regression between wind speed and surface fluxes completed...')\n",
    "\n",
    "# Linear regression between mean wind speed and evaporative fraction \n",
    "slope_SpdEF_JJA,intercept_SpdEF_JJA,rValue_SpdEF_JJA,pValue_SpdEF_JJA = linRegress3D(sfcWindSpd_JJA, EF_JJA)\n",
    "\n",
    "# Linear regresion between mean wind speed and bowen ratio \n",
    "slope_SpdBowen_JJA,intercept_SpdBowen_JJA,rValue_SpdBowen_JJA,pValue_SpdBowen_JJA = linRegress3D(sfcWindSpd_JJA, bowen_JJA)\n",
    "print('...Regression between wind speed and EF/Bowen ratio completed...')\n"
   ]
  },
  {
   "cell_type": "markdown",
   "metadata": {},
   "source": [
    "## 3. Map out where regression slopes are high vs. low "
   ]
  },
  {
   "cell_type": "markdown",
   "metadata": {},
   "source": [
    "Reshape regression slopes to be 1D - quicker to plot histograms and get percentiles this way. "
   ]
  },
  {
   "cell_type": "code",
   "execution_count": 127,
   "metadata": {},
   "outputs": [],
   "source": [
    "slope_SpdVar_1d   = slope_SpdVar_JJA.reshape(len(lat)*len(lon))\n",
    "slope_SpdPBL_1d   = slope_SpdPBL_JJA.reshape(len(lat)*len(lon))\n",
    "slope_VarPBL_1d   = slope_VarPBL_JJA.reshape(len(lat)*len(lon))\n",
    "slope_SpdSHF_1d   = slope_SpdSHF_JJA.reshape(len(lat)*len(lon))\n",
    "slope_SpdLHF_1d   = slope_SpdLHF_JJA.reshape(len(lat)*len(lon))\n",
    "slope_SpdEF_1d    = slope_SpdEF_JJA.reshape(len(lat)*len(lon))\n",
    "slope_SpdBowen_1d = slope_SpdBowen_JJA.reshape(len(lat)*len(lon))\n"
   ]
  },
  {
   "cell_type": "markdown",
   "metadata": {},
   "source": [
    "Compute 25th and 75th percentiles of slopes (using absolute values) "
   ]
  },
  {
   "cell_type": "code",
   "execution_count": 132,
   "metadata": {},
   "outputs": [],
   "source": [
    "pct25_SpdVar = np.nanpercentile(np.abs(slope_SpdVar_1d), 25)\n",
    "pct75_SpdVar = np.nanpercentile(np.abs(slope_SpdVar_1d), 75)\n",
    "\n",
    "pct25_SpdPBL = np.nanpercentile(np.abs(slope_SpdPBL_1d), 25)\n",
    "pct75_SpdPBL = np.nanpercentile(np.abs(slope_SpdPBL_1d), 75)\n",
    "\n",
    "pct25_VarPBL = np.nanpercentile(np.abs(slope_VarPBL_1d), 25)\n",
    "pct75_VarPBL = np.nanpercentile(np.abs(slope_VarPBL_1d), 75)\n",
    "\n",
    "pct25_SpdSHF = np.nanpercentile(np.abs(slope_SpdSHF_1d), 25)\n",
    "pct75_SpdSHF = np.nanpercentile(np.abs(slope_SpdSHF_1d), 75)\n",
    "\n",
    "pct25_SpdLHF = np.nanpercentile(np.abs(slope_SpdLHF_1d), 25)\n",
    "pct75_SpdLHF = np.nanpercentile(np.abs(slope_SpdLHF_1d), 75)\n",
    "\n",
    "pct25_SpdEF = np.nanpercentile(np.abs(slope_SpdEF_1d), 25)\n",
    "pct75_SpdEF = np.nanpercentile(np.abs(slope_SpdEF_1d), 75)\n",
    "\n",
    "pct25_SpdBowen = np.nanpercentile(np.abs(slope_SpdBowen_1d), 25)\n",
    "pct75_SpdBowen = np.nanpercentile(np.abs(slope_SpdBowen_1d), 75)\n"
   ]
  },
  {
   "cell_type": "markdown",
   "metadata": {},
   "source": [
    "Plot histograms of slopes with 75th and 25th percentiles"
   ]
  },
  {
   "cell_type": "code",
   "execution_count": 149,
   "metadata": {},
   "outputs": [
    {
     "data": {
      "text/plain": [
       "array([0.00502397, 0.00695025, 0.00887654, 0.01080282, 0.01272911,\n",
       "       0.01465539, 0.01658168, 0.01850796, 0.02043425, 0.02236053,\n",
       "       0.02428682, 0.0262131 , 0.02813938, 0.03006567, 0.03199195,\n",
       "       0.03391824, 0.03584452, 0.03777081, 0.03969709, 0.04162338,\n",
       "       0.04354966, 0.04547595, 0.04740223, 0.04932851, 0.0512548 ,\n",
       "       0.05318108, 0.05510737, 0.05703365, 0.05895994, 0.06088622,\n",
       "       0.06281251, 0.06473879, 0.06666508, 0.06859136, 0.07051765,\n",
       "       0.07244393, 0.07437021, 0.0762965 , 0.07822278, 0.08014907,\n",
       "       0.08207535, 0.08400164, 0.08592792, 0.08785421, 0.08978049,\n",
       "       0.09170678, 0.09363306, 0.09555934, 0.09748563, 0.09941191,\n",
       "       0.1013382 , 0.10326448, 0.10519077, 0.10711705, 0.10904334,\n",
       "       0.11096962, 0.11289591, 0.11482219, 0.11674847, 0.11867476,\n",
       "       0.12060104, 0.12252733, 0.12445361, 0.1263799 , 0.12830618,\n",
       "       0.13023247, 0.13215875, 0.13408504, 0.13601132, 0.13793761,\n",
       "       0.13986389, 0.14179017, 0.14371646, 0.14564274, 0.14756903])"
      ]
     },
     "execution_count": 149,
     "metadata": {},
     "output_type": "execute_result"
    }
   ],
   "source": [
    "np.linspace(np.nanpercentile(np.abs(slope_SpdVar_1d), 5), \n",
    "                       np.nanpercentile(np.abs(slope_SpdVar_1d), 95), 75)"
   ]
  },
  {
   "cell_type": "code",
   "execution_count": 165,
   "metadata": {},
   "outputs": [
    {
     "data": {
      "text/plain": [
       "<matplotlib.legend.Legend at 0x7ff060faa370>"
      ]
     },
     "execution_count": 165,
     "metadata": {},
     "output_type": "execute_result"
    },
    {
     "data": {
      "image/png": "[encoded data removed]",
      "text/plain": [
       "<Figure size 1080x432 with 8 Axes>"
      ]
     },
     "metadata": {
      "needs_background": "light"
     },
     "output_type": "display_data"
    }
   ],
   "source": [
    "fig, axs = plt.subplots(2,4, figsize=(15, 6))\n",
    "#Put axs handles in array, axs \n",
    "axs = axs.ravel()\n",
    "#Adjust space between subplots \n",
    "fig.subplots_adjust(hspace = 0.4,wspace = 0.2)\n",
    "\n",
    "# ----------------------------------\n",
    "# SUBPLOT 1: Wind speed vs. variance\n",
    "binEdges = np.linspace(np.nanpercentile(np.abs(slope_SpdVar_1d), 1), \n",
    "                       np.nanpercentile(np.abs(slope_SpdVar_1d), 99), 75)\n",
    "axs[0].hist(np.abs(slope_SpdVar_1d), bins=binEdges,facecolor='grey')\n",
    "axs[0].set_xlabel('abs(slope)')\n",
    "axs[0].set_title('LinRegress Slope:\\nWindSpeed vs. WindVar')\n",
    "axs[0].axvline(pct25_SpdVar, color='blue')\n",
    "axs[0].axvline(pct75_SpdVar, color='darkorange')\n",
    "axs[0].legend(['25%','75%'])\n",
    "# ----------------------------------\n",
    "\n",
    "# ----------------------------------\n",
    "# SUBPLOT 2: Wind speed vs. PBLH\n",
    "binEdges = np.linspace(np.nanpercentile(np.abs(slope_SpdPBL_1d), 1), \n",
    "                       np.nanpercentile(np.abs(slope_SpdPBL_1d), 99), 75)\n",
    "axs[0].hist(np.abs(slope_SpdPBL_1d), bins=binEdges,facecolor='grey')\n",
    "axs[0].set_xlabel('abs(slope)')\n",
    "axs[0].set_title('LinRegress Slope:\\nWindSpeed vs. WindVar')\n",
    "axs[0].axvline(pct25_SpdPBL, color='blue')\n",
    "axs[0].axvline(pct75_SpdPBL, color='darkorange')\n",
    "axs[0].legend(['25%','75%'])\n",
    "\n",
    "\n"
   ]
  },
  {
   "cell_type": "code",
   "execution_count": 169,
   "metadata": {},
   "outputs": [
    {
     "data": {
      "image/png": "[encoded data removed]",
      "text/plain": [
       "<Figure size 432x288 with 1 Axes>"
      ]
     },
     "metadata": {
      "needs_background": "light"
     },
     "output_type": "display_data"
    }
   ],
   "source": [
    "# SUBPLOT 2: Wind \n",
    "binEdges = np.linspace(np.nanpercentile(slope_SpdPBL_1d, 1), \n",
    "                       np.nanpercentile(slope_SpdPBL_1d, 99), 75)\n",
    "plt.hist(slope_SpdPBL_1d, bins=binEdges,facecolor='grey')\n",
    "plt.show()"
   ]
  },
  {
   "cell_type": "code",
   "execution_count": null,
   "metadata": {},
   "outputs": [],
   "source": []
  },
  {
   "cell_type": "code",
   "execution_count": null,
   "metadata": {},
   "outputs": [],
   "source": []
  },
  {
   "cell_type": "code",
   "execution_count": null,
   "metadata": {},
   "outputs": [],
   "source": []
  },
  {
   "cell_type": "code",
   "execution_count": 173,
   "metadata": {},
   "outputs": [
    {
     "name": "stderr",
     "output_type": "stream",
     "text": [
      "<ipython-input-173-b484a0dc0267>:2: RuntimeWarning: invalid value encountered in greater\n",
      "  rowPos,colPos = np.where(slope_SpdPBL_JJA>0)\n",
      "<ipython-input-173-b484a0dc0267>:6: RuntimeWarning: invalid value encountered in less\n",
      "  rowNeg,colNeg = np.where(slope_SpdPBL_JJA<0)\n"
     ]
    }
   ],
   "source": [
    "# Quick peak at scatter when slope is positive vs negative...\n",
    "rowPos,colPos = np.where(slope_SpdPBL_JJA>0)\n",
    "sfcWindPos    = sfcWindSpd_JJA[:,rowPos,colPos]\n",
    "pblhPos       = PBLH_JJA[:,rowPos,colPos]\n",
    "\n",
    "rowNeg,colNeg = np.where(slope_SpdPBL_JJA<0)\n",
    "sfcWindNeg    = sfcWindSpd_JJA[:,rowNeg,colNeg]\n",
    "pblhxNeg      = PBLH_JJA[:,rowNeg,colNeg]\n"
   ]
  },
  {
   "cell_type": "code",
   "execution_count": 175,
   "metadata": {},
   "outputs": [
    {
     "data": {
      "text/plain": [
       "[<matplotlib.lines.Line2D at 0x7ff061dd2a90>]"
      ]
     },
     "execution_count": 175,
     "metadata": {},
     "output_type": "execute_result"
    },
    {
     "data": {
      "image/png": "[encoded data removed]",
      "text/plain": [
       "<Figure size 432x288 with 1 Axes>"
      ]
     },
     "metadata": {
      "needs_background": "light"
     },
     "output_type": "display_data"
    }
   ],
   "source": [
    "iPos = 90\n",
    "\n",
    "plt.plot(sfcWindNeg[:,iPos], pblhxNeg[:,iPos],'*')\n"
   ]
  },
  {
   "cell_type": "code",
   "execution_count": null,
   "metadata": {},
   "outputs": [],
   "source": []
  },
  {
   "cell_type": "code",
   "execution_count": null,
   "metadata": {},
   "outputs": [],
   "source": []
  },
  {
   "cell_type": "markdown",
   "metadata": {},
   "source": [
    "## 4. Map where correlation coefficients are greater than some threshold "
   ]
  },
  {
   "cell_type": "code",
   "execution_count": null,
   "metadata": {},
   "outputs": [],
   "source": []
  },
  {
   "cell_type": "code",
   "execution_count": null,
   "metadata": {},
   "outputs": [],
   "source": []
  },
  {
   "cell_type": "markdown",
   "metadata": {},
   "source": [
    "## 5. Map out regression slopes themselves (with limits based on correlation coefficient)"
   ]
  },
  {
   "cell_type": "code",
   "execution_count": null,
   "metadata": {},
   "outputs": [],
   "source": []
  },
  {
   "cell_type": "code",
   "execution_count": null,
   "metadata": {},
   "outputs": [],
   "source": []
  },
  {
   "cell_type": "code",
   "execution_count": null,
   "metadata": {},
   "outputs": [],
   "source": []
  },
  {
   "cell_type": "code",
   "execution_count": 61,
   "metadata": {},
   "outputs": [
    {
     "name": "stderr",
     "output_type": "stream",
     "text": [
      "/Users/mdfowler/opt/anaconda3/lib/python3.8/site-packages/numpy/lib/histograms.py:839: RuntimeWarning: invalid value encountered in greater_equal\n",
      "  keep = (tmp_a >= first_edge)\n",
      "/Users/mdfowler/opt/anaconda3/lib/python3.8/site-packages/numpy/lib/histograms.py:840: RuntimeWarning: invalid value encountered in less_equal\n",
      "  keep &= (tmp_a <= last_edge)\n",
      "<ipython-input-61-d4d38ccf8651>:19: RuntimeWarning: invalid value encountered in less\n",
      "  iNeg = np.where(slope_1d<0)[0]\n"
     ]
    },
    {
     "name": "stdout",
     "output_type": "stream",
     "text": [
      "25th percentile: 0.0210\n",
      "75th percentile: 0.0801\n",
      "\n",
      "Percent of gridcells < 0: 4.94 %\n"
     ]
    },
    {
     "data": {
      "image/png": "[encoded data removed]",
      "text/plain": [
       "<Figure size 432x288 with 1 Axes>"
      ]
     },
     "metadata": {
      "needs_background": "light"
     },
     "output_type": "display_data"
    }
   ],
   "source": [
    "## ---- Definition of \"high\" vs. \"low\" slope based on percentiles of slopes ---- \n",
    "\n",
    "slope_1d = slope_SpdVar_JJA.reshape(len(lat)*len(lon))\n",
    "plt.hist(np.abs(slope_1d), bins=75,facecolor='grey')\n",
    "plt.title('Histogram of Gridcell Slopes (speed vs. variance)')\n",
    "\n",
    "# Get 25th and 75th percentiles: \n",
    "pct25 = np.nanpercentile(np.abs(slope_1d), 25)\n",
    "pct75 = np.nanpercentile(np.abs(slope_1d), 75)\n",
    "print('25th percentile: %.4f' % pct25)\n",
    "print('75th percentile: %.4f' % pct75)\n",
    "\n",
    "plt.axvline(pct25,color='blue')\n",
    "plt.axvline(pct75, color='darkorange')\n",
    "\n",
    "plt.legend(['25th Percentile','75th percentile','Hist'])\n",
    "\n",
    "# How many gridcells do have a negative slope anyway? \n",
    "iNeg = np.where(slope_1d<0)[0]\n",
    "print('\\nPercent of gridcells < 0: %.2f %%' % ((len(iNeg)/len(slope_1d[~np.isnan(slope_1d)]))*100) )\n",
    "\n",
    "plt.show()"
   ]
  },
  {
   "cell_type": "code",
   "execution_count": 68,
   "metadata": {},
   "outputs": [
    {
     "name": "stdout",
     "output_type": "stream",
     "text": [
      "Percent of gridcells with R >=0.50: 50.153188\n",
      "Percent of gridcells with R >=0.70: 31.685073\n"
     ]
    },
    {
     "name": "stderr",
     "output_type": "stream",
     "text": [
      "<ipython-input-68-3a8cff0a39a0>:7: RuntimeWarning: invalid value encountered in greater_equal\n",
      "  i50 = np.where(r_1d>=0.5)[0]\n",
      "<ipython-input-68-3a8cff0a39a0>:8: RuntimeWarning: invalid value encountered in greater_equal\n",
      "  i70 = np.where(r_1d>=0.7)[0]\n"
     ]
    },
    {
     "data": {
      "image/png": "[encoded data removed]",
      "text/plain": [
       "<Figure size 432x288 with 1 Axes>"
      ]
     },
     "metadata": {
      "needs_background": "light"
     },
     "output_type": "display_data"
    }
   ],
   "source": [
    "## ---- Plot histogram of R values (correlation coefficients )\n",
    "\n",
    "r_1d = (rValue_SpdVar_JJA.reshape(len(lat)*len(lon)))\n",
    "plt.hist(r_1d, bins=50,facecolor='grey')\n",
    "plt.title('Histogram of Gridcell R (from linear regression)')\n",
    "\n",
    "i50 = np.where(r_1d>=0.5)[0]\n",
    "i70 = np.where(r_1d>=0.7)[0]\n",
    "print('Percent of gridcells with R >=0.50: %f' % ((len(i50)/len(r_1d[~np.isnan(r_1d)]))*100))\n",
    "print('Percent of gridcells with R >=0.70: %f' % ((len(i70)/len(r_1d[~np.isnan(r_1d)]))*100))\n",
    "\n",
    "plt.axvline(0,color='k')\n",
    "plt.axvline(0.70,color='k',linestyle='--')\n",
    "plt.show()\n"
   ]
  },
  {
   "cell_type": "code",
   "execution_count": 71,
   "metadata": {},
   "outputs": [
    {
     "name": "stderr",
     "output_type": "stream",
     "text": [
      "<ipython-input-71-5c1d3c57abd6>:3: RuntimeWarning: invalid value encountered in greater_equal\n",
      "  maskCorrCoef[np.abs(rValue_SpdVar_JJA)>=0.7] = 1\n"
     ]
    }
   ],
   "source": [
    "## Define mask based on where corrCoef >= 0.7\n",
    "maskCorrCoef = np.full([len(lat), len(lon)], np.nan)\n",
    "maskCorrCoef[np.abs(rValue_SpdVar_JJA)>=0.7] = 1 \n"
   ]
  },
  {
   "cell_type": "code",
   "execution_count": 63,
   "metadata": {},
   "outputs": [
    {
     "name": "stderr",
     "output_type": "stream",
     "text": [
      "<ipython-input-63-47e68cb09b2d>:5: RuntimeWarning: invalid value encountered in greater_equal\n",
      "  maskSlopes_SpdVar[np.abs(slope_SpdVar_JJA)>=pct75] = 2\n",
      "<ipython-input-63-47e68cb09b2d>:7: RuntimeWarning: invalid value encountered in less_equal\n",
      "  maskSlopes_SpdVar[np.abs(slope_SpdVar_JJA)<=pct25] = 1\n"
     ]
    }
   ],
   "source": [
    "## Mask for where gridcells have a high vs. a low slope: \n",
    "maskSlopes_SpdVar    = np.copy(slope_SpdVar_JJA)\n",
    "maskSlopes_SpdVar[:] = np.nan\n",
    "# Assign a value of 2 for gridcells with high slope \n",
    "maskSlopes_SpdVar[np.abs(slope_SpdVar_JJA)>=pct75] = 2\n",
    "# Assign a value of 1 for gridcells with low slope\n",
    "maskSlopes_SpdVar[np.abs(slope_SpdVar_JJA)<=pct25] = 1\n"
   ]
  },
  {
   "cell_type": "code",
   "execution_count": null,
   "metadata": {},
   "outputs": [],
   "source": []
  },
  {
   "cell_type": "code",
   "execution_count": 72,
   "metadata": {},
   "outputs": [
    {
     "data": {
      "text/plain": [
       "<matplotlib.colorbar.Colorbar at 0x7ff0530687c0>"
      ]
     },
     "execution_count": 72,
     "metadata": {},
     "output_type": "execute_result"
    },
    {
     "data": {
      "image/png": "[encoded data removed]",
      "text/plain": [
       "<Figure size 432x288 with 2 Axes>"
      ]
     },
     "metadata": {
      "needs_background": "light"
     },
     "output_type": "display_data"
    }
   ],
   "source": [
    "plt.contourf(maskSlopes_SpdVar)\n",
    "plt.colorbar()"
   ]
  },
  {
   "cell_type": "code",
   "execution_count": null,
   "metadata": {},
   "outputs": [],
   "source": []
  },
  {
   "cell_type": "code",
   "execution_count": null,
   "metadata": {},
   "outputs": [],
   "source": []
  },
  {
   "cell_type": "code",
   "execution_count": null,
   "metadata": {},
   "outputs": [],
   "source": [
    "# Make a mask of high vs. low slope to map \n",
    "\n",
    "maskHigh = np.full([len(lat), len(lon)],np.nan)\n",
    "maskHigh[rowsH, colsH] = 2 \n",
    "maskHigh[rowsL, colsL] = 1\n",
    "\n",
    "# ----------- Set up figure ------------------------------------------\n",
    "fig, ax1 = plt.subplots(1,1, figsize=(8, 12), \n",
    "                        facecolor='w', edgecolor='k',\n",
    "                        subplot_kw={'projection':ccrs.PlateCarree()})\n",
    "\n",
    "# Set limits of plot\n",
    "ax1.set_extent([-180, 180, -60, 90], crs=ccrs.PlateCarree())\n",
    "\n",
    "# Add coastlines \n",
    "ax1.coastlines(linewidth=0.5,edgecolor='0.25')\n",
    "ax1.add_feature(cfeature.BORDERS,linewidth=0.5,edgecolor='0.25')\n",
    "# --------------------------------------------------------------------\n",
    "\n",
    "\n",
    "# --------- Plot regions --------------------\n",
    "contour_plot = ax1.pcolormesh(lon,lat, maskHigh,\n",
    "                       cmap = 'PiYG_r')\n",
    "\n",
    "ax1.set_title('High vs. Low Slope [JJA]', fontsize=14)\n",
    "    \n",
    "# Add colorbar \n",
    "ax_position = ax1.get_position()\n",
    "cbar_ax     = fig.add_axes([ax_position.x0, ax_position.y0-0.03, ax_position.width, 0.02])\n",
    "cbar        = plt.colorbar(contour_plot, orientation='horizontal', cax=cbar_ax)\n",
    "# Control number of ticks via 'ticker' in matplotlib \n",
    "tick_locator = ticker.MaxNLocator(nbins=1)\n",
    "cbar.locator = tick_locator\n",
    "cbar.update_ticks()\n",
    "cbar.ax.set_xticklabels(['Low Slope','High Slope'])  # horizontal colorbar\n",
    "# Set label and fontsize\n",
    "cbar.set_label('Binary classification',fontsize=14)\n",
    "cbar.ax.tick_params(labelsize=14)\n",
    "# --------------------------------------\n",
    "\n",
    "ax1.axhline(0, color='lightgray')\n"
   ]
  },
  {
   "cell_type": "code",
   "execution_count": null,
   "metadata": {},
   "outputs": [],
   "source": [
    "# ------------------- Set up discrete colorbar --------------------\n",
    "import matplotlib as mpl\n",
    "\n",
    "cmap = plt.cm.jet  # define the colormap\n",
    "# extract all colors from the .jet map\n",
    "cmaplist = [cmap(i) for i in range(cmap.N)]\n",
    "\n",
    "# create the new map\n",
    "cmap = mpl.colors.LinearSegmentedColormap.from_list(\n",
    "    'Custom cmap', cmaplist, cmap.N)\n",
    "\n",
    "# define the bins and normalize\n",
    "bounds = np.arange(-0.05, 0.35, 0.05)\n",
    "norm   = mpl.colors.BoundaryNorm(bounds, cmap.N)\n",
    "# -------------------------------------------------------------------\n",
    "\n",
    "\n",
    "# ----------- Set up figure ------------------------------------------\n",
    "fig, ax1 = plt.subplots(1,1, figsize=(8, 12), \n",
    "                        facecolor='w', edgecolor='k',\n",
    "                        subplot_kw={'projection':ccrs.PlateCarree()})\n",
    "\n",
    "# Set limits of plot\n",
    "ax1.set_extent([-180, 180, -60, 90], crs=ccrs.PlateCarree())\n",
    "\n",
    "# Add coastlines \n",
    "ax1.coastlines(linewidth=0.5,edgecolor='0.25')\n",
    "ax1.add_feature(cfeature.BORDERS,linewidth=0.5,edgecolor='0.25')\n",
    "# --------------------------------------------------------------------\n",
    "\n",
    "\n",
    "# --------- Plot slope --------------------\n",
    "contour_plot = ax1.pcolormesh(lon,lat, slope_SpdVar_JJA*maskCorrCoef,\n",
    "                       vmin = -0.05, vmax = 0.3,        \n",
    "                       cmap = cmap,norm=norm)\n",
    "\n",
    "ax1.set_title('Slope of linear regression between WindSpeed and WindVar [JJA]', fontsize=14)\n",
    "    \n",
    "# Add colorbar \n",
    "ax_position = ax1.get_position()\n",
    "cbar_ax     = fig.add_axes([ax_position.x0, ax_position.y0-0.03, ax_position.width, 0.02])\n",
    "cbar        = plt.colorbar(contour_plot, orientation='horizontal', cax=cbar_ax,\n",
    "                           ticks=bounds, boundaries=bounds)\n",
    "# Control number of ticks via 'ticker' in matplotlib \n",
    "# tick_locator = ticker.MaxNLocator(nbins=8)\n",
    "# cbar.locator = tick_locator\n",
    "# cbar.update_ticks()\n",
    "# Set label and fontsize\n",
    "cbar.set_label('Slope of regression line',fontsize=14)\n",
    "cbar.ax.tick_params(labelsize=14)\n",
    "# --------------------------------------\n",
    "\n",
    "ax1.axhline(0, color='lightgray')\n",
    "\n",
    "# ------------- Add significance test results -----------\n",
    "# for ilat in range(len(lat)):\n",
    "#     for ilon in range(len(lon)):\n",
    "        \n",
    "#         if p_SpdVar_JJA[ilat,ilon]<0.05: \n",
    "#             ax1.plot(lon[ilon],lat[ilat],'k.', \n",
    "#                      markersize=0.15, alpha = 0.5, \n",
    "#                      transform=ccrs.PlateCarree())\n",
    "# --------------------------------------------------------\n"
   ]
  },
  {
   "cell_type": "code",
   "execution_count": null,
   "metadata": {},
   "outputs": [],
   "source": []
  },
  {
   "cell_type": "code",
   "execution_count": null,
   "metadata": {},
   "outputs": [],
   "source": []
  },
  {
   "cell_type": "code",
   "execution_count": null,
   "metadata": {},
   "outputs": [],
   "source": []
  }
 ],
 "metadata": {
  "kernelspec": {
   "display_name": "Python 3",
   "language": "python",
   "name": "python3"
  },
  "language_info": {
   "codemirror_mode": {
    "name": "ipython",
    "version": 3
   },
   "file_extension": ".py",
   "mimetype": "text/x-python",
   "name": "python",
   "nbconvert_exporter": "python",
   "pygments_lexer": "ipython3",
   "version": "3.8.3"
  }
 },
 "nbformat": 4,
 "nbformat_minor": 4
}
