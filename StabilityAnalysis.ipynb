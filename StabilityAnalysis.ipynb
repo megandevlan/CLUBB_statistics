{
 "cells": [
  {
   "cell_type": "code",
   "execution_count": 1,
   "metadata": {},
   "outputs": [],
   "source": [
    "import xarray as xr\n",
    "import numpy as np \n",
    "import pandas as pd\n",
    "import metpy.calc as mpc\n",
    "from metpy.units import units\n",
    "\n",
    "import matplotlib.pyplot as plt \n"
   ]
  },
  {
   "cell_type": "markdown",
   "metadata": {},
   "source": [
    "## Read in data"
   ]
  },
  {
   "cell_type": "code",
   "execution_count": 2,
   "metadata": {},
   "outputs": [],
   "source": [
    "# Define file names \n",
    "dataDir  = '/Users/mdfowler/Documents/Analysis/CLUBB_initial/data/'\n",
    "\n",
    "z3file   = dataDir+'daily/f.e20.FHIST.f09_f09.cesm2_1.001.cam.h1.2000_Z3.nc'\n",
    "varsFile = dataDir+'daily/f.e20.FHIST.f09_f09.cesm2_1.001.cam.h1.2000_RiVars.nc'\n",
    "topoFile = dataDir+'fv_0.9x1.25_nc3000_Nsw042_Nrs008_Co060_Fi001_ZR_sgh30_24km_GRNL_c170103.nc'\n",
    "pressFile = dataDir+'daily/f.e20.FHIST.f09_f09.cesm2_1.001.cam.h1.2000_PresLevs.nc'\n"
   ]
  },
  {
   "cell_type": "code",
   "execution_count": 3,
   "metadata": {},
   "outputs": [
    {
     "name": "stderr",
     "output_type": "stream",
     "text": [
      "<ipython-input-3-0c83a03feec1>:3: RuntimeWarning: Converting a CFTimeIndex with dates from a non-standard calendar, 'noleap', to a pandas.DatetimeIndex, which uses dates from the standard calendar.  This may lead to subtle errors in operations that depend on the length of time between dates.\n",
      "  z3_ds['time'] = z3_ds.indexes['time'].to_datetimeindex()\n",
      "<ipython-input-3-0c83a03feec1>:6: RuntimeWarning: Converting a CFTimeIndex with dates from a non-standard calendar, 'noleap', to a pandas.DatetimeIndex, which uses dates from the standard calendar.  This may lead to subtle errors in operations that depend on the length of time between dates.\n",
      "  varsDS['time'] = varsDS.indexes['time'].to_datetimeindex()\n",
      "<ipython-input-3-0c83a03feec1>:9: RuntimeWarning: Converting a CFTimeIndex with dates from a non-standard calendar, 'noleap', to a pandas.DatetimeIndex, which uses dates from the standard calendar.  This may lead to subtle errors in operations that depend on the length of time between dates.\n",
      "  pressDS['time'] = pressDS.indexes['time'].to_datetimeindex()\n"
     ]
    }
   ],
   "source": [
    "# Open files into datasets \n",
    "z3_ds         = xr.open_dataset(z3file, decode_times=True)\n",
    "z3_ds['time'] = z3_ds.indexes['time'].to_datetimeindex()\n",
    "\n",
    "varsDS         = xr.open_dataset(varsFile, decode_times=True)\n",
    "varsDS['time'] = varsDS.indexes['time'].to_datetimeindex()\n",
    "\n",
    "pressDS         = xr.open_dataset(pressFile, decode_times=True)\n",
    "pressDS['time'] = pressDS.indexes['time'].to_datetimeindex()\n",
    "\n",
    "topo_ds         = xr.open_dataset(topoFile, decode_times=True)\n"
   ]
  },
  {
   "cell_type": "code",
   "execution_count": 6,
   "metadata": {},
   "outputs": [],
   "source": [
    "# Limit to levels with pressures >850.0 hPa \n",
    "iLev = np.where(z3_ds.lev.values > 850.0)[0]\n",
    "\n",
    "z3_ds   = z3_ds.isel(lev=iLev)\n",
    "varsDS  = varsDS.isel(lev=iLev)\n",
    "pressDS = pressDS.isel(lev=iLev)\n"
   ]
  },
  {
   "cell_type": "code",
   "execution_count": 7,
   "metadata": {},
   "outputs": [
    {
     "data": {
      "text/plain": [
       "(192, 288)"
      ]
     },
     "execution_count": 7,
     "metadata": {},
     "output_type": "execute_result"
    }
   ],
   "source": [
    "# Read in a land mask at the same resolution \n",
    "testName = '/Users/mdfowler/Documents/Analysis/CLUBB_initial/data/f.e20.FHIST.f09_f09.cesm2_1.001.clm2.h0.1989-12.nc'\n",
    "testDF   = xr.open_dataset(testName)\n",
    "\n",
    "# Make land mask\n",
    "landMask              = testDF.landmask.values\n",
    "landMask[landMask==0] = np.nan\n",
    "\n",
    "np.shape(landMask)"
   ]
  },
  {
   "cell_type": "code",
   "execution_count": 8,
   "metadata": {},
   "outputs": [
    {
     "name": "stdout",
     "output_type": "stream",
     "text": [
      "Shape of Z3:    (360, 7, 192, 288)\n",
      "Shape of PHIS:  (360, 7, 192, 288)\n"
     ]
    }
   ],
   "source": [
    "# Get height (above ground level)\n",
    "Z3   = z3_ds.Z3.values*landMask\n",
    "PHIS = topo_ds.PHIS.values*landMask\n",
    "\n",
    "# Convert geopotential into geopotential height of surface\n",
    "PHIS = PHIS/9.81\n",
    "\n",
    "# Force PHIS to have same dimensions as Z3 \n",
    "PHISnew1 = np.repeat(PHIS[np.newaxis, :,:],np.shape(Z3)[1],axis=0)\n",
    "PHISnew  = np.repeat(PHISnew1[np.newaxis,:,:,:],np.shape(Z3)[0],axis=0)\n",
    "print('Shape of Z3:   ', np.shape(Z3))\n",
    "print('Shape of PHIS: ', np.shape(PHISnew))\n",
    "\n",
    "# Height agl is then just Z3 - PHISnew\n",
    "z_agl = (Z3 - PHISnew) * units.meters\n"
   ]
  },
  {
   "cell_type": "code",
   "execution_count": 9,
   "metadata": {},
   "outputs": [],
   "source": [
    "# Get potential temperature \n",
    "P = (pressDS.PRESSURE.values*landMask) * units('Pa')\n",
    "T = (varsDS.T.values*landMask)         * units('K')\n",
    "\n",
    "potTemp = mpc.potential_temperature(P,T)\n"
   ]
  },
  {
   "cell_type": "code",
   "execution_count": 10,
   "metadata": {},
   "outputs": [
    {
     "data": {
      "text/plain": [
       "(360, 7, 192, 288)"
      ]
     },
     "execution_count": 10,
     "metadata": {},
     "output_type": "execute_result"
    }
   ],
   "source": [
    "np.shape(potTemp)"
   ]
  },
  {
   "cell_type": "code",
   "execution_count": 11,
   "metadata": {},
   "outputs": [
    {
     "data": {
      "text/plain": [
       "(192,)"
      ]
     },
     "execution_count": 11,
     "metadata": {},
     "output_type": "execute_result"
    }
   ],
   "source": [
    "np.shape(varsDS.lat.values)"
   ]
  },
  {
   "cell_type": "code",
   "execution_count": 12,
   "metadata": {},
   "outputs": [],
   "source": [
    "# Clear variables from memory that aren't needed anymore\n",
    "del PHISnew\n",
    "del PHIS \n",
    "del Z3 \n",
    "del P\n",
    "del T \n",
    "del pressDS\n",
    "del z3_ds\n",
    "del topo_ds\n",
    "del testDF\n"
   ]
  },
  {
   "cell_type": "code",
   "execution_count": 14,
   "metadata": {},
   "outputs": [
    {
     "name": "stdout",
     "output_type": "stream",
     "text": [
      "Computing Ri...\n"
     ]
    }
   ],
   "source": [
    "# Compute gradient richardson number\n",
    "U = (varsDS.U.values) * units('m/s')\n",
    "V = (varsDS.V.values) * units('m/s')\n",
    "\n",
    "print('Computing Ri...')\n",
    "\n",
    "# Ri = np.full([], np.nan)\n",
    "\n",
    "# for iLat in range(len(varsDS.lat.values)):\n",
    "#     for iLon in range(len(varsDS.lon.values)):\n",
    "Ri = mpc.gradient_richardson_number(z_agl, potTemp, U, V, 1)\n"
   ]
  },
  {
   "cell_type": "code",
   "execution_count": 15,
   "metadata": {},
   "outputs": [
    {
     "data": {
      "text/plain": [
       "(360, 7, 192, 288)"
      ]
     },
     "execution_count": 15,
     "metadata": {},
     "output_type": "execute_result"
    }
   ],
   "source": [
    "np.shape(Ri)"
   ]
  },
  {
   "cell_type": "code",
   "execution_count": 25,
   "metadata": {},
   "outputs": [
    {
     "name": "stderr",
     "output_type": "stream",
     "text": [
      "<ipython-input-25-2a4e68483383>:1: MatplotlibDeprecationWarning: shading='flat' when X and Y have the same dimensions as C is deprecated since 3.3.  Either specify the corners of the quadrilaterals with X and Y, or pass shading='auto', 'nearest' or 'gouraud', or set rcParams['pcolor.shading'].  This will become an error two minor releases later.\n",
      "  plt.pcolormesh(varsDS.lon.values,varsDS.lat.values,np.squeeze(Ri[100,-1,:,:]),\n"
     ]
    },
    {
     "data": {
      "text/plain": [
       "<matplotlib.colorbar.Colorbar at 0x1a19855e0>"
      ]
     },
     "execution_count": 25,
     "metadata": {},
     "output_type": "execute_result"
    },
    {
     "data": {
      "image/png": "[encoded data removed]",
      "text/plain": [
       "<Figure size 432x288 with 2 Axes>"
      ]
     },
     "metadata": {
      "needs_background": "light"
     },
     "output_type": "display_data"
    }
   ],
   "source": [
    "plt.pcolormesh(varsDS.lon.values,varsDS.lat.values,np.squeeze(Ri[100,-1,:,:]), \n",
    "                vmax=80,vmin=0)\n",
    "plt.colorbar()"
   ]
  },
  {
   "cell_type": "code",
   "execution_count": 27,
   "metadata": {},
   "outputs": [
    {
     "data": {
      "text/plain": [
       "array([  0,   0,   0, ..., 359, 359, 359])"
      ]
     },
     "execution_count": 27,
     "metadata": {},
     "output_type": "execute_result"
    }
   ],
   "source": [
    "iLim = np.where(Ri<=0.25)[0]\n",
    "iLim"
   ]
  },
  {
   "cell_type": "code",
   "execution_count": null,
   "metadata": {},
   "outputs": [],
   "source": []
  }
 ],
 "metadata": {
  "kernelspec": {
   "display_name": "Python 3",
   "language": "python",
   "name": "python3"
  },
  "language_info": {
   "codemirror_mode": {
    "name": "ipython",
    "version": 3
   },
   "file_extension": ".py",
   "mimetype": "text/x-python",
   "name": "python",
   "nbconvert_exporter": "python",
   "pygments_lexer": "ipython3",
   "version": "3.9.1"
  }
 },
 "nbformat": 4,
 "nbformat_minor": 4
}
