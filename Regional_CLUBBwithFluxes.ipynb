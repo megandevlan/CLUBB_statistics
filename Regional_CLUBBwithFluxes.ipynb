{
 "cells": [
  {
   "cell_type": "markdown",
   "metadata": {},
   "source": [
    "## The Goal: Now that I've looked (at least briefly) at biases in latent heat flux, how about comparing with winds from CLUBB?\n",
    "\n",
    "<b>Author:</b> Meg Fowler <br>\n",
    "<b>Date:</b> 28 Aug 2020<br>\n"
   ]
  },
  {
   "cell_type": "code",
   "execution_count": 1,
   "metadata": {
    "ExecuteTime": {
     "end_time": "2020-08-28T19:52:29.354244Z",
     "start_time": "2020-08-28T19:52:27.898836Z"
    }
   },
   "outputs": [],
   "source": [
    "# Load libraries\n",
    "\n",
    "# Plotting utils \n",
    "import matplotlib.pyplot as plt \n",
    "import matplotlib.colors as colors\n",
    "import matplotlib.ticker as ticker \n",
    "import matplotlib.patches as patches\n",
    "import cartopy\n",
    "import cartopy.feature as cfeature\n",
    "import cartopy.crs as ccrs\n",
    "import cartopy.util\n",
    "\n",
    "# Analysis\n",
    "import Ngl\n",
    "import numpy\n",
    "import Nio\n",
    "import os\n",
    "import numpy as np \n",
    "import xarray as xr\n",
    "import datetime\n",
    "from datetime import date, timedelta\n",
    "import pandas as pd \n",
    "import regionmask\n",
    "import pickle\n",
    "\n"
   ]
  },
  {
   "cell_type": "markdown",
   "metadata": {},
   "source": [
    "## Read in data"
   ]
  },
  {
   "cell_type": "code",
   "execution_count": 3,
   "metadata": {
    "ExecuteTime": {
     "end_time": "2020-08-28T19:54:15.798968Z",
     "start_time": "2020-08-28T19:54:15.794485Z"
    }
   },
   "outputs": [],
   "source": [
    "# Read in bias \n",
    "fileDir  = '/Users/meganfowler/Documents/NCAR/Analysis/CLUBB_initial/data/'\n",
    "fileName = 'LH_bias_annAvg_Wm2.p' \n",
    "\n",
    "annBias_avg = pickle.load( open(fileDir+fileName, \"rb\") )\n"
   ]
  },
  {
   "cell_type": "markdown",
   "metadata": {},
   "source": [
    "To get the LHFLX files that are stored on /glade: <br>\n",
    "sshfs -o allow_root mdfowler@casper.ucar.edu:/glade/work/mdfowler/data/CLUBB_sim gp_fuse <br>"
   ]
  },
  {
   "cell_type": "code",
   "execution_count": 4,
   "metadata": {
    "ExecuteTime": {
     "end_time": "2020-08-28T19:58:34.869693Z",
     "start_time": "2020-08-28T19:58:34.866775Z"
    }
   },
   "outputs": [],
   "source": [
    "# Set up file stuff to read in all the data \n",
    "remoteDir    = '/Users/meganfowler/gp_fuse/'\n",
    "dataDir      = '/Users/meganfowler/Documents/NCAR/Analysis/CLUBB_initial/data/'\n",
    "\n",
    "nameStart    = 'f.e20.FHIST.f09_f09.cesm2_1.001.cam.h0.'\n",
    "nameEnd      = '_CLUBBwinds.nc'\n",
    "nameEnd_UV   = '_UV.nc'\n",
    "nameEnd_flux = '_sfcFluxes.nc'\n",
    "\n",
    "decadeList   = ['1980-89','1990-99','2000-14']\n"
   ]
  },
  {
   "cell_type": "code",
   "execution_count": 5,
   "metadata": {
    "ExecuteTime": {
     "end_time": "2020-08-28T19:58:51.183106Z",
     "start_time": "2020-08-28T19:58:48.936205Z"
    }
   },
   "outputs": [],
   "source": [
    "# Read in example file to get some constant fields\n",
    "testName = dataDir+nameStart+'1990-01.nc'\n",
    "testDF   = xr.open_dataset(testName)\n",
    "\n",
    "# Set lat, lon \n",
    "lat = testDF.lat\n",
    "lon = testDF.lon\n",
    "\n",
    "# Make land mask\n",
    "landFrac = np.squeeze(testDF.LANDFRAC.values)\n",
    "# Define as 'land' gridcell if land fraction > 0.5\n",
    "landMask = np.full([len(lat),len(lon)],np.nan)\n",
    "landMask[landFrac > 0.5] = 1\n"
   ]
  },
  {
   "cell_type": "code",
   "execution_count": 6,
   "metadata": {
    "ExecuteTime": {
     "end_time": "2020-08-28T20:16:53.860322Z",
     "start_time": "2020-08-28T20:00:46.494862Z"
    }
   },
   "outputs": [
    {
     "name": "stderr",
     "output_type": "stream",
     "text": [
      "<ipython-input-6-29dd2da6f36f>:7: RuntimeWarning: Converting a CFTimeIndex with dates from a non-standard calendar, 'noleap', to a pandas.DatetimeIndex, which uses dates from the standard calendar.  This may lead to subtle errors in operations that depend on the length of time between dates.\n",
      "  dataDF['time'] = dataDF.indexes['time'].to_datetimeindex() # Convert from cf time (non-standard calendar) to datetime\n",
      "<ipython-input-6-29dd2da6f36f>:11: RuntimeWarning: Converting a CFTimeIndex with dates from a non-standard calendar, 'noleap', to a pandas.DatetimeIndex, which uses dates from the standard calendar.  This may lead to subtle errors in operations that depend on the length of time between dates.\n",
      "  windDF['time'] = windDF.indexes['time'].to_datetimeindex()\n",
      "<ipython-input-6-29dd2da6f36f>:15: RuntimeWarning: Converting a CFTimeIndex with dates from a non-standard calendar, 'noleap', to a pandas.DatetimeIndex, which uses dates from the standard calendar.  This may lead to subtle errors in operations that depend on the length of time between dates.\n",
      "  flxDF['time'] = flxDF.indexes['time'].to_datetimeindex()\n"
     ]
    },
    {
     "name": "stdout",
     "output_type": "stream",
     "text": [
      "Done with decade  1980-89  ... \n",
      "    Number of times saved:  120\n",
      "Done with decade  1990-99  ... \n",
      "    Number of times saved:  240\n",
      "Done with decade  2000-14  ... \n",
      "    Number of times saved:  420\n"
     ]
    }
   ],
   "source": [
    "# Read in data by decade \n",
    "for iDec in range(len(decadeList)): \n",
    "    \n",
    "    # Open datasets for each decade \n",
    "    fileName = dataDir+nameStart+decadeList[iDec]+nameEnd\n",
    "    dataDF   = xr.open_dataset(fileName, decode_times=True)\n",
    "    dataDF['time'] = dataDF.indexes['time'].to_datetimeindex() # Convert from cf time (non-standard calendar) to datetime\n",
    "\n",
    "    UVfile = dataDir+nameStart+decadeList[iDec]+nameEnd_UV \n",
    "    windDF = xr.open_dataset(UVfile, decode_times=True)\n",
    "    windDF['time'] = windDF.indexes['time'].to_datetimeindex()\n",
    "    \n",
    "    flxFile = remoteDir+nameStart+decadeList[iDec]+nameEnd_flux\n",
    "    flxDF   = xr.open_dataset(flxFile, decode_times=True)\n",
    "    flxDF['time'] = flxDF.indexes['time'].to_datetimeindex()\n",
    "    \n",
    "    # Create *giant* datasets that span the full period of the simulations\n",
    "    if iDec==0:\n",
    "        fullDF = dataDF\n",
    "        fullUV = windDF\n",
    "        fullFlx = flxDF \n",
    "    else:\n",
    "        fullDF = xr.concat([fullDF, dataDF],  dim=\"time\")\n",
    "        fullUV = xr.concat([fullUV, windDF],  dim=\"time\")\n",
    "        fullFlx = xr.concat([fullFlx, flxDF], dim=\"time\")\n",
    "        \n",
    "    print('Done with decade ', decadeList[iDec], ' ... ')\n",
    "    print('    Number of times saved: ', len(fullFlx['time']))\n",
    "    "
   ]
  },
  {
   "cell_type": "markdown",
   "metadata": {},
   "source": [
    "## Some data processing "
   ]
  },
  {
   "cell_type": "code",
   "execution_count": 7,
   "metadata": {
    "ExecuteTime": {
     "end_time": "2020-08-28T20:22:44.735450Z",
     "start_time": "2020-08-28T20:22:44.665939Z"
    }
   },
   "outputs": [],
   "source": [
    "# To be able to easily access years, months, days - use Pandas \n",
    "dates = pd.DatetimeIndex(fullFlx['time'].values) \n",
    "\n",
    "# Let's use the same period used to get LHFLX biases (1982-2008)\n",
    "midTime = dates - timedelta(days=15)       # Get new dates array that has the right month/year in it \n",
    "iKeep   = np.where((midTime.year>=1982) & (midTime.year<=2008))[0]\n"
   ]
  },
  {
   "cell_type": "code",
   "execution_count": 10,
   "metadata": {
    "ExecuteTime": {
     "end_time": "2020-08-28T20:24:37.700098Z",
     "start_time": "2020-08-28T20:24:29.707478Z"
    }
   },
   "outputs": [],
   "source": [
    "# Now isolate variables, data selections, and flip levels \n",
    "LH  = fullFlx.LHFLX.values[iKeep,:,:]          # Latent heat flux (W/m2) \n",
    "UP2 = fullDF.UP2_CLUBB.values[iKeep,:,:,:]     # Zonal velocity variance (m2/s2)\n",
    "U   = fullUV.U.values[iKeep,:,:,:]             # Zonal wind (m/s)\n",
    "\n",
    "# Limit range of dates here too \n",
    "midTime = midTime[iKeep]\n",
    "\n",
    "# Flip along vertical (level) axis, so that index 0 is surface \n",
    "UP2 = np.flip(UP2, axis=1)\n",
    "U   = np.flip(U, axis=1)\n",
    "\n",
    "# Save levels themselves to arrays and flip them \n",
    "lev_interface = np.flip(fullDF.ilev.values)\n",
    "lev_middle    = np.flip(fullUV.lev.values)\n"
   ]
  },
  {
   "cell_type": "markdown",
   "metadata": {},
   "source": [
    "Now let's compute seasonal averages "
   ]
  },
  {
   "cell_type": "code",
   "execution_count": 12,
   "metadata": {
    "ExecuteTime": {
     "end_time": "2020-08-28T20:25:01.343277Z",
     "start_time": "2020-08-28T20:25:00.616612Z"
    }
   },
   "outputs": [],
   "source": [
    "# Now get averages of U and UP2\n",
    "iDJF = np.where((midTime.month==12) | (midTime.month<=2))[0]\n",
    "iMAM = np.where((midTime.month>=3)  & (midTime.month<=5))[0]\n",
    "iJJA = np.where((midTime.month>=6)  & (midTime.month<=8))[0]\n",
    "iSON = np.where((midTime.month>=9)  & (midTime.month<=11))[0]\n",
    "\n",
    "U_DJF = np.nanmean(U[iDJF,0,:,:], axis=0)\n",
    "U_MAM = np.nanmean(U[iMAM,0,:,:], axis=0)\n",
    "U_JJA = np.nanmean(U[iJJA,0,:,:], axis=0)\n",
    "U_SON = np.nanmean(U[iSON,0,:,:], axis=0)\n",
    "\n",
    "UP2_DJF = np.nanmean(UP2[iDJF,1,:,:], axis=0)\n",
    "UP2_MAM = np.nanmean(UP2[iMAM,1,:,:], axis=0)\n",
    "UP2_JJA = np.nanmean(UP2[iJJA,1,:,:], axis=0)\n",
    "UP2_SON = np.nanmean(UP2[iSON,1,:,:], axis=0)\n",
    "\n",
    "LH_DJF = np.nanmean(LH[iDJF,:,:], axis=0)\n",
    "LH_MAM = np.nanmean(LH[iMAM,:,:], axis=0)\n",
    "LH_JJA = np.nanmean(LH[iJJA,:,:], axis=0)\n",
    "LH_SON = np.nanmean(LH[iSON,:,:], axis=0)\n"
   ]
  },
  {
   "cell_type": "markdown",
   "metadata": {},
   "source": [
    "## Start looking into regions"
   ]
  },
  {
   "cell_type": "markdown",
   "metadata": {},
   "source": [
    "Take the approach of a 2D histogram, and represent density as a percentage of all gridcells in a given region. <br>\n",
    "<br>A few things to look at: \n",
    "* What's the connection between U and LHFLX? \n",
    "* What's the connection between UP2 and LHFLX? \n",
    "* Ideally, what's the bias of LHFLX like in each region, and season, but <b>problem with that</b> - I only have annual average LHFLX it seems like, at least as downloaded from ILAMB. So I need to find a source of flux observations that I can get some kind of seasonal resolution from. Reanalysis? That's of course got it's own issues, but maybe... <br>\n"
   ]
  },
  {
   "cell_type": "code",
   "execution_count": 51,
   "metadata": {
    "ExecuteTime": {
     "end_time": "2020-08-28T21:02:07.102239Z",
     "start_time": "2020-08-28T21:02:07.072041Z"
    }
   },
   "outputs": [],
   "source": [
    "# Define regions next...\n",
    "# Create 3D mask of the regions mapped out above \n",
    "#   (better for actually getting averages and masking out other regions)\n",
    "RegMask = regionmask.defined_regions.srex.mask_3D(lon, lat)\n"
   ]
  },
  {
   "cell_type": "code",
   "execution_count": 102,
   "metadata": {
    "ExecuteTime": {
     "end_time": "2020-08-28T21:31:32.298478Z",
     "start_time": "2020-08-28T21:31:32.295180Z"
    }
   },
   "outputs": [],
   "source": [
    "# Loop over regions... \n",
    "nRegions = len(RegMask.region.values)\n",
    "\n",
    "# Set up bin edges for both vars\n",
    "U_edges   = np.linspace(-10,10,31)\n",
    "UP2_edges = np.linspace(0,0.5,31)\n",
    "LH_edges  = np.linspace(-20, 80, 101)\n",
    "\n"
   ]
  },
  {
   "cell_type": "code",
   "execution_count": 108,
   "metadata": {
    "ExecuteTime": {
     "end_time": "2020-08-28T21:47:20.317981Z",
     "start_time": "2020-08-28T21:47:20.252324Z"
    }
   },
   "outputs": [
    {
     "ename": "ValueError",
     "evalue": "could not broadcast input array from shape (100,30) into shape (30,100)",
     "output_type": "error",
     "traceback": [
      "\u001b[0;31m---------------------------------------------------------------------------\u001b[0m",
      "\u001b[0;31mValueError\u001b[0m                                Traceback (most recent call last)",
      "\u001b[0;32m<ipython-input-108-2ba3c8fef8ef>\u001b[0m in \u001b[0;36m<module>\u001b[0;34m\u001b[0m\n\u001b[1;32m     62\u001b[0m     \u001b[0mH_UvUP2_SON\u001b[0m\u001b[0;34m[\u001b[0m\u001b[0miReg\u001b[0m\u001b[0;34m,\u001b[0m\u001b[0;34m:\u001b[0m\u001b[0;34m,\u001b[0m\u001b[0;34m:\u001b[0m\u001b[0;34m]\u001b[0m \u001b[0;34m=\u001b[0m \u001b[0;34m(\u001b[0m\u001b[0mH_UvUP2_SONtemp\u001b[0m\u001b[0;34m.\u001b[0m\u001b[0mT\u001b[0m\u001b[0;34m)\u001b[0m\u001b[0;34m/\u001b[0m\u001b[0mnp\u001b[0m\u001b[0;34m.\u001b[0m\u001b[0mnansum\u001b[0m\u001b[0;34m(\u001b[0m\u001b[0mrTest\u001b[0m\u001b[0;34m)\u001b[0m\u001b[0;34m\u001b[0m\u001b[0;34m\u001b[0m\u001b[0m\n\u001b[1;32m     63\u001b[0m \u001b[0;34m\u001b[0m\u001b[0m\n\u001b[0;32m---> 64\u001b[0;31m     \u001b[0mH_UvLH_DJF\u001b[0m\u001b[0;34m[\u001b[0m\u001b[0miReg\u001b[0m\u001b[0;34m,\u001b[0m\u001b[0;34m:\u001b[0m\u001b[0;34m,\u001b[0m\u001b[0;34m:\u001b[0m\u001b[0;34m]\u001b[0m \u001b[0;34m=\u001b[0m \u001b[0;34m(\u001b[0m\u001b[0mH_UvLH_DJFtemp\u001b[0m\u001b[0;34m.\u001b[0m\u001b[0mT\u001b[0m\u001b[0;34m)\u001b[0m\u001b[0;34m/\u001b[0m\u001b[0mnp\u001b[0m\u001b[0;34m.\u001b[0m\u001b[0mnansum\u001b[0m\u001b[0;34m(\u001b[0m\u001b[0mrTest\u001b[0m\u001b[0;34m)\u001b[0m \u001b[0;31m# Let each row list bins with common y range (part of how this function works)\u001b[0m\u001b[0;34m\u001b[0m\u001b[0;34m\u001b[0m\u001b[0m\n\u001b[0m\u001b[1;32m     65\u001b[0m     \u001b[0mH_UvLH_MAM\u001b[0m\u001b[0;34m[\u001b[0m\u001b[0miReg\u001b[0m\u001b[0;34m,\u001b[0m\u001b[0;34m:\u001b[0m\u001b[0;34m,\u001b[0m\u001b[0;34m:\u001b[0m\u001b[0;34m]\u001b[0m \u001b[0;34m=\u001b[0m \u001b[0;34m(\u001b[0m\u001b[0mH_UvLH_MAMtemp\u001b[0m\u001b[0;34m.\u001b[0m\u001b[0mT\u001b[0m\u001b[0;34m)\u001b[0m\u001b[0;34m/\u001b[0m\u001b[0mnp\u001b[0m\u001b[0;34m.\u001b[0m\u001b[0mnansum\u001b[0m\u001b[0;34m(\u001b[0m\u001b[0mrTest\u001b[0m\u001b[0;34m)\u001b[0m\u001b[0;34m\u001b[0m\u001b[0;34m\u001b[0m\u001b[0m\n\u001b[1;32m     66\u001b[0m     \u001b[0mH_UvLH_JJA\u001b[0m\u001b[0;34m[\u001b[0m\u001b[0miReg\u001b[0m\u001b[0;34m,\u001b[0m\u001b[0;34m:\u001b[0m\u001b[0;34m,\u001b[0m\u001b[0;34m:\u001b[0m\u001b[0;34m]\u001b[0m \u001b[0;34m=\u001b[0m \u001b[0;34m(\u001b[0m\u001b[0mH_UvLH_JJAtemp\u001b[0m\u001b[0;34m.\u001b[0m\u001b[0mT\u001b[0m\u001b[0;34m)\u001b[0m\u001b[0;34m/\u001b[0m\u001b[0mnp\u001b[0m\u001b[0;34m.\u001b[0m\u001b[0mnansum\u001b[0m\u001b[0;34m(\u001b[0m\u001b[0mrTest\u001b[0m\u001b[0;34m)\u001b[0m\u001b[0;34m\u001b[0m\u001b[0;34m\u001b[0m\u001b[0m\n",
      "\u001b[0;31mValueError\u001b[0m: could not broadcast input array from shape (100,30) into shape (30,100)"
     ]
    }
   ],
   "source": [
    "# Save output \n",
    "H_UvUP2_DJF = np.full([nRegions,len(U_edges)-1,len(UP2_edges)-1], np.nan)\n",
    "H_UvUP2_MAM = np.full([nRegions,len(U_edges)-1,len(UP2_edges)-1], np.nan)\n",
    "H_UvUP2_JJA = np.full([nRegions,len(U_edges)-1,len(UP2_edges)-1], np.nan)\n",
    "H_UvUP2_SON = np.full([nRegions,len(U_edges)-1,len(UP2_edges)-1], np.nan)\n",
    "\n",
    "H_UvLH_DJF = np.full([nRegions,len(U_edges)-1,len(LH_edges)-1], np.nan)\n",
    "H_UvLH_MAM = np.full([nRegions,len(U_edges)-1,len(LH_edges)-1], np.nan)\n",
    "H_UvLH_JJA = np.full([nRegions,len(U_edges)-1,len(LH_edges)-1], np.nan)\n",
    "H_UvLH_SON = np.full([nRegions,len(U_edges)-1,len(LH_edges)-1], np.nan)\n",
    "\n",
    "H_UP2vLH_DJF = np.full([nRegions,len(UP2_edges)-1,len(LH_edges)-1], np.nan)\n",
    "H_UP2vLH_MAM = np.full([nRegions,len(UP2_edges)-1,len(LH_edges)-1], np.nan)\n",
    "H_UP2vLH_JJA = np.full([nRegions,len(UP2_edges)-1,len(LH_edges)-1], np.nan)\n",
    "H_UP2vLH_SON = np.full([nRegions,len(UP2_edges)-1,len(LH_edges)-1], np.nan)\n",
    "\n",
    "\n",
    "# ----- Loop over regions to get 2D histogram data ---- # \n",
    "for iReg in range(nRegions): \n",
    "    # Get indices of selected region \n",
    "    rSel = RegMask.sel(region=iReg+1)\n",
    "    rMask = np.full([len(lat),len(lon)],np.nan)\n",
    "    rMask[rSel==True] = 1 \n",
    "    \n",
    "    # ---- Isolate regions of variables, flatten arrays ----- \n",
    "    U_regSel_DJF   = (U_DJF*rMask).reshape([len(lon)*len(lat)])\n",
    "    U_regSel_MAM   = (U_MAM*rMask).reshape([len(lon)*len(lat)])\n",
    "    U_regSel_JJA   = (U_JJA*rMask).reshape([len(lon)*len(lat)])\n",
    "    U_regSel_SON   = (U_SON*rMask).reshape([len(lon)*len(lat)])\n",
    "    \n",
    "    UP2_regSel_DJF = (UP2_DJF*rMask).reshape([len(lon)*len(lat)])\n",
    "    UP2_regSel_MAM = (UP2_MAM*rMask).reshape([len(lon)*len(lat)])\n",
    "    UP2_regSel_JJA = (UP2_JJA*rMask).reshape([len(lon)*len(lat)])\n",
    "    UP2_regSel_SON = (UP2_SON*rMask).reshape([len(lon)*len(lat)])\n",
    "    \n",
    "    LH_regSel_DJF  = (LH_DJF*rMask).reshape([len(lon)*len(lat)])\n",
    "    LH_regSel_MAM  = (LH_MAM*rMask).reshape([len(lon)*len(lat)])\n",
    "    LH_regSel_JJA  = (LH_JJA*rMask).reshape([len(lon)*len(lat)])\n",
    "    LH_regSel_SON  = (LH_SON*rMask).reshape([len(lon)*len(lat)])\n",
    "    \n",
    "    # ----- Get 2D histogram info -----\n",
    "    H_UvUP2_DJFtemp, U_edges, UP2_edges = np.histogram2d(U_regSel_DJF, UP2_regSel_DJF, bins=(U_edges, UP2_edges))\n",
    "    H_UvUP2_MAMtemp, U_edges, UP2_edges = np.histogram2d(U_regSel_MAM, UP2_regSel_MAM, bins=(U_edges, UP2_edges))\n",
    "    H_UvUP2_JJAtemp, U_edges, UP2_edges = np.histogram2d(U_regSel_JJA, UP2_regSel_JJA, bins=(U_edges, UP2_edges))\n",
    "    H_UvUP2_SONtemp, U_edges, UP2_edges = np.histogram2d(U_regSel_SON, UP2_regSel_SON, bins=(U_edges, UP2_edges))\n",
    "    \n",
    "    H_UvLH_DJFtemp, U_edges, LH_edges = np.histogram2d(U_regSel_DJF, LH_regSel_DJF, bins=(U_edges, LH_edges))\n",
    "    H_UvLH_MAMtemp, U_edges, LH_edges = np.histogram2d(U_regSel_MAM, LH_regSel_MAM, bins=(U_edges, LH_edges))\n",
    "    H_UvLH_JJAtemp, U_edges, LH_edges = np.histogram2d(U_regSel_JJA, LH_regSel_JJA, bins=(U_edges, LH_edges))\n",
    "    H_UvLH_SONtemp, U_edges, LH_edges = np.histogram2d(U_regSel_SON, LH_regSel_SON, bins=(U_edges, LH_edges))\n",
    "    \n",
    "    H_UP2vLH_DJFtemp, U_edges, LH_edges = np.histogram2d(UP2_regSel_DJF, LH_regSel_DJF, bins=(U_edges, LH_edges))\n",
    "    H_UP2vLH_MAMtemp, U_edges, LH_edges = np.histogram2d(UP2_regSel_MAM, LH_regSel_MAM, bins=(U_edges, LH_edges))\n",
    "    H_UP2vLH_JJAtemp, U_edges, LH_edges = np.histogram2d(UP2_regSel_JJA, LH_regSel_JJA, bins=(U_edges, LH_edges))\n",
    "    H_UP2vLH_SONtemp, U_edges, LH_edges = np.histogram2d(UP2_regSel_SON, LH_regSel_SON, bins=(U_edges, LH_edges))\n",
    "    \n",
    "    # ----- Save all regions to large array -----\n",
    "    #    Units are as fraction of gridcells in region; x100 to get pct \n",
    "    H_UvUP2_DJF[iReg,:,:] = (H_UvUP2_DJFtemp.T)/np.nansum(rTest) # Let each row list bins with common y range (part of how this function works)\n",
    "    H_UvUP2_MAM[iReg,:,:] = (H_UvUP2_MAMtemp.T)/np.nansum(rTest)\n",
    "    H_UvUP2_JJA[iReg,:,:] = (H_UvUP2_JJAtemp.T)/np.nansum(rTest)\n",
    "    H_UvUP2_SON[iReg,:,:] = (H_UvUP2_SONtemp.T)/np.nansum(rTest)\n",
    "    \n",
    "    H_UvLH_DJF[iReg,:,:] = (H_UvLH_DJFtemp.T)/np.nansum(rTest) # Let each row list bins with common y range (part of how this function works)\n",
    "    H_UvLH_MAM[iReg,:,:] = (H_UvLH_MAMtemp.T)/np.nansum(rTest)\n",
    "    H_UvLH_JJA[iReg,:,:] = (H_UvLH_JJAtemp.T)/np.nansum(rTest)\n",
    "    H_UvLH_SON[iReg,:,:] = (H_UvLH_SONtemp.T)/np.nansum(rTest)\n",
    "    \n",
    "    H_UP2vLH_DJF[iReg,:,:] = (H_UP2vLH_DJFtemp.T)/np.nansum(rTest) # Let each row list bins with common y range (part of how this function works)\n",
    "    H_UP2vLH_MAM[iReg,:,:] = (H_UP2vLH_MAMtemp.T)/np.nansum(rTest)\n",
    "    H_UP2vLH_JJA[iReg,:,:] = (H_UP2vLH_JJAtemp.T)/np.nansum(rTest)\n",
    "    H_UP2vLH_SON[iReg,:,:] = (H_UP2vLH_SONtemp.T)/np.nansum(rTest)\n",
    "    \n",
    "    "
   ]
  },
  {
   "cell_type": "code",
   "execution_count": 109,
   "metadata": {
    "ExecuteTime": {
     "end_time": "2020-08-28T21:48:58.009994Z",
     "start_time": "2020-08-28T21:48:58.006902Z"
    }
   },
   "outputs": [
    {
     "data": {
      "text/plain": [
       "(30, 100)"
      ]
     },
     "execution_count": 109,
     "metadata": {},
     "output_type": "execute_result"
    }
   ],
   "source": [
    "np.shape(H_UvLH_DJFtemp)"
   ]
  },
  {
   "cell_type": "code",
   "execution_count": null,
   "metadata": {},
   "outputs": [],
   "source": []
  },
  {
   "cell_type": "code",
   "execution_count": null,
   "metadata": {},
   "outputs": [],
   "source": []
  },
  {
   "cell_type": "code",
   "execution_count": null,
   "metadata": {},
   "outputs": [],
   "source": []
  },
  {
   "cell_type": "code",
   "execution_count": 104,
   "metadata": {
    "ExecuteTime": {
     "end_time": "2020-08-28T21:31:37.558015Z",
     "start_time": "2020-08-28T21:31:37.552013Z"
    }
   },
   "outputs": [],
   "source": [
    "# --- Testing section to pick out region \n",
    "\n",
    "iReg = 0\n",
    "rSel = RegMask.sel(region=iReg+1)\n",
    "\n",
    "rTest = np.full([len(lat),len(lon)],np.nan)\n",
    "rTest[rSel==True] = 1 \n",
    "\n",
    "U_regSel_DJF   = (U_DJF*rTest).reshape([len(lon)*len(lat)])\n",
    "UP2_regSel_DJF = (UP2_DJF*rTest).reshape([len(lon)*len(lat)])\n",
    "LH_regSel_DJF  = (LH_DJF*rTest).reshape([len(lon)*len(lat)])\n",
    "\n",
    "# plt.contourf(U_regSel_DJF)\n",
    "# plt.colorbar() \n",
    "\n"
   ]
  },
  {
   "cell_type": "code",
   "execution_count": 105,
   "metadata": {
    "ExecuteTime": {
     "end_time": "2020-08-28T21:31:37.946493Z",
     "start_time": "2020-08-28T21:31:37.940353Z"
    }
   },
   "outputs": [],
   "source": [
    "H_reg_DJF, U_edges, LH_edges = np.histogram2d(U_regSel_DJF, LH_regSel_DJF, bins=(U_edges, LH_edges))\n"
   ]
  },
  {
   "cell_type": "code",
   "execution_count": 106,
   "metadata": {
    "ExecuteTime": {
     "end_time": "2020-08-28T21:31:38.640587Z",
     "start_time": "2020-08-28T21:31:38.451150Z"
    }
   },
   "outputs": [
    {
     "data": {
      "text/plain": [
       "<matplotlib.colorbar.Colorbar at 0x7fe335264760>"
      ]
     },
     "execution_count": 106,
     "metadata": {},
     "output_type": "execute_result"
    },
    {
     "data": {
      "image/png": "[encoded data removed]",
      "text/plain": [
       "<Figure size 432x288 with 2 Axes>"
      ]
     },
     "metadata": {
      "needs_background": "light"
     },
     "output_type": "display_data"
    }
   ],
   "source": [
    "X,Y = np.meshgrid(U_edges, LH_edges)\n",
    "\n",
    "plt.pcolormesh(X,Y, 100*((H_reg_DJF.T)/np.nansum(rTest)),cmap='Blues')\n",
    "plt.colorbar()"
   ]
  },
  {
   "cell_type": "code",
   "execution_count": 94,
   "metadata": {
    "ExecuteTime": {
     "end_time": "2020-08-28T21:28:06.950401Z",
     "start_time": "2020-08-28T21:28:06.946327Z"
    }
   },
   "outputs": [
    {
     "data": {
      "text/plain": [
       "663"
      ]
     },
     "execution_count": 94,
     "metadata": {},
     "output_type": "execute_result"
    }
   ],
   "source": [
    "np.nansum(~np.isnan(rTest))"
   ]
  },
  {
   "cell_type": "code",
   "execution_count": 95,
   "metadata": {
    "ExecuteTime": {
     "end_time": "2020-08-28T21:28:11.540771Z",
     "start_time": "2020-08-28T21:28:11.536672Z"
    }
   },
   "outputs": [
    {
     "data": {
      "text/plain": [
       "(30, 30)"
      ]
     },
     "execution_count": 95,
     "metadata": {},
     "output_type": "execute_result"
    }
   ],
   "source": [
    "(H_reg_DJF.T)/np.nansum(rTest)"
   ]
  },
  {
   "cell_type": "code",
   "execution_count": null,
   "metadata": {},
   "outputs": [],
   "source": []
  }
 ],
 "metadata": {
  "kernelspec": {
   "display_name": "Python 3",
   "language": "python",
   "name": "python3"
  },
  "language_info": {
   "codemirror_mode": {
    "name": "ipython",
    "version": 3
   },
   "file_extension": ".py",
   "mimetype": "text/x-python",
   "name": "python",
   "nbconvert_exporter": "python",
   "pygments_lexer": "ipython3",
   "version": "3.8.5"
  }
 },
 "nbformat": 4,
 "nbformat_minor": 4
}
