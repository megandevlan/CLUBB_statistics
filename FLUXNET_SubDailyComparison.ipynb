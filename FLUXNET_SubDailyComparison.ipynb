{
 "cells": [
  {
   "cell_type": "code",
   "execution_count": 1,
   "metadata": {},
   "outputs": [],
   "source": [
    "# Load libraries\n",
    "\n",
    "# Plotting utils \n",
    "import matplotlib.pyplot as plt \n",
    "import matplotlib.colors as colors\n",
    "import matplotlib.ticker as ticker \n",
    "import matplotlib.patches as patches\n",
    "import matplotlib.animation as animation\n",
    "import matplotlib as matplotlib\n",
    "import cartopy\n",
    "import cartopy.feature as cfeature\n",
    "import cartopy.crs as ccrs\n",
    "import cartopy.util\n",
    "\n",
    "# Analysis\n",
    "import os\n",
    "import numpy as np \n",
    "import xarray as xr\n",
    "import datetime\n",
    "from   datetime import date, timedelta\n",
    "import pandas as pd \n",
    "#import regionmask\n",
    "import pickle\n",
    "import scipy.stats as stats\n",
    "import glob\n"
   ]
  },
  {
   "cell_type": "code",
   "execution_count": 2,
   "metadata": {},
   "outputs": [],
   "source": [
    "import warnings\n",
    "warnings.filterwarnings('once')\n"
   ]
  },
  {
   "cell_type": "markdown",
   "metadata": {},
   "source": [
    "## Read in FLUXNET data"
   ]
  },
  {
   "cell_type": "code",
   "execution_count": 3,
   "metadata": {},
   "outputs": [
    {
     "name": "stderr",
     "output_type": "stream",
     "text": [
      "/Users/mdfowler/opt/anaconda3/envs/metPy/lib/python3.9/site-packages/ipykernel/ipkernel.py:283: DeprecationWarning: `should_run_async` will not call `transform_cell` automatically in the future. Please pass the result to `transformed_cell` argument and any exception that happen during thetransform in `preprocessing_exc_tuple` in IPython 7.17 and above.\n",
      "  and should_run_async(code)\n"
     ]
    },
    {
     "name": "stdout",
     "output_type": "stream",
     "text": [
      "Available site characteristics (metadata) include: \n",
      "\n",
      " ['SITE_ID' 'SITE_NAME' 'FLUXNET2015' 'FLUXNET-CH4' 'LOCATION_LAT'\n",
      " 'LOCATION_LONG' 'LOCATION_ELEV' 'IGBP' 'MAT' 'MAP'] \n",
      "\n"
     ]
    }
   ],
   "source": [
    "# --------------------------------------\n",
    "# Define data directory: \n",
    "# --------------------------------------\n",
    "fluxnetDir   = '/Users/mdfowler/Documents/Analysis/Coupling_initial/data/FLUXNET2015/'\n",
    "\n",
    "# --------------------------------------\n",
    "# Get general site info\n",
    "# --------------------------------------\n",
    "siteInfoFile = fluxnetDir+'SiteList.csv'\n",
    "# Now read that CSV file into a pandas dataframe \n",
    "siteInfoDF = pd.read_csv(siteInfoFile)\n",
    "\n",
    "# Print out information available:\n",
    "print('Available site characteristics (metadata) include: \\n\\n', siteInfoDF.columns.values, '\\n')\n",
    "\n",
    "# --------------------------------------\n",
    "# And read in metadata for good measure\n",
    "# --------------------------------------\n",
    "metadataFile = fluxnetDir+'FLX_AA-Flx_BIF_ALL_20200501/FLX_AA-Flx_BIF_DD_20200501.xlsx'\n",
    "\n",
    "# Read in that file \n",
    "metadataDF = pd.read_excel(metadataFile)\n"
   ]
  },
  {
   "cell_type": "code",
   "execution_count": 4,
   "metadata": {},
   "outputs": [],
   "source": [
    "# --------------------------------------\n",
    "# Get a list of all fluxnet data files\n",
    "# --------------------------------------\n",
    "dataFiles = glob.glob(fluxnetDir + 'FLX_*/*SUBSET_H?*')\n"
   ]
  },
  {
   "cell_type": "code",
   "execution_count": 5,
   "metadata": {},
   "outputs": [],
   "source": [
    "# ------------------------------------------\n",
    "# Define a function to read in FLUXNET data \n",
    "# ------------------------------------------\n",
    "\n",
    "# --------------------------------------------------------\n",
    "# Function to read requested variables from FLUXNET file. \n",
    "# - - - - - - - - - - - - - - - - - - - - - - - - - - - - \n",
    "# \n",
    "# Inputs:  fileName --> Full path to FLUXNET data file \n",
    "#          varNames --> An array of variable names to be \n",
    "#                       retrieved from said data file. \n",
    "#                       NOTE: If you wish to retrieve *all* \n",
    "#                       variables, pass the string 'ALL'. \n",
    "#          Note: varInfo found here\n",
    "#                https://fluxnet.org/data/fluxnet2015-dataset/subset-data-product/\n",
    "#  \n",
    "# Outputs: fluxnetID --> ID string used to identify station\n",
    "#          fluxnetDS --> An x-array dataset containing the \n",
    "#                        requested variables.\n",
    "#                        Missing values will be set to NaN. \n",
    "# \n",
    "# --------------------------------------------------------\n",
    "\n",
    "def readFLUXNET_var(fileName, varNames): \n",
    "    # Get ID of station \n",
    "    startID   = fileName.find('FLX_')\n",
    "    fluxnetID = fileName[startID+4:startID+10]\n",
    "    \n",
    "    # print('Reading in site - ', fluxnetID)\n",
    "    \n",
    "    # Read in CSV file containing data \n",
    "    dataDF = pd.read_csv(fileName)\n",
    "    \n",
    "    # Return ALL variables from dataDF if requested\n",
    "    if varNames=='ALL':\n",
    "        fluxnetDF = dataDF\n",
    "        \n",
    "        # Set any value that's missing to NaN (not -999)\n",
    "        fluxnetDF = fluxnetDF.replace(-9999, np.nan)\n",
    "\n",
    "        \n",
    "        # If time has been requested, reformat to pandas make index\n",
    "        fluxnetDF['TIMESTAMP_START'] = pd.to_datetime(fluxnetDF['TIMESTAMP_START'].values, format='%Y%m%d%H%M')\n",
    "        fluxnetDF = fluxnetDF.set_index(['TIMESTAMP_START'])\n",
    "        \n",
    "        # Convert dataframe to Xarray Dataset (required to use coupling metrics toolbox)\n",
    "        fluxnetDS = fluxnetDF.to_xarray()\n",
    "            \n",
    "    # Reduce returned DF to contain only variables of interest  \n",
    "    else:\n",
    "        \n",
    "        # Check that requested variables are available in specific file\n",
    "        errCount = 0                       # Initialize flag for error \n",
    "        colNames = dataDF.columns.values   # Available variables in file \n",
    "        \n",
    "        for iVar in range(len(varNames)):  # Check each variable individually\n",
    "            if (varNames[iVar] in colNames)==False:\n",
    "                # Turn on print statement for more verbose output\n",
    "                # print('** ERROR: %13s   not contained in file for %8s  **' %(varNames[iVar], fluxnetID))\n",
    "                \n",
    "                # If any variable is not conatined in file, return a NaN \n",
    "                fluxnetDS = -999\n",
    "                errCount  = errCount+1\n",
    "                \n",
    "        # If all the variables *are* available, isolate those in DF and return that\n",
    "        if errCount == 0: \n",
    "            fluxnetDF = dataDF[varNames]\n",
    "            \n",
    "            # Set any value that's missing to NaN (not -999)\n",
    "            fluxnetDF = fluxnetDF.replace(-9999, np.nan)\n",
    "            \n",
    "            # If time has been requested, reformat to pandas make index\n",
    "            if ('TIMESTAMP_START' in varNames)==True:\n",
    "                fluxnetDF['TIMESTAMP_START'] = pd.to_datetime(fluxnetDF['TIMESTAMP_START'].values, format='%Y%m%d%H%M')\n",
    "                fluxnetDF = fluxnetDF.set_index(['TIMESTAMP_START'])\n",
    "        \n",
    "            # Convert dataframe to Xarray Dataset (required to use coupling metrics toolbox)\n",
    "            fluxnetDS = fluxnetDF.to_xarray()\n",
    "    \n",
    "    return(fluxnetID, fluxnetDS)\n"
   ]
  },
  {
   "cell_type": "code",
   "execution_count": 6,
   "metadata": {
    "scrolled": true
   },
   "outputs": [],
   "source": [
    "# Define emtpy arrays to save stuff into \n",
    "startTime_fluxnet = np.full([len(dataFiles)], np.nan)\n",
    "endTime_fluxnet   = np.full([len(dataFiles)], np.nan)\n",
    "nMonths_fluxnet   = np.full([len(dataFiles)], np.nan)\n",
    "# allStationID      = np.empty([len(dataFiles)]).astype(str)\n",
    "\n",
    "# Variables I want returned:\n",
    "varNames = ['TIMESTAMP_START','H_F_MDS','LE_F_MDS','WS_F','P_F','PA_F','TA_F']\n",
    "\n",
    "# Loop over each station (data file)\n",
    "for iStation in range(len(dataFiles)): \n",
    "    \n",
    "    # Read in data \n",
    "    # ----------------------------------------------------------\n",
    "    fluxnetID,fluxnetDS = readFLUXNET_var(dataFiles[iStation], varNames)\n",
    "#     allStationID[iStation] = fluxnetID\n",
    "    \n",
    "    # Save lat and lon for this station \n",
    "    # ----------------------------------------------------------\n",
    "    indStation  = np.where(fluxnetID==siteInfoDF['SITE_ID'])\n",
    "    lat_fluxnet = siteInfoDF['LOCATION_LAT'].values[indStation]\n",
    "    lon_fluxnet = siteInfoDF['LOCATION_LONG'].values[indStation]\n",
    "    \n",
    "    # Check that there was data saved for this particular site: \n",
    "    # ----------------------------------------------------------\n",
    "    if (type(fluxnetDS)==int):\n",
    "        print('No data for station: %8s' % fluxnetID)\n",
    "    \n",
    "    elif ( (np.all(np.isnan(fluxnetDS['H_F_MDS']))==True) | (np.all(np.isnan(fluxnetDS['WS_F']))==True) | (np.all(np.isnan(fluxnetDS['LE_F_MDS']))==True) ):\n",
    "        print('No data for station (all Nan): %8s' % fluxnetID)\n",
    "        \n",
    "    # If data is present: \n",
    "    # ----------------------------------------------------------\n",
    "    else:        \n",
    "        # Only consider where data is actually present for selected vars\n",
    "        iReal      = np.where((np.isfinite(fluxnetDS['LE_F_MDS'])==True) & \n",
    "                              (np.isfinite(fluxnetDS['H_F_MDS'])==True) & \n",
    "                              (np.isfinite(fluxnetDS['WS_F'])==True) & \n",
    "                              (np.isfinite(fluxnetDS['P_F'])==True) &\n",
    "                              (np.isfinite(fluxnetDS['PA_F'])==True) &   \n",
    "                              (np.isfinite(fluxnetDS['TA_F'])==True))[0]\n",
    "        fluxnetDS  = fluxnetDS.isel(TIMESTAMP_START=iReal)\n",
    "#         # Upsample to 3-hourly?\n",
    "#         fluxnetDS = fluxnetDS.resample(TIMESTAMP_START='3H').mean()\n",
    "        \n",
    "        # Check how long data is available for and isolate JJA \n",
    "        # -----------------------------------------------------------\n",
    "        startTime_fluxnet[iStation]  = fluxnetDS['TIMESTAMP_START'].values[0]\n",
    "        endTime_fluxnet[iStation]    = fluxnetDS['TIMESTAMP_START'].values[-1]\n",
    "        \n",
    "        dateRange = pd.date_range(start=startTime_fluxnet[iStation],end=endTime_fluxnet[iStation],freq='M')\n",
    "        nMonths_fluxnet[iStation] = len(dateRange)\n"
   ]
  },
  {
   "cell_type": "code",
   "execution_count": 7,
   "metadata": {},
   "outputs": [
    {
     "name": "stdout",
     "output_type": "stream",
     "text": [
      "Number of stations with at least 5 years of data:  114\n",
      "\n",
      "Looking at every station available...\n",
      "Earliest start of data:     1992-01-01 00:00:00\n",
      "Latest end of data:         2014-12-31 23:30:00\n",
      "\n",
      "Of stations with at least 5 years of data...\n",
      "Earliest start of data:     1992-01-01 00:00:00\n",
      "Latest end of data:         2014-12-31 23:30:00\n"
     ]
    },
    {
     "name": "stderr",
     "output_type": "stream",
     "text": [
      "/Users/mdfowler/opt/anaconda3/envs/metPy/lib/python3.9/site-packages/ipykernel/ipkernel.py:283: DeprecationWarning: `should_run_async` will not call `transform_cell` automatically in the future. Please pass the result to `transformed_cell` argument and any exception that happen during thetransform in `preprocessing_exc_tuple` in IPython 7.17 and above.\n",
      "  and should_run_async(code)\n"
     ]
    }
   ],
   "source": [
    "# Check how many/which stations have enough years of data to be used, then\n",
    "#    print some useful information on all that and \n",
    "\n",
    "iMinStart = np.where(startTime_fluxnet==np.nanmin(startTime_fluxnet))[0]\n",
    "iMaxEnd   = np.where(endTime_fluxnet==np.nanmax(endTime_fluxnet))[0]\n",
    "\n",
    "limYears = 5 \n",
    "iStation_limYears = np.where(nMonths_fluxnet>=limYears*12)[0]\n",
    "\n",
    "print('Number of stations with at least 5 years of data: ', len(iStation_limYears))\n",
    "print()\n",
    "\n",
    "print('Looking at every station available...')\n",
    "print('Earliest start of data:    ', pd.DatetimeIndex(startTime_fluxnet[iMinStart])[0] )\n",
    "print('Latest end of data:        ', pd.DatetimeIndex(endTime_fluxnet[iMaxEnd])[0] )\n",
    "\n",
    "print()\n",
    "del iMinStart\n",
    "del iMaxEnd\n",
    "\n",
    "startTime_fluxnet_sel = startTime_fluxnet[iStation_limYears]\n",
    "endTime_fluxnet_sel   = endTime_fluxnet[iStation_limYears]\n",
    "\n",
    "iMinStart = np.where(startTime_fluxnet_sel==np.nanmin(startTime_fluxnet_sel))[0]\n",
    "iMaxEnd   = np.where(endTime_fluxnet_sel==np.nanmax(endTime_fluxnet_sel))[0]\n",
    "print('Of stations with at least 5 years of data...')\n",
    "print('Earliest start of data:    ', pd.DatetimeIndex(startTime_fluxnet_sel[iMinStart])[0] )\n",
    "print('Latest end of data:        ', pd.DatetimeIndex(endTime_fluxnet_sel[iMaxEnd])[0] )\n",
    "\n"
   ]
  },
  {
   "cell_type": "code",
   "execution_count": 8,
   "metadata": {},
   "outputs": [
    {
     "name": "stdout",
     "output_type": "stream",
     "text": [
      "Max number of days:  403248\n"
     ]
    }
   ],
   "source": [
    "# So let's filter stations to use just the ones that have at least 5 years of data \n",
    "#    (or whatever the limYears threshold is set to above...)\n",
    "dataFiles_filter = np.squeeze(dataFiles)[iStation_limYears]\n",
    "\n",
    "# Let's also figure out just how many days we'll need to create empty arrays for \n",
    "dayRange = pd.date_range(start=pd.DatetimeIndex(startTime_fluxnet_sel[iMinStart])[0],\n",
    "                         end=pd.DatetimeIndex(endTime_fluxnet_sel[iMaxEnd])[0],\n",
    "                         freq='30min')\n",
    "\n",
    "# dayRange = pd.date_range(start=pd.DatetimeIndex(startTime_fluxnet_sel[iMinStart])[0],\n",
    "#                          end=pd.DatetimeIndex(endTime_fluxnet_sel[iMaxEnd])[0],\n",
    "#                          freq='3H')\n",
    "nDays = len(dayRange)\n",
    "\n",
    "print('Max number of days: ', nDays)"
   ]
  },
  {
   "cell_type": "code",
   "execution_count": 9,
   "metadata": {},
   "outputs": [],
   "source": [
    "# Define emtpy arrays to save stuff into \n",
    "lat_fluxnet     = np.full([len(dataFiles_filter)], np.nan)\n",
    "lon_fluxnet     = np.full([len(dataFiles_filter)], np.nan)\n",
    "stationID       = np.empty([len(dataFiles_filter)]).astype(str)\n",
    "fluxnet_SH      = np.full([len(dataFiles_filter), nDays], np.nan)    # H_F_MDS  [W/m2]\n",
    "fluxnet_LH      = np.full([len(dataFiles_filter), nDays], np.nan)    # LE_F_MDS [W/m2] \n",
    "fluxnet_spd     = np.full([len(dataFiles_filter), nDays], np.nan)    # WS_F     [m/s]\n",
    "fluxnet_precip  = np.full([len(dataFiles_filter), nDays], np.nan)    # P_F      [mm/day - summed from half/hourly for daily data]\n",
    "fluxnet_pressr  = np.full([len(dataFiles_filter), nDays], np.nan)    # PA_F     [kPa] -- seriously? kPa? \n",
    "fluxnet_temp    = np.full([len(dataFiles_filter), nDays], np.nan)    # TA_F     [deg C]\n",
    "\n",
    "# Variables I want returned:\n",
    "varNames = ['TIMESTAMP_START','H_F_MDS','LE_F_MDS','WS_F','P_F','PA_F','TA_F']\n",
    "\n",
    "# Loop over each station (data file)\n",
    "for iStation in range(len(dataFiles_filter)):\n",
    "    \n",
    "    # Read in data \n",
    "    # ----------------------------------------------------------\n",
    "    fluxnetID,fluxnetDS = readFLUXNET_var(dataFiles_filter[iStation], varNames)\n",
    "    \n",
    "    # Save lat and lon for this station \n",
    "    # ----------------------------------------------------------\n",
    "    indStation            = np.where(fluxnetID==siteInfoDF['SITE_ID'])\n",
    "    lat_fluxnet[iStation] = siteInfoDF['LOCATION_LAT'].values[indStation]\n",
    "    lon_fluxnet[iStation] = siteInfoDF['LOCATION_LONG'].values[indStation]\n",
    "    stationID[iStation]   = fluxnetID\n",
    "    \n",
    "    # Check that there was data saved for this particular site: \n",
    "    # ----------------------------------------------------------\n",
    "    if (type(fluxnetDS)==int):\n",
    "        print('No data for station: %8s' % fluxnetID)\n",
    "    \n",
    "    elif ( (np.all(np.isnan(fluxnetDS['H_F_MDS']))==True) | (np.all(np.isnan(fluxnetDS['WS_F']))==True) | (np.all(np.isnan(fluxnetDS['LE_F_MDS']))==True) ):\n",
    "        print('No data for station: %8s' % fluxnetID)\n",
    "        \n",
    "    # If data is present: \n",
    "    # ----------------------------------------------------------\n",
    "    else:        \n",
    "        # Only consider where data is actually present for selected vars\n",
    "        iReal      = np.where((np.isfinite(fluxnetDS['LE_F_MDS'])==True) & \n",
    "                              (np.isfinite(fluxnetDS['H_F_MDS'])==True) & \n",
    "                              (np.isfinite(fluxnetDS['WS_F'])==True) & \n",
    "                              (np.isfinite(fluxnetDS['P_F'])==True) &\n",
    "                              (np.isfinite(fluxnetDS['PA_F'])==True) &   \n",
    "                              (np.isfinite(fluxnetDS['TA_F'])==True))[0]\n",
    "        fluxnetDS  = fluxnetDS.isel(TIMESTAMP_START=iReal)\n",
    " \n",
    "        \n",
    "        # Check where to save data in time arrays \n",
    "        # -----------------------------------------------------------\n",
    "        startTime_fluxnet = pd.DatetimeIndex(fluxnetDS['TIMESTAMP_START'].values)[0]\n",
    "        endTime_fluxnet   = pd.DatetimeIndex(fluxnetDS['TIMESTAMP_START'].values)[-1]\n",
    "        \n",
    "        iTime_start = int(np.where(startTime_fluxnet==dayRange)[0])\n",
    "        iTime_end   = int(np.where(endTime_fluxnet==dayRange)[0])\n",
    "        \n",
    "#         # Upsample to 3-hourly?\n",
    "#         fluxnetDS=fluxnetDS.resample(TIMESTAMP_START='3H').mean()\n",
    "        \n",
    "        # If any 30-minute period is missing, fill it in with NaN's but keep a row present for it \n",
    "        fluxnetDS = fluxnetDS.reindex({'TIMESTAMP_START': dayRange[iTime_start:(iTime_end+1)]})\n",
    "       \n",
    "        # Save timeseries of each variable out to arrays \n",
    "        # -----------------------------------------------------------\n",
    "        fluxnet_SH[iStation,iTime_start:(iTime_end+1)]     = fluxnetDS['H_F_MDS'].values\n",
    "        fluxnet_LH[iStation,iTime_start:(iTime_end+1)]     = fluxnetDS['LE_F_MDS'].values\n",
    "        fluxnet_spd[iStation,iTime_start:(iTime_end+1)]    = fluxnetDS['WS_F'].values\n",
    "        fluxnet_precip[iStation,iTime_start:(iTime_end+1)] = fluxnetDS['P_F'].values\n",
    "        fluxnet_pressr[iStation,iTime_start:(iTime_end+1)] = fluxnetDS['PA_F'].values\n",
    "        fluxnet_temp[iStation,iTime_start:(iTime_end+1)]   = fluxnetDS['TA_F'].values\n",
    "        "
   ]
  },
  {
   "cell_type": "markdown",
   "metadata": {},
   "source": [
    "**Uncomment below to average up to three hourly**<br>\n",
    "The issue with this is that everything's in local time. The model only outputs every three hours in *UTC* time, so the hours wouldn't match up with the three hourly averaged FLUXNET data if averaging were constant. So keep it in hourly for now, then get just the hours that match later. \n",
    "\n",
    "**UPDATE**: Upsample to *hourly*, not thirty minutes"
   ]
  },
  {
   "cell_type": "code",
   "execution_count": 10,
   "metadata": {},
   "outputs": [
    {
     "name": "stderr",
     "output_type": "stream",
     "text": [
      "/Users/mdfowler/opt/anaconda3/envs/metPy/lib/python3.9/site-packages/ipykernel/ipkernel.py:283: DeprecationWarning: `should_run_async` will not call `transform_cell` automatically in the future. Please pass the result to `transformed_cell` argument and any exception that happen during thetransform in `preprocessing_exc_tuple` in IPython 7.17 and above.\n",
      "  and should_run_async(code)\n"
     ]
    },
    {
     "name": "stdout",
     "output_type": "stream",
     "text": [
      "Starting to get 1-hour means (sum for precip)\n"
     ]
    }
   ],
   "source": [
    "# Upsample to hourly \n",
    "fluxnetSH_DS = xr.DataArray(fluxnet_SH, coords=[stationID, dayRange], dims=['stationID','time'])\n",
    "fluxnetLH_DS = xr.DataArray(fluxnet_LH, coords=[stationID, dayRange], dims=['stationID','time'])\n",
    "fluxnetSpd_DS = xr.DataArray(fluxnet_spd, coords=[stationID, dayRange], dims=['stationID','time'])\n",
    "fluxnetPrec_DS = xr.DataArray(fluxnet_precip, coords=[stationID, dayRange], dims=['stationID','time'])\n",
    "fluxnetTemp_DS = xr.DataArray(fluxnet_temp, coords=[stationID, dayRange], dims=['stationID','time'])\n",
    "\n",
    "print('Starting to get 1-hour means (sum for precip)')\n",
    "fluxnet_SH     = fluxnetSH_DS.resample(time='1H').mean()\n",
    "fluxnet_LH     = fluxnetLH_DS.resample(time='1H').mean()\n",
    "fluxnet_spd    = fluxnetSpd_DS.resample(time='1H').mean()\n",
    "fluxnet_precip = fluxnetPrec_DS.resample(time='1H').sum()\n",
    "fluxnet_temp   = fluxnetTemp_DS.resample(time='1H').mean()\n",
    "\n",
    "# Fill in NaN's for precip anywhere there should be one (based on whether or not SH has data)\n",
    "#   If not, xarray is filling these with zeros and it's throwing things off later. \n",
    "# fluxnet_precip[np.where(np.isnan(fluxnet_SH)==True)[0]] = np.nan\n"
   ]
  },
  {
   "cell_type": "code",
   "execution_count": 11,
   "metadata": {
    "scrolled": true
   },
   "outputs": [
    {
     "name": "stderr",
     "output_type": "stream",
     "text": [
      "/Users/mdfowler/opt/anaconda3/envs/metPy/lib/python3.9/site-packages/ipykernel/ipkernel.py:283: DeprecationWarning: `should_run_async` will not call `transform_cell` automatically in the future. Please pass the result to `transformed_cell` argument and any exception that happen during thetransform in `preprocessing_exc_tuple` in IPython 7.17 and above.\n",
      "  and should_run_async(code)\n"
     ]
    }
   ],
   "source": [
    "#Fill in NaN's for precip anywhere there should be one (based on whether or not SH has data)\n",
    "#   If not, xarray is filling these with zeros and it's throwing things off later. \n",
    "\n",
    "for iStation in range(len(stationID)):\n",
    "    indNan=np.where(np.isnan(fluxnet_SH[iStation,:])==True)[0]\n",
    "    fluxnet_precip[iStation,indNan] = np.nan\n"
   ]
  },
  {
   "cell_type": "code",
   "execution_count": 12,
   "metadata": {},
   "outputs": [
    {
     "name": "stderr",
     "output_type": "stream",
     "text": [
      "/Users/mdfowler/opt/anaconda3/envs/metPy/lib/python3.9/site-packages/ipykernel/ipkernel.py:283: DeprecationWarning: `should_run_async` will not call `transform_cell` automatically in the future. Please pass the result to `transformed_cell` argument and any exception that happen during thetransform in `preprocessing_exc_tuple` in IPython 7.17 and above.\n",
      "  and should_run_async(code)\n"
     ]
    },
    {
     "data": {
      "text/plain": [
       "201624"
      ]
     },
     "execution_count": 12,
     "metadata": {},
     "output_type": "execute_result"
    }
   ],
   "source": [
    "# Set day range to 3-hour intervals too \n",
    "dayRange = pd.date_range(start=pd.DatetimeIndex(startTime_fluxnet_sel[iMinStart])[0],\n",
    "                         end=pd.DatetimeIndex(endTime_fluxnet_sel[iMaxEnd])[0],\n",
    "                         freq='1H')\n",
    "nDays = len(dayRange)\n",
    "len(dayRange)"
   ]
  },
  {
   "cell_type": "code",
   "execution_count": 13,
   "metadata": {},
   "outputs": [
    {
     "name": "stdout",
     "output_type": "stream",
     "text": [
      "Number of days before deletes:  201624\n",
      "Number of days after deletes:  201480\n"
     ]
    }
   ],
   "source": [
    "# Remove from record if it's Feb. 29th (i.e., skip leap years )\n",
    "# -------------------------------------------------------------\n",
    "\n",
    "# Indices to skip \n",
    "iSkips = np.where((dayRange.month==2) & (dayRange.day==29))[0]\n",
    "print('Number of days before deletes: ', len(dayRange))\n",
    "\n",
    "dayRange       = np.delete(dayRange,iSkips)\n",
    "fluxnet_SH     = np.delete(fluxnet_SH,iSkips,axis=1)\n",
    "fluxnet_LH     = np.delete(fluxnet_LH,iSkips,axis=1)\n",
    "fluxnet_spd    = np.delete(fluxnet_spd,iSkips,axis=1)\n",
    "fluxnet_precip = np.delete(fluxnet_precip,iSkips,axis=1)\n",
    "fluxnet_pressr = np.delete(fluxnet_pressr,iSkips,axis=1)\n",
    "fluxnet_temp   = np.delete(fluxnet_temp,iSkips,axis=1)\n",
    "\n",
    "print('Number of days after deletes: ', len(dayRange))\n"
   ]
  },
  {
   "cell_type": "code",
   "execution_count": 13,
   "metadata": {},
   "outputs": [],
   "source": [
    "# ## Save station lat/lon to pickle file \n",
    "\n",
    "# fileName = '/Users/mdfowler/Documents/Analysis/CLUBB_initial/data/FLUXNET_lat.p'\n",
    "# with open(fileName, \"wb\") as f:\n",
    "#     pickle.dump(lat_fluxnet, f)\n",
    "\n",
    "# fileName = '/Users/mdfowler/Documents/Analysis/CLUBB_initial/data/FLUXNET_lon.p'\n",
    "# with open(fileName, \"wb\") as f:\n",
    "#     pickle.dump(lon_fluxnet, f)\n"
   ]
  },
  {
   "cell_type": "code",
   "execution_count": 14,
   "metadata": {},
   "outputs": [],
   "source": [
    "# # Also save out station ID\n",
    "# fileName = '/Users/mdfowler/Documents/Analysis/CLUBB_initial/data/FLUXNET_stationID.p'\n",
    "# with open(fileName, \"wb\") as f:\n",
    "#     pickle.dump(stationID, f)\n",
    "    "
   ]
  },
  {
   "cell_type": "code",
   "execution_count": null,
   "metadata": {},
   "outputs": [],
   "source": []
  },
  {
   "cell_type": "markdown",
   "metadata": {},
   "source": [
    "## Read in model data (3-hourly) at same sites"
   ]
  },
  {
   "cell_type": "code",
   "execution_count": 14,
   "metadata": {},
   "outputs": [
    {
     "name": "stderr",
     "output_type": "stream",
     "text": [
      "/Users/mdfowler/opt/anaconda3/envs/metPy/lib/python3.9/site-packages/ipykernel/ipkernel.py:283: DeprecationWarning: `should_run_async` will not call `transform_cell` automatically in the future. Please pass the result to `transformed_cell` argument and any exception that happen during thetransform in `preprocessing_exc_tuple` in IPython 7.17 and above.\n",
      "  and should_run_async(code)\n"
     ]
    }
   ],
   "source": [
    "dataPath = '/Users/mdfowler/Documents/Analysis/CLUBB_initial/data/3hr_IslaSims/processed_3hourCESMatFLUXNETstations.nc'\n",
    "modelDS  = xr.open_dataset(dataPath, decode_times=True)\n"
   ]
  },
  {
   "cell_type": "code",
   "execution_count": 15,
   "metadata": {
    "scrolled": true
   },
   "outputs": [
    {
     "name": "stderr",
     "output_type": "stream",
     "text": [
      "/Users/mdfowler/opt/anaconda3/envs/metPy/lib/python3.9/site-packages/ipykernel/ipkernel.py:283: DeprecationWarning: `should_run_async` will not call `transform_cell` automatically in the future. Please pass the result to `transformed_cell` argument and any exception that happen during thetransform in `preprocessing_exc_tuple` in IPython 7.17 and above.\n",
      "  and should_run_async(code)\n"
     ]
    }
   ],
   "source": [
    "# Slightly refined which stations to use above, so filter for consistency here \n",
    "listMatch = []\n",
    "\n",
    "for iStation in range(len(stationID)): \n",
    "    iList = np.where(modelDS.station.values==stationID[iStation])[0]\n",
    "    \n",
    "    if len(iList)>0:\n",
    "        listMatch.append(iList[0])\n",
    "        \n",
    "modelDS = modelDS.isel(station=listMatch)\n"
   ]
  },
  {
   "cell_type": "code",
   "execution_count": 113,
   "metadata": {
    "scrolled": true
   },
   "outputs": [],
   "source": [
    "# FLUXNET obs are in local time. So read in their time zone and convert model to it (currently UTC)\n",
    "fileName = '/Users/mdfowler/Documents/Analysis/Coupling_initial/data/FLUXNET2015/FLX_AA-Flx_BIF_ALL_20200501/FLX_AA-Flx_BIF_DD_20200501.xlsx'\n",
    "metaDS   = pd.read_excel(fileName)  \n",
    "\n",
    "# Get fluxnet UTC time offset\n",
    "utc_offset = np.empty([len(stationID)]).astype(str)\n",
    "\n",
    "for iStation in range(len(stationID)):\n",
    "    selStation = stationID[iStation]\n",
    "    iLoc=np.where((metaDS['SITE_ID']==selStation) & (metaDS['VARIABLE_GROUP']=='GRP_UTC_OFFSET'))[0]\n",
    "    utc_offset[iStation] = str((metaDS['DATAVALUE'].values[iLoc])[0])\n",
    "\n",
    "# Apply offset to each station in the model \n",
    "modelTimes_pd = pd.DatetimeIndex(modelDS.time.values, tz='UTC')\n",
    "\n",
    "modelTimes_local = np.empty([len(stationID),len(modelTimes_pd)])\n",
    "for iStation in range(len(stationID)):\n",
    "    modelTimes_local[iStation,:] = modelTimes_pd+pd.DateOffset(hours=float(utc_offset[iStation]))\n",
    "    \n",
    "    # Remove leap years again, since shifiting in time can cause issue\n",
    "    iLeap = np.where((pd.DatetimeIndex(modelTimes_local[iStation,:]).month==2) & (pd.DatetimeIndex(modelTimes_local[iStation,:]).day==29))\n",
    "    modelTimes_local[iStation,iLeap] = np.nan\n",
    "\n",
    "modelTimes_local = pd.DatetimeIndex(modelTimes_local)\n",
    "\n"
   ]
  },
  {
   "cell_type": "code",
   "execution_count": 170,
   "metadata": {},
   "outputs": [
    {
     "name": "stdout",
     "output_type": "stream",
     "text": [
      "DatetimeIndex(['2000-01-01 00:00:00+00:00', '2000-01-01 03:00:00+00:00',\n",
      "               '2000-01-01 06:00:00+00:00', '2000-01-01 09:00:00+00:00',\n",
      "               '2000-01-01 12:00:00+00:00', '2000-01-01 15:00:00+00:00',\n",
      "               '2000-01-01 18:00:00+00:00', '2000-01-01 21:00:00+00:00',\n",
      "               '2000-01-02 00:00:00+00:00', '2000-01-02 03:00:00+00:00'],\n",
      "              dtype='datetime64[ns, UTC]', freq=None)\n",
      "DatetimeIndex(['2000-01-01 01:00:00', '2000-01-01 04:00:00',\n",
      "               '2000-01-01 07:00:00', '2000-01-01 10:00:00',\n",
      "               '2000-01-01 13:00:00', '2000-01-01 16:00:00',\n",
      "               '2000-01-01 19:00:00', '2000-01-01 22:00:00',\n",
      "               '2000-01-02 01:00:00', '2000-01-02 04:00:00'],\n",
      "              dtype='datetime64[ns]', freq=None)\n"
     ]
    }
   ],
   "source": [
    "print(modelTimes_pd[0:10])\n",
    "print(modelTimes_local[1,0:10])"
   ]
  },
  {
   "cell_type": "code",
   "execution_count": 167,
   "metadata": {},
   "outputs": [
    {
     "name": "stdout",
     "output_type": "stream",
     "text": [
      "[ 0.  3.  6.  9. 12. 15. 18. 21. nan nan nan nan nan nan nan nan]\n",
      "[ 0.  3.  6.  9. 12. 15. 18. 21.]\n"
     ]
    }
   ],
   "source": [
    "modelHours  = np.unique(modelTimes_local[14,:].hour)\n",
    "print(modelHours)\n",
    "modelHours  = modelHours[np.isfinite(modelHours)==True]\n",
    "print(modelHours)"
   ]
  },
  {
   "cell_type": "code",
   "execution_count": 115,
   "metadata": {},
   "outputs": [],
   "source": [
    "# Match up fluxnet hourly obs to the hours that are in the model per station \n",
    "fluxnet_time_match = np.full([len(stationID), int(len(dayRange)/3)], np.nan)\n",
    "\n",
    "fluxnet_SH_match = np.full([len(stationID), int(len(dayRange)/3)], np.nan)\n",
    "fluxnet_LH_match = np.full([len(stationID), int(len(dayRange)/3)], np.nan)\n",
    "\n",
    "\n",
    "for iStation in range(len(stationID)):\n",
    "    modelHours  = np.unique(modelTimes_local[iStation,:].hour)\n",
    "    modelHours  = modelHours[np.isfinite(modelHours)==True]\n",
    "    \n",
    "    # Get indices that match *all* of those hours\n",
    "    matchInds = []\n",
    "    for iHour in range(len(modelHours)):\n",
    "        imatchHours = np.where(dayRange.hour==modelHours[iHour])[0]\n",
    "\n",
    "        matchInds.append(imatchHours)\n",
    "\n",
    "    matchInds = np.reshape(matchInds,[np.shape(matchInds)[0]*np.shape(matchInds)[1]])\n",
    "    matchInds = np.sort(matchInds)\n",
    "    \n",
    "    # Now select just those indices in fluxnet data \n",
    "    fluxnet_time_match[iStation,:] = dayRange[matchInds]\n",
    "    fluxnet_SH_match[iStation,:]   = fluxnet_SH[iStation,matchInds]\n",
    "    fluxnet_LH_match[iStation,:]   = fluxnet_LH[iStation,matchInds]\n",
    "\n"
   ]
  },
  {
   "cell_type": "code",
   "execution_count": 75,
   "metadata": {},
   "outputs": [
    {
     "name": "stderr",
     "output_type": "stream",
     "text": [
      "/Users/mdfowler/opt/anaconda3/envs/metPy/lib/python3.9/site-packages/ipykernel/ipkernel.py:283: DeprecationWarning: `should_run_async` will not call `transform_cell` automatically in the future. Please pass the result to `transformed_cell` argument and any exception that happen during thetransform in `preprocessing_exc_tuple` in IPython 7.17 and above.\n",
      "  and should_run_async(code)\n"
     ]
    }
   ],
   "source": [
    "# Precip saved in m/s for model data. Ideally, let's just work in mm/day. \n",
    "#   Multiply by number of seconds in 3 hours (dT) and by 1000 to convert to mm\n",
    "modelPrecip_mm = modelDS.model_precip.values*(3.0*60.0*60.0)*1000.0\n",
    "modelDS['modelPrecip_mm'] = (('station','time'), modelPrecip_mm)\n"
   ]
  },
  {
   "cell_type": "markdown",
   "metadata": {},
   "source": [
    "## Classify days via precipitation"
   ]
  },
  {
   "cell_type": "code",
   "execution_count": 19,
   "metadata": {},
   "outputs": [],
   "source": [
    "# Get daily rain totals for model/fluxnet sites\n",
    "fluxnetPrec_DS = xr.DataArray(fluxnet_precip, coords=[stationID, dayRange], dims=['stationID','time'])\n",
    "rainDaily_fluxnet = fluxnetPrec_DS.resample(time='1D').sum()\n",
    "\n",
    "rainDaily_model = modelDS['modelPrecip_mm'].resample(time='1D').sum()\n"
   ]
  },
  {
   "cell_type": "code",
   "execution_count": 20,
   "metadata": {},
   "outputs": [
    {
     "name": "stderr",
     "output_type": "stream",
     "text": [
      "/Users/mdfowler/opt/anaconda3/envs/metPy/lib/python3.9/site-packages/ipykernel/ipkernel.py:283: DeprecationWarning: `should_run_async` will not call `transform_cell` automatically in the future. Please pass the result to `transformed_cell` argument and any exception that happen during thetransform in `preprocessing_exc_tuple` in IPython 7.17 and above.\n",
      "  and should_run_async(code)\n"
     ]
    }
   ],
   "source": [
    "#Fill in NaN's for precip anywhere there should be one (based on whether or not SH has data)\n",
    "#   If not, xarray is filling these with zeros and it's throwing things off later. \n",
    "fluxnetSH_DS = xr.DataArray(fluxnet_SH, coords=[stationID, dayRange], dims=['stationID','time'])\n",
    "shDaily_fluxnet = fluxnetSH_DS.resample(time='1D').mean()\n",
    "\n",
    "for iStation in range(len(stationID)):\n",
    "    indNan=np.where(np.isnan(shDaily_fluxnet[iStation,:])==True)[0]\n",
    "    rainDaily_fluxnet[iStation,indNan] = np.nan\n"
   ]
  },
  {
   "cell_type": "code",
   "execution_count": 21,
   "metadata": {
    "scrolled": true
   },
   "outputs": [
    {
     "name": "stderr",
     "output_type": "stream",
     "text": [
      "/Users/mdfowler/opt/anaconda3/envs/metPy/lib/python3.9/site-packages/ipykernel/ipkernel.py:283: DeprecationWarning: `should_run_async` will not call `transform_cell` automatically in the future. Please pass the result to `transformed_cell` argument and any exception that happen during thetransform in `preprocessing_exc_tuple` in IPython 7.17 and above.\n",
      "  and should_run_async(code)\n"
     ]
    }
   ],
   "source": [
    "## Step 1: What should the threshold be for a \"wet\" day? Should it vary by station? \n",
    "# Could try 3 mm, in line with Burns et al...  \n",
    "\n",
    "minWet = 3\n",
    "\n",
    "pctWetDays_obs   = np.full([len(stationID)], np.nan)\n",
    "pctWetDays_model = np.full([len(stationID)], np.nan)\n",
    "for iStation in range(len(stationID)):\n",
    "    pctWetDays_obs[iStation]   = len(np.where(rainDaily_fluxnet[iStation,:]>=minWet)[0])/len(np.where(np.isfinite(rainDaily_fluxnet[iStation,:])==True)[0])\n",
    "    pctWetDays_model[iStation] = len(np.where(rainDaily_model[iStation,:]>=minWet)[0])/len(np.where(np.isfinite(rainDaily_model[iStation,:])==True)[0])\n",
    "    \n",
    "    # Just to double check that the order is consistent between model and obs \n",
    "    if (modelDS.station.values[iStation]!=stationID[iStation]):\n",
    "        print(modelDS.station.values[iStation], '  ', stationID[iStation])\n",
    "    "
   ]
  },
  {
   "cell_type": "code",
   "execution_count": 22,
   "metadata": {},
   "outputs": [
    {
     "name": "stderr",
     "output_type": "stream",
     "text": [
      "/Users/mdfowler/opt/anaconda3/envs/metPy/lib/python3.9/site-packages/ipykernel/ipkernel.py:283: DeprecationWarning: `should_run_async` will not call `transform_cell` automatically in the future. Please pass the result to `transformed_cell` argument and any exception that happen during thetransform in `preprocessing_exc_tuple` in IPython 7.17 and above.\n",
      "  and should_run_async(code)\n"
     ]
    },
    {
     "data": {
      "text/plain": [
       "Text(0.5, 1.0, 'FLUXNET: Percent days classified as wet by station')"
      ]
     },
     "execution_count": 22,
     "metadata": {},
     "output_type": "execute_result"
    },
    {
     "data": {
      "image/png": "[encoded data removed]",
      "text/plain": [
       "<Figure size 432x288 with 1 Axes>"
      ]
     },
     "metadata": {
      "needs_background": "light"
     },
     "output_type": "display_data"
    }
   ],
   "source": [
    "plt.hist(pctWetDays_obs*100,20)\n",
    "plt.title('FLUXNET: Percent days classified as wet by station')\n"
   ]
  },
  {
   "cell_type": "code",
   "execution_count": 32,
   "metadata": {},
   "outputs": [
    {
     "data": {
      "text/plain": [
       "Text(0.5, 1.0, 'Model: Percent days classified as wet by station')"
      ]
     },
     "execution_count": 32,
     "metadata": {},
     "output_type": "execute_result"
    },
    {
     "data": {
      "image/png": "[encoded data removed]",
      "text/plain": [
       "<Figure size 432x288 with 1 Axes>"
      ]
     },
     "metadata": {
      "needs_background": "light"
     },
     "output_type": "display_data"
    }
   ],
   "source": [
    "plt.hist(pctWetDays_model*100,20)\n",
    "plt.title('Model: Percent days classified as wet by station')"
   ]
  },
  {
   "cell_type": "code",
   "execution_count": 23,
   "metadata": {},
   "outputs": [],
   "source": [
    "'''\n",
    "Function to send back which classification each day falls into, \n",
    "based on precipitation amount, similar to Burns et al. (2015; 2018).\n",
    "This version of the function assumes a single column run/input, \n",
    "in that only one dimension exists for precip. \n",
    "\n",
    "Inputs: \n",
    "   time:   An array of times to worry about. \n",
    "           Should be a pandas datetime.\n",
    "   precip: Daily precipitation (summed). Units can be in mm or m, \n",
    "           but need to be consistent with the threshold the user\n",
    "           defines (i.e., no unit conversions done here).\n",
    "   wetDef: User-defined threshold for defining days as wet vs. dry. \n",
    "Outputs:\n",
    "    classificationArr: Array with one fewer length than time, where\n",
    "                       the classification falls into four categories:\n",
    "                       1 :: wWet   (wet day following a wet day)\n",
    "                       2 :: wDry   (dry day following a wet day)\n",
    "                       3 :: dWet   (wet day following a dry day)\n",
    "                       4 :: dDry   (dry day following a dry day)\n",
    "                       \n",
    "                       Difference in length due to the first day not having a \n",
    "                       \"before\" day to reference. So time[0] on the \n",
    "                       classification array corresponds to time[1]. \n",
    "\n",
    "'''\n",
    "\n",
    "def classifyPrectDays_SCAM(time,precip,wetDef): \n",
    "    \n",
    "    # Define empty arrays of the appropriate length\n",
    "    nTimes               = len(time)\n",
    "    classificationArr    = np.empty([len(time)]).astype('str')\n",
    "    \n",
    "    for iDay in range(nTimes-1): \n",
    "        \n",
    "        # Wet day...\n",
    "        if precip[iDay]>=wetDef:\n",
    "            if precip[iDay+1]>=wetDef:\n",
    "                classificationArr[iDay+1] = 'wWet'  # Wet day following wet \n",
    "            elif precip[iDay+1]<wetDef : \n",
    "                classificationArr[iDay+1] = 'wDry' # Dry day following wet \n",
    "        # Dry day...\n",
    "        elif precip[iDay]<wetDef:\n",
    "            if precip[iDay+1]>=wetDef:\n",
    "                classificationArr[iDay+1] = 'dWet'  # Wet day following dry \n",
    "            elif precip[iDay+1]<wetDef : \n",
    "                classificationArr[iDay+1] = 'dDry' # Dry day following dry \n",
    "        # If missing...\n",
    "        else: \n",
    "            classificationArr[iDay+1] = 'nan'\n",
    "\n",
    "    return(classificationArr[1::])\n",
    "\n"
   ]
  },
  {
   "cell_type": "code",
   "execution_count": 27,
   "metadata": {
    "scrolled": true
   },
   "outputs": [],
   "source": [
    "# # Get classification of all days... \n",
    "# nDays_obs   = len(rainDaily_fluxnet.time.values)\n",
    "# nDays_model = len(rainDaily_model.time.values)\n",
    "\n",
    "# dayClass_obs   = np.empty([len(stationID), nDays_obs]).astype(str)\n",
    "# dayClass_model = np.empty([len(stationID), nDays_model]).astype(str)\n",
    "\n",
    "# for iStation in range(len(stationID)):\n",
    "#     dayClass_obs[iStation,1::]   = classifyPrectDays_SCAM(rainDaily_fluxnet.time.values, rainDaily_fluxnet[iStation,:], minWet)\n",
    "#     dayClass_model[iStation,1::] = classifyPrectDays_SCAM(rainDaily_model.time.values, rainDaily_model[iStation,:], minWet)\n"
   ]
  },
  {
   "cell_type": "code",
   "execution_count": 28,
   "metadata": {},
   "outputs": [],
   "source": [
    "# # Fill in first spot with 'nan' (since it's missing anyway)\n",
    "# dayClass_obs[:,0] = np.nan\n",
    "# dayClass_model[:,0] = np.nan\n"
   ]
  },
  {
   "cell_type": "code",
   "execution_count": 29,
   "metadata": {},
   "outputs": [
    {
     "data": {
      "text/plain": [
       "array(['nan', 'nan', 'nan', ..., 'nan', 'nan', 'nan'], dtype='<U32')"
      ]
     },
     "execution_count": 29,
     "metadata": {},
     "output_type": "execute_result"
    }
   ],
   "source": [
    "dayClass_obs[10,:]"
   ]
  },
  {
   "cell_type": "code",
   "execution_count": 30,
   "metadata": {},
   "outputs": [],
   "source": [
    "# # Save out to pickle file? \n",
    "\n",
    "# fileName = '/Users/mdfowler/Documents/Analysis/CLUBB_initial/data/fluxnet_dailyPrecipClassification.p'\n",
    "# with open(fileName, \"wb\") as f:\n",
    "#     pickle.dump(dayClass_obs, f)\n",
    "\n",
    "# fileName = '/Users/mdfowler/Documents/Analysis/CLUBB_initial/data/model_dailyPrecipClassification.p'\n",
    "# with open(fileName, \"wb\") as f:\n",
    "#     pickle.dump(dayClass_model, f)\n"
   ]
  },
  {
   "cell_type": "code",
   "execution_count": 71,
   "metadata": {},
   "outputs": [
    {
     "name": "stderr",
     "output_type": "stream",
     "text": [
      "/Users/mdfowler/opt/anaconda3/envs/metPy/lib/python3.9/site-packages/ipykernel/ipkernel.py:283: DeprecationWarning: `should_run_async` will not call `transform_cell` automatically in the future. Please pass the result to `transformed_cell` argument and any exception that happen during thetransform in `preprocessing_exc_tuple` in IPython 7.17 and above.\n",
      "  and should_run_async(code)\n"
     ]
    }
   ],
   "source": [
    "# Read in from pickle file: \n",
    "fileName = '/Users/mdfowler/Documents/Analysis/CLUBB_initial/data/fluxnet_dailyPrecipClassification.p'\n",
    "with open(fileName, \"rb\") as f:\n",
    "    dayClass_obs = pickle.load(f)\n",
    "\n",
    "fileName = '/Users/mdfowler/Documents/Analysis/CLUBB_initial/data/model_dailyPrecipClassification.p'\n",
    "with open(fileName, \"rb\") as f:\n",
    "    dayClass_model = pickle.load(f)\n",
    "    "
   ]
  },
  {
   "cell_type": "code",
   "execution_count": 32,
   "metadata": {},
   "outputs": [
    {
     "data": {
      "text/plain": [
       "array(['nan', 'nan', 'nan', ..., 'nan', 'nan', 'nan'], dtype='<U32')"
      ]
     },
     "execution_count": 32,
     "metadata": {},
     "output_type": "execute_result"
    }
   ],
   "source": [
    "dayClass_obs[10,:]"
   ]
  },
  {
   "cell_type": "code",
   "execution_count": 33,
   "metadata": {},
   "outputs": [],
   "source": [
    "## Remove leap year days (Feb 29th)\n",
    "obsTime_daily   = pd.DatetimeIndex(rainDaily_fluxnet.time.values)\n",
    "modelTime_daily =pd.DatetimeIndex(rainDaily_model.time.values)\n",
    "\n",
    "# Where is it Feb 29th?\n",
    "iSkips          = np.where((obsTime_daily.month==2) & (obsTime_daily.day==29))[0]\n",
    "dayClass_obsSel = np.delete(dayClass_obs,iSkips,axis=1)\n",
    "\n",
    "iSkipsModel       = np.where((modelTime_daily.month==2) & (modelTime_daily.day==29))[0]\n",
    "dayClass_modelSel = np.delete(dayClass_model,iSkipsModel,axis=1)\n"
   ]
  },
  {
   "cell_type": "code",
   "execution_count": 34,
   "metadata": {},
   "outputs": [
    {
     "name": "stderr",
     "output_type": "stream",
     "text": [
      "/Users/mdfowler/opt/anaconda3/envs/metPy/lib/python3.9/site-packages/ipykernel/ipkernel.py:283: DeprecationWarning: `should_run_async` will not call `transform_cell` automatically in the future. Please pass the result to `transformed_cell` argument and any exception that happen during thetransform in `preprocessing_exc_tuple` in IPython 7.17 and above.\n",
      "  and should_run_async(code)\n"
     ]
    },
    {
     "data": {
      "text/plain": [
       "(114, 5476)"
      ]
     },
     "execution_count": 34,
     "metadata": {},
     "output_type": "execute_result"
    }
   ],
   "source": [
    "np.shape(dayClass_modelSel)\n"
   ]
  },
  {
   "cell_type": "markdown",
   "metadata": {},
   "source": [
    "## Look at flux biases based on day classification "
   ]
  },
  {
   "cell_type": "code",
   "execution_count": 130,
   "metadata": {},
   "outputs": [
    {
     "name": "stderr",
     "output_type": "stream",
     "text": [
      "/Users/mdfowler/opt/anaconda3/envs/metPy/lib/python3.9/site-packages/ipykernel/ipkernel.py:283: DeprecationWarning: `should_run_async` will not call `transform_cell` automatically in the future. Please pass the result to `transformed_cell` argument and any exception that happen during thetransform in `preprocessing_exc_tuple` in IPython 7.17 and above.\n",
      "  and should_run_async(code)\n"
     ]
    }
   ],
   "source": [
    "'''\n",
    "Function to split up an input array\n",
    "into day/hour.\n",
    "\n",
    "Inputs:  Time should be a pandas datetime array. \n",
    "         Var should be a 2d array, location x time.\n",
    "         MODIFIED: just 1d array [time]\n",
    "Outputs: Output will be station by days by hours.\n",
    "\n",
    "'''\n",
    "\n",
    "def var_separateTime(time,var):\n",
    "    \n",
    "    #nLoc = int(np.shape(var)[0])\n",
    "    \n",
    "    # Get arrays of unique years/months/days/hours \n",
    "    startDay = datetime.date(int(time.year[0]), int(time.month[0]), int(time.day[0]))\n",
    "    var_separate = np.full([1,8], np.nan)  # Initialize array to hold daily data \n",
    "    \n",
    "    # Counter for number of days to split things into\n",
    "    dayCheck = 0 \n",
    "    while np.isfinite(dayCheck)==True:\n",
    "        iDay    = np.where((time.year==startDay.year)  & \n",
    "                           (time.month==startDay.month) &\n",
    "                           (time.day==startDay.day))[0]\n",
    "        \n",
    "        if len(iDay)>=1:\n",
    "            timeDay = time[iDay]\n",
    "            varDay  = var[iDay]\n",
    "\n",
    "            # Initialize array to hold 3-hourly values\n",
    "            hourlyVars = np.full([8],np.nan)\n",
    "            hourValues = np.unique(time.hour)\n",
    "            hourValues  = hourValues[np.isfinite(hourValues)==True]\n",
    "\n",
    "            for iHr in range(len(hourValues)):\n",
    "                selHour = np.where(timeDay.hour==hourValues[iHr])[0]\n",
    "\n",
    "                # Check if not already in hourly form\n",
    "#                 if len(selHour)>1: \n",
    "#                     varHour = np.nanmean(varDay[:, selHour])\n",
    "                if len(selHour)<1:\n",
    "                    varHour = np.nan\n",
    "                else:\n",
    "                    varHour = varDay[selHour]   \n",
    "                    \n",
    "                # Fill in var_separateTime by day/hour\n",
    "                hourlyVars[iHr] = np.squeeze(varHour)\n",
    "\n",
    "            # Add to a daily array \n",
    "            if dayCheck==0:\n",
    "                var_separate[0, :] = hourlyVars\n",
    "            else:\n",
    "                #np.concatenate((var_separate, hourlyVars[:,None]),axis=0)\n",
    "                var_separate = np.append(var_separate, np.reshape(hourlyVars,[1,8]), axis=0)\n",
    "            \n",
    "            # Set next day \n",
    "            startDay = startDay+datetime.timedelta(days=1)\n",
    "            dayCheck = dayCheck+1\n",
    "        elif ((startDay.month==2) & (startDay.day==29)):\n",
    "            # Set next day \n",
    "            startDay = startDay+datetime.timedelta(days=1)\n",
    "            #dayCheck = dayCheck+1\n",
    "            #print('Skipping a leap year...')\n",
    "        else: \n",
    "            dayCheck = np.nan\n",
    "    \n",
    "    return(var_separate)"
   ]
  },
  {
   "cell_type": "code",
   "execution_count": 131,
   "metadata": {
    "scrolled": true
   },
   "outputs": [
    {
     "name": "stdout",
     "output_type": "stream",
     "text": [
      "Done with station 1\n",
      "Done with station 2\n",
      "Done with station 3\n",
      "Done with station 4\n",
      "Done with station 5\n",
      "Done with station 6\n",
      "Done with station 7\n",
      "Done with station 8\n",
      "Done with station 9\n",
      "Done with station 10\n",
      "Done with station 11\n",
      "Done with station 12\n",
      "Done with station 13\n",
      "Done with station 14\n",
      "Done with station 15\n",
      "Done with station 16\n",
      "Done with station 17\n",
      "Done with station 18\n",
      "Done with station 19\n",
      "Done with station 20\n",
      "Done with station 21\n",
      "Done with station 22\n",
      "Done with station 23\n",
      "Done with station 24\n",
      "Done with station 25\n",
      "Done with station 26\n",
      "Done with station 27\n",
      "Done with station 28\n",
      "Done with station 29\n",
      "Done with station 30\n",
      "Done with station 31\n",
      "Done with station 32\n",
      "Done with station 33\n",
      "Done with station 34\n",
      "Done with station 35\n",
      "Done with station 36\n",
      "Done with station 37\n",
      "Done with station 38\n",
      "Done with station 39\n",
      "Done with station 40\n",
      "Done with station 41\n",
      "Done with station 42\n",
      "Done with station 43\n",
      "Done with station 44\n",
      "Done with station 45\n",
      "Done with station 46\n",
      "Done with station 47\n",
      "Done with station 48\n",
      "Done with station 49\n",
      "Done with station 50\n",
      "Done with station 51\n",
      "Done with station 52\n",
      "Done with station 53\n",
      "Done with station 54\n",
      "Done with station 55\n",
      "Done with station 56\n",
      "Done with station 57\n",
      "Done with station 58\n",
      "Done with station 59\n",
      "Done with station 60\n",
      "Done with station 61\n",
      "Done with station 62\n",
      "Done with station 63\n",
      "Done with station 64\n",
      "Done with station 65\n",
      "Done with station 66\n",
      "Done with station 67\n",
      "Done with station 68\n",
      "Done with station 69\n",
      "Done with station 70\n",
      "Done with station 71\n",
      "Done with station 72\n",
      "Done with station 73\n",
      "Done with station 74\n",
      "Done with station 75\n",
      "Done with station 76\n",
      "Done with station 77\n",
      "Done with station 78\n",
      "Done with station 79\n",
      "Done with station 80\n",
      "Done with station 81\n",
      "Done with station 82\n",
      "Done with station 83\n",
      "Done with station 84\n",
      "Done with station 85\n",
      "Done with station 86\n",
      "Done with station 87\n",
      "Done with station 88\n",
      "Done with station 89\n",
      "Done with station 90\n",
      "Done with station 91\n",
      "Done with station 92\n",
      "Done with station 93\n",
      "Done with station 94\n",
      "Done with station 95\n",
      "Done with station 96\n",
      "Done with station 97\n",
      "Done with station 98\n",
      "Done with station 99\n",
      "Done with station 100\n",
      "Done with station 101\n",
      "Done with station 102\n",
      "Done with station 103\n",
      "Done with station 104\n",
      "Done with station 105\n",
      "Done with station 106\n",
      "Done with station 107\n",
      "Done with station 108\n",
      "Done with station 109\n",
      "Done with station 110\n",
      "Done with station 111\n",
      "Done with station 112\n",
      "Done with station 113\n",
      "Done with station 114\n"
     ]
    }
   ],
   "source": [
    "# modelDaily_SH = np.full([len(stationID), int(np.ceil(len(modelTimes_local[10,:])/8)), 8], np.nan)\n",
    "# modelDaily_LH = np.full([len(stationID), int(np.ceil(len(modelTimes_local[10,:])/8)), 8], np.nan)\n",
    "\n",
    "# for iStation in range(len(stationID)):\n",
    "\n",
    "#     # Get model data separated by day/hour \n",
    "#     modelDaily_SH[iStation,:,:] = var_separateTime(modelTimes_local[iStation,:], modelDS.model_SH.values[iStation,:])\n",
    "    \n",
    "#     modelDaily_LH[iStation,:,:] = var_separateTime(modelTimes_local[iStation,:], modelDS.model_LH.values[iStation,:])\n",
    "\n",
    "#     print('Done with station %i' % (iStation+1))\n",
    "    "
   ]
  },
  {
   "cell_type": "code",
   "execution_count": 133,
   "metadata": {},
   "outputs": [],
   "source": [
    "meanSH_model = np.nanmean(modelDaily_SH,axis=1)\n",
    "\n"
   ]
  },
  {
   "cell_type": "code",
   "execution_count": 137,
   "metadata": {},
   "outputs": [
    {
     "data": {
      "text/plain": [
       "array([ 1,  4,  7, 10, 13, 16, 19, 22])"
      ]
     },
     "execution_count": 137,
     "metadata": {},
     "output_type": "execute_result"
    }
   ],
   "source": [
    "np.unique(modelTimes_local[22,:].hour)"
   ]
  },
  {
   "cell_type": "code",
   "execution_count": 141,
   "metadata": {
    "scrolled": true
   },
   "outputs": [
    {
     "name": "stderr",
     "output_type": "stream",
     "text": [
      "/Users/mdfowler/opt/anaconda3/envs/metPy/lib/python3.9/site-packages/ipykernel/ipkernel.py:283: DeprecationWarning: `should_run_async` will not call `transform_cell` automatically in the future. Please pass the result to `transformed_cell` argument and any exception that happen during thetransform in `preprocessing_exc_tuple` in IPython 7.17 and above.\n",
      "  and should_run_async(code)\n"
     ]
    },
    {
     "data": {
      "text/plain": [
       "<matplotlib.legend.Legend at 0x1b14f6e80>"
      ]
     },
     "execution_count": 141,
     "metadata": {},
     "output_type": "execute_result"
    },
    {
     "data": {
      "image/png": "[encoded data removed]",
      "text/plain": [
       "<Figure size 432x288 with 1 Axes>"
      ]
     },
     "metadata": {
      "needs_background": "light"
     },
     "output_type": "display_data"
    }
   ],
   "source": [
    "plt.plot(np.unique(modelTimes_local[3,:].hour)[0:8], meanSH_model[3,:],label=stationID[3])\n",
    "plt.plot(np.unique(modelTimes_local[10,:].hour)[0:8], meanSH_model[10,:],label=stationID[10])\n",
    "plt.plot(np.unique(modelTimes_local[53,:].hour)[0:8], meanSH_model[53,:],label=stationID[53])\n",
    "plt.legend()\n"
   ]
  },
  {
   "cell_type": "code",
   "execution_count": 142,
   "metadata": {},
   "outputs": [
    {
     "name": "stderr",
     "output_type": "stream",
     "text": [
      "/Users/mdfowler/opt/anaconda3/envs/metPy/lib/python3.9/site-packages/ipykernel/ipkernel.py:283: DeprecationWarning: `should_run_async` will not call `transform_cell` automatically in the future. Please pass the result to `transformed_cell` argument and any exception that happen during thetransform in `preprocessing_exc_tuple` in IPython 7.17 and above.\n",
      "  and should_run_async(code)\n"
     ]
    }
   ],
   "source": [
    "# # Save out to pickle file? \n",
    "\n",
    "# fileName = '/Users/mdfowler/Documents/Analysis/CLUBB_initial/data/model_dailySH.p'\n",
    "# with open(fileName, \"wb\") as f:\n",
    "#     pickle.dump(modelDaily_SH, f)\n",
    "\n",
    "# fileName = '/Users/mdfowler/Documents/Analysis/CLUBB_initial/data/model_dailyLH.p'\n",
    "# with open(fileName, \"wb\") as f:\n",
    "#     pickle.dump(modelDaily_LH, f)\n",
    "\n"
   ]
  },
  {
   "cell_type": "code",
   "execution_count": 154,
   "metadata": {
    "scrolled": true
   },
   "outputs": [
    {
     "name": "stderr",
     "output_type": "stream",
     "text": [
      "/Users/mdfowler/opt/anaconda3/envs/metPy/lib/python3.9/site-packages/ipykernel/ipkernel.py:283: DeprecationWarning: `should_run_async` will not call `transform_cell` automatically in the future. Please pass the result to `transformed_cell` argument and any exception that happen during thetransform in `preprocessing_exc_tuple` in IPython 7.17 and above.\n",
      "  and should_run_async(code)\n"
     ]
    },
    {
     "name": "stdout",
     "output_type": "stream",
     "text": [
      "Done with station 1\n",
      "Done with station 2\n",
      "Done with station 3\n",
      "Done with station 4\n",
      "Done with station 5\n",
      "Done with station 6\n",
      "Done with station 7\n",
      "Done with station 8\n",
      "Done with station 9\n",
      "Done with station 10\n",
      "Done with station 11\n",
      "Done with station 12\n",
      "Done with station 13\n",
      "Done with station 14\n",
      "Done with station 15\n",
      "Done with station 16\n",
      "Done with station 17\n",
      "Done with station 18\n",
      "Done with station 19\n",
      "Done with station 20\n",
      "Done with station 21\n",
      "Done with station 22\n",
      "Done with station 23\n",
      "Done with station 24\n",
      "Done with station 25\n",
      "Done with station 26\n",
      "Done with station 27\n",
      "Done with station 28\n",
      "Done with station 29\n",
      "Done with station 30\n",
      "Done with station 31\n",
      "Done with station 32\n",
      "Done with station 33\n",
      "Done with station 34\n",
      "Done with station 35\n",
      "Done with station 36\n",
      "Done with station 37\n",
      "Done with station 38\n",
      "Done with station 39\n",
      "Done with station 40\n",
      "Done with station 41\n",
      "Done with station 42\n",
      "Done with station 43\n",
      "Done with station 44\n",
      "Done with station 45\n",
      "Done with station 46\n",
      "Done with station 47\n",
      "Done with station 48\n",
      "Done with station 49\n",
      "Done with station 50\n",
      "Done with station 51\n",
      "Done with station 52\n",
      "Done with station 53\n",
      "Done with station 54\n",
      "Done with station 55\n",
      "Done with station 56\n",
      "Done with station 57\n",
      "Done with station 58\n",
      "Done with station 59\n",
      "Done with station 60\n",
      "Done with station 61\n",
      "Done with station 62\n",
      "Done with station 63\n",
      "Done with station 64\n",
      "Done with station 65\n",
      "Done with station 66\n",
      "Done with station 67\n",
      "Done with station 68\n",
      "Done with station 69\n",
      "Done with station 70\n",
      "Done with station 71\n",
      "Done with station 72\n",
      "Done with station 73\n",
      "Done with station 74\n",
      "Done with station 75\n",
      "Done with station 76\n",
      "Done with station 77\n",
      "Done with station 78\n",
      "Done with station 79\n",
      "Done with station 80\n",
      "Done with station 81\n",
      "Done with station 82\n",
      "Done with station 83\n",
      "Done with station 84\n",
      "Done with station 85\n",
      "Done with station 86\n",
      "Done with station 87\n",
      "Done with station 88\n",
      "Done with station 89\n",
      "Done with station 90\n",
      "Done with station 91\n",
      "Done with station 92\n",
      "Done with station 93\n",
      "Done with station 94\n",
      "Done with station 95\n",
      "Done with station 96\n",
      "Done with station 97\n",
      "Done with station 98\n",
      "Done with station 99\n",
      "Done with station 100\n",
      "Done with station 101\n",
      "Done with station 102\n",
      "Done with station 103\n",
      "Done with station 104\n",
      "Done with station 105\n",
      "Done with station 106\n",
      "Done with station 107\n",
      "Done with station 108\n",
      "Done with station 109\n",
      "Done with station 110\n",
      "Done with station 111\n",
      "Done with station 112\n",
      "Done with station 113\n",
      "Done with station 114\n"
     ]
    }
   ],
   "source": [
    "# fluxnetDaily_SH = np.full([len(stationID), int(np.ceil(len(fluxnet_time_match[10,:])/8)), 8], np.nan)\n",
    "# fluxnetDaily_LH = np.full([len(stationID), int(np.ceil(len(fluxnet_time_match[10,:])/8)), 8], np.nan)\n",
    "\n",
    "# fluxnet_time_match = pd.DatetimeIndex(fluxnet_time_match)\n",
    "\n",
    "# for iStation in range(len(stationID)):\n",
    "\n",
    "#     # Get fluxnet data separated by day/hour \n",
    "#     fluxnetDaily_SH[iStation,:,:] = var_separateTime(fluxnet_time_match[iStation,:], fluxnet_SH_match[iStation,:])\n",
    "    \n",
    "#     fluxnetDaily_LH[iStation,:,:] = var_separateTime(fluxnet_time_match[iStation,:], fluxnet_LH_match[iStation,:])\n",
    "\n",
    "#     print('Done with station %i' % (iStation+1))\n",
    "    "
   ]
  },
  {
   "cell_type": "code",
   "execution_count": 155,
   "metadata": {},
   "outputs": [
    {
     "name": "stderr",
     "output_type": "stream",
     "text": [
      "/Users/mdfowler/opt/anaconda3/envs/metPy/lib/python3.9/site-packages/ipykernel/ipkernel.py:283: DeprecationWarning: `should_run_async` will not call `transform_cell` automatically in the future. Please pass the result to `transformed_cell` argument and any exception that happen during thetransform in `preprocessing_exc_tuple` in IPython 7.17 and above.\n",
      "  and should_run_async(code)\n"
     ]
    }
   ],
   "source": [
    "# # Save out to pickle file? \n",
    "\n",
    "# fileName = '/Users/mdfowler/Documents/Analysis/CLUBB_initial/data/fluxnet_dailySH.p'\n",
    "# with open(fileName, \"wb\") as f:\n",
    "#     pickle.dump(fluxnetDaily_SH, f)\n",
    "\n",
    "# fileName = '/Users/mdfowler/Documents/Analysis/CLUBB_initial/data/fluxnet_dailyLH.p'\n",
    "# with open(fileName, \"wb\") as f:\n",
    "#     pickle.dump(fluxnetDaily_LH, f)\n"
   ]
  },
  {
   "cell_type": "code",
   "execution_count": 156,
   "metadata": {},
   "outputs": [
    {
     "name": "stdout",
     "output_type": "stream",
     "text": [
      "Dimensions for model data:\n",
      "(114, 5476, 8)\n",
      "(114, 5476)\n",
      "\n",
      "Dimensions for fluxnet data:\n",
      "(114, 8395, 8)\n",
      "(114, 8395)\n"
     ]
    }
   ],
   "source": [
    "# Check that the dimensions all work out\n",
    "print('Dimensions for model data:')\n",
    "print(np.shape(modelDaily_SH))\n",
    "print(np.shape(dayClass_modelSel))\n",
    "\n",
    "print('\\nDimensions for fluxnet data:')\n",
    "print(np.shape(fluxnetDaily_SH))\n",
    "print(np.shape(dayClass_obsSel))\n"
   ]
  },
  {
   "cell_type": "code",
   "execution_count": 157,
   "metadata": {},
   "outputs": [
    {
     "name": "stderr",
     "output_type": "stream",
     "text": [
      "<ipython-input-157-e758a30aa155>:3: RuntimeWarning: divide by zero encountered in true_divide\n",
      "  fluxnetDaily_EF = fluxnetDaily_LH/(fluxnetDaily_SH+fluxnetDaily_LH)\n",
      "<ipython-input-157-e758a30aa155>:3: RuntimeWarning: invalid value encountered in true_divide\n",
      "  fluxnetDaily_EF = fluxnetDaily_LH/(fluxnetDaily_SH+fluxnetDaily_LH)\n"
     ]
    }
   ],
   "source": [
    "# Compute EF ahead of time...\n",
    "modelDaily_EF   = modelDaily_LH/(modelDaily_SH+modelDaily_LH)\n",
    "fluxnetDaily_EF = fluxnetDaily_LH/(fluxnetDaily_SH+fluxnetDaily_LH)\n",
    "\n"
   ]
  },
  {
   "cell_type": "code",
   "execution_count": 158,
   "metadata": {},
   "outputs": [
    {
     "name": "stderr",
     "output_type": "stream",
     "text": [
      "/Users/mdfowler/opt/anaconda3/envs/metPy/lib/python3.9/site-packages/numpy/core/fromnumeric.py:87: RuntimeWarning: invalid value encountered in reduce\n",
      "  return ufunc.reduce(obj, axis, dtype, out, **passkwargs)\n"
     ]
    }
   ],
   "source": [
    "# Now get means for each rain/dry day classification\n",
    "classCodes = ['wWet','wDry','dWet','dDry']\n",
    "\n",
    "modelMean_SHbyClass = np.full([len(classCodes), len(stationID), 8],np.nan)\n",
    "obsMean_SHbyClass   = np.full([len(classCodes), len(stationID), 8],np.nan)\n",
    "modelMean_LHbyClass = np.full([len(classCodes), len(stationID), 8],np.nan)\n",
    "obsMean_LHbyClass   = np.full([len(classCodes), len(stationID), 8],np.nan)\n",
    "modelMean_EFbyClass = np.full([len(classCodes), len(stationID), 8],np.nan)\n",
    "obsMean_EFbyClass   = np.full([len(classCodes), len(stationID), 8],np.nan)\n",
    "\n",
    "\n",
    "for iClass in range(len(classCodes)):\n",
    "    selClass = classCodes[iClass]\n",
    "    \n",
    "    for iStation in range(len(stationID)): \n",
    "        iModelDays = np.where(dayClass_modelSel[iStation,:]==selClass)[0]\n",
    "        iObsDays   = np.where(dayClass_obsSel[iStation,:]==selClass)[0]\n",
    "        \n",
    "        # Average over those days \n",
    "        modelMean_SHbyClass[iClass,iStation,:] = np.nanmean(modelDaily_SH[iStation,iModelDays,:],axis=0)\n",
    "        obsMean_SHbyClass[iClass,iStation,:]   = np.nanmean(fluxnetDaily_SH[iStation,iObsDays,:],axis=0)\n",
    "        \n",
    "        modelMean_LHbyClass[iClass,iStation,:] = np.nanmean(modelDaily_LH[iStation,iModelDays,:],axis=0)\n",
    "        obsMean_LHbyClass[iClass,iStation,:]   = np.nanmean(fluxnetDaily_LH[iStation,iObsDays,:],axis=0)\n",
    "        \n",
    "        modelMean_EFbyClass[iClass,iStation,:] = np.nanmean(modelDaily_EF[iStation,iModelDays,:],axis=0)\n",
    "        obsMean_EFbyClass[iClass,iStation,:]   = np.nanmean(fluxnetDaily_EF[iStation,iObsDays,:],axis=0)\n",
    "\n",
    "    if (iStation % 10)==0:\n",
    "        print('Done with station %i' % iStation)\n"
   ]
  },
  {
   "cell_type": "code",
   "execution_count": 173,
   "metadata": {},
   "outputs": [
    {
     "name": "stderr",
     "output_type": "stream",
     "text": [
      "/Users/mdfowler/opt/anaconda3/envs/metPy/lib/python3.9/site-packages/ipykernel/ipkernel.py:283: DeprecationWarning: `should_run_async` will not call `transform_cell` automatically in the future. Please pass the result to `transformed_cell` argument and any exception that happen during thetransform in `preprocessing_exc_tuple` in IPython 7.17 and above.\n",
      "  and should_run_async(code)\n"
     ]
    },
    {
     "data": {
      "text/plain": [
       "(4, 114, 8)"
      ]
     },
     "execution_count": 173,
     "metadata": {},
     "output_type": "execute_result"
    }
   ],
   "source": [
    "np.shape(modelMean_SHbyClass)\n"
   ]
  },
  {
   "cell_type": "code",
   "execution_count": 172,
   "metadata": {},
   "outputs": [
    {
     "data": {
      "text/plain": [
       "[<matplotlib.lines.Line2D at 0x1b0edb640>]"
      ]
     },
     "execution_count": 172,
     "metadata": {},
     "output_type": "execute_result"
    },
    {
     "data": {
      "image/png": "[encoded data removed]",
      "text/plain": [
       "<Figure size 432x288 with 1 Axes>"
      ]
     },
     "metadata": {
      "needs_background": "light"
     },
     "output_type": "display_data"
    }
   ],
   "source": [
    "# Test plot...\n",
    "plt.plot(np.unique(modelTimes_local[1,:].hour)[0:8], modelMean_EFbyClass[0,1,:],'*-')\n",
    "\n"
   ]
  },
  {
   "cell_type": "code",
   "execution_count": 205,
   "metadata": {},
   "outputs": [],
   "source": [
    "# What does mean bias look like, averaged across stations? \n",
    "\n",
    "absBias_SHbyClass = modelMean_SHbyClass - obsMean_SHbyClass\n",
    "absBias_LHbyClass = modelMean_LHbyClass - obsMean_LHbyClass\n",
    "absBias_EFbyClass = modelMean_EFbyClass - obsMean_EFbyClass\n",
    "\n",
    "absBias_SHbyClass_24hours = np.full([4, len(stationID), 24], np.nan)\n",
    "absBias_LHbyClass_24hours = np.full([4, len(stationID), 24], np.nan)\n",
    "absBias_EFbyClass_24hours = np.full([4, len(stationID), 24], np.nan)\n",
    "model_SHbyClass_24hours   = np.full([4, len(stationID), 24], np.nan)\n",
    "model_LHbyClass_24hours   = np.full([4, len(stationID), 24], np.nan)\n",
    "model_EFbyClass_24hours   = np.full([4, len(stationID), 24], np.nan)\n",
    "obs_SHbyClass_24hours     = np.full([4, len(stationID), 24], np.nan)\n",
    "obs_LHbyClass_24hours     = np.full([4, len(stationID), 24], np.nan)\n",
    "obs_EFbyClass_24hours     = np.full([4, len(stationID), 24], np.nan)\n",
    "\n",
    "for iStation in range(len(stationID)):\n",
    "    iPlace = np.unique(modelTimes_local[iStation,:].hour)[0:8].astype(int)\n",
    "    \n",
    "    absBias_SHbyClass_24hours[:, iStation, iPlace] = absBias_SHbyClass[:,iStation,:]\n",
    "    absBias_LHbyClass_24hours[:, iStation, iPlace] = absBias_LHbyClass[:,iStation,:]\n",
    "    absBias_EFbyClass_24hours[:, iStation, iPlace] = absBias_EFbyClass[:,iStation,:]\n",
    "    \n",
    "    model_SHbyClass_24hours[:,iStation,iPlace] = modelMean_SHbyClass[:,iStation,:]\n",
    "    model_LHbyClass_24hours[:,iStation,iPlace] = modelMean_LHbyClass[:,iStation,:]\n",
    "    model_EFbyClass_24hours[:,iStation,iPlace] = modelMean_EFbyClass[:,iStation,:]\n",
    "    \n",
    "    obs_SHbyClass_24hours[:,iStation,iPlace] = obsMean_SHbyClass[:,iStation,:]\n",
    "    obs_LHbyClass_24hours[:,iStation,iPlace] = obsMean_LHbyClass[:,iStation,:]\n",
    "    obs_EFbyClass_24hours[:,iStation,iPlace] = obsMean_EFbyClass[:,iStation,:]\n",
    "    \n",
    "    \n",
    "    #plt.plot(np.unique(modelTimes_local[iStation,:].hour)[0:8], modelMean_EFbyClass[0,iStation,:],'*-')\n"
   ]
  },
  {
   "cell_type": "code",
   "execution_count": 206,
   "metadata": {},
   "outputs": [
    {
     "data": {
      "text/plain": [
       "(4, 114, 24)"
      ]
     },
     "execution_count": 206,
     "metadata": {},
     "output_type": "execute_result"
    }
   ],
   "source": [
    "np.shape(model_LHbyClass_24hours)"
   ]
  },
  {
   "cell_type": "code",
   "execution_count": 219,
   "metadata": {},
   "outputs": [
    {
     "name": "stderr",
     "output_type": "stream",
     "text": [
      "/Users/mdfowler/opt/anaconda3/envs/metPy/lib/python3.9/site-packages/ipykernel/ipkernel.py:283: DeprecationWarning: `should_run_async` will not call `transform_cell` automatically in the future. Please pass the result to `transformed_cell` argument and any exception that happen during thetransform in `preprocessing_exc_tuple` in IPython 7.17 and above.\n",
      "  and should_run_async(code)\n"
     ]
    },
    {
     "data": {
      "text/plain": [
       "(-30.0, 250.0)"
      ]
     },
     "execution_count": 219,
     "metadata": {},
     "output_type": "execute_result"
    },
    {
     "data": {
      "image/png": "[encoded data removed]",
      "text/plain": [
       "<Figure size 1152x288 with 4 Axes>"
      ]
     },
     "metadata": {
      "needs_background": "light"
     },
     "output_type": "display_data"
    }
   ],
   "source": [
    "fig, axs = plt.subplots(1,4, figsize=(16, 4))\n",
    "axs = axs.ravel()\n",
    "\n",
    "axs[0].plot(np.arange(0,24,1), np.nanmean(obs_SHbyClass_24hours[0,:,:], axis=0), 'k',  label='FLUXNET')\n",
    "axs[0].plot(np.arange(0,24,1), np.nanmean(model_SHbyClass_24hours[0,:,:], axis=0),'r', label='CESM2')\n",
    "axs[0].set_title('Mean SH:\\n'+classCodes[0]+' Days',fontsize=14)\n",
    "axs[0].legend()\n",
    "axs[0].set_xlabel('Hour (local)')\n",
    "axs[0].set_ylabel('SHFLX [W/m2]')\n",
    "\n",
    "axs[1].plot(np.arange(0,24,1), np.nanmean(obs_SHbyClass_24hours[1,:,:], axis=0), 'k',  label='FLUXNET')\n",
    "axs[1].plot(np.arange(0,24,1), np.nanmean(model_SHbyClass_24hours[1,:,:], axis=0),'r', label='CESM2')\n",
    "axs[1].set_title('Mean SH:\\n'+classCodes[1]+' Days',fontsize=14)\n",
    "axs[1].legend()\n",
    "axs[1].set_xlabel('Hour (local)')\n",
    "\n",
    "axs[2].plot(np.arange(0,24,1), np.nanmean(obs_SHbyClass_24hours[2,:,:], axis=0), 'k',  label='FLUXNET')\n",
    "axs[2].plot(np.arange(0,24,1), np.nanmean(model_SHbyClass_24hours[2,:,:], axis=0),'r', label='CESM2')\n",
    "axs[2].set_title('Mean SH:\\n'+classCodes[2]+' Days',fontsize=14)\n",
    "axs[2].legend()\n",
    "axs[2].set_xlabel('Hour (local)')\n",
    "\n",
    "axs[3].plot(np.arange(0,24,1), np.nanmean(obs_SHbyClass_24hours[3,:,:], axis=0), 'k',  label='FLUXNET')\n",
    "axs[3].plot(np.arange(0,24,1), np.nanmean(model_SHbyClass_24hours[3,:,:], axis=0),'r', label='CESM2')\n",
    "axs[3].set_title('Mean SH:\\n'+classCodes[3]+' Days',fontsize=14)\n",
    "axs[3].legend()\n",
    "axs[3].set_xlabel('Hour (local)')\n",
    "\n",
    "# Set y-axis limits\n",
    "axs[0].set_ylim([-30,250])\n",
    "axs[1].set_ylim([-30,250])\n",
    "axs[2].set_ylim([-30,250])\n",
    "axs[3].set_ylim([-30,250])\n"
   ]
  },
  {
   "cell_type": "code",
   "execution_count": 221,
   "metadata": {},
   "outputs": [
    {
     "name": "stderr",
     "output_type": "stream",
     "text": [
      "/Users/mdfowler/opt/anaconda3/envs/metPy/lib/python3.9/site-packages/ipykernel/ipkernel.py:283: DeprecationWarning: `should_run_async` will not call `transform_cell` automatically in the future. Please pass the result to `transformed_cell` argument and any exception that happen during thetransform in `preprocessing_exc_tuple` in IPython 7.17 and above.\n",
      "  and should_run_async(code)\n"
     ]
    },
    {
     "data": {
      "text/plain": [
       "(-10.0, 200.0)"
      ]
     },
     "execution_count": 221,
     "metadata": {},
     "output_type": "execute_result"
    },
    {
     "data": {
      "image/png": "[encoded data removed]",
      "text/plain": [
       "<Figure size 1152x288 with 4 Axes>"
      ]
     },
     "metadata": {
      "needs_background": "light"
     },
     "output_type": "display_data"
    }
   ],
   "source": [
    "fig, axs = plt.subplots(1,4, figsize=(16, 4))\n",
    "axs = axs.ravel()\n",
    "\n",
    "axs[0].plot(np.arange(0,24,1), np.nanmean(obs_LHbyClass_24hours[0,:,:], axis=0), 'k',  label='FLUXNET')\n",
    "axs[0].plot(np.arange(0,24,1), np.nanmean(model_LHbyClass_24hours[0,:,:], axis=0),'r', label='CESM2')\n",
    "axs[0].set_title('Mean LH:\\n'+classCodes[0]+' Days',fontsize=14)\n",
    "axs[0].legend()\n",
    "axs[0].set_xlabel('Hour (local)')\n",
    "axs[0].set_ylabel('LHFLX [W/m2]')\n",
    "\n",
    "axs[1].plot(np.arange(0,24,1), np.nanmean(obs_LHbyClass_24hours[1,:,:], axis=0), 'k',  label='FLUXNET')\n",
    "axs[1].plot(np.arange(0,24,1), np.nanmean(model_LHbyClass_24hours[1,:,:], axis=0),'r', label='CESM2')\n",
    "axs[1].set_title('Mean LH:\\n'+classCodes[1]+' Days',fontsize=14)\n",
    "axs[1].legend()\n",
    "axs[1].set_xlabel('Hour (local)')\n",
    "\n",
    "axs[2].plot(np.arange(0,24,1), np.nanmean(obs_LHbyClass_24hours[2,:,:], axis=0), 'k',  label='FLUXNET')\n",
    "axs[2].plot(np.arange(0,24,1), np.nanmean(model_LHbyClass_24hours[2,:,:], axis=0),'r', label='CESM2')\n",
    "axs[2].set_title('Mean LH:\\n'+classCodes[2]+' Days',fontsize=14)\n",
    "axs[2].legend()\n",
    "axs[2].set_xlabel('Hour (local)')\n",
    "\n",
    "axs[3].plot(np.arange(0,24,1), np.nanmean(obs_LHbyClass_24hours[3,:,:], axis=0), 'k',  label='FLUXNET')\n",
    "axs[3].plot(np.arange(0,24,1), np.nanmean(model_LHbyClass_24hours[3,:,:], axis=0),'r', label='CESM2')\n",
    "axs[3].set_title('Mean SLH:\\n'+classCodes[3]+' Days',fontsize=14)\n",
    "axs[3].legend()\n",
    "axs[3].set_xlabel('Hour (local)')\n",
    "\n",
    "# Set y-axis limits\n",
    "axs[0].set_ylim([-10,200])\n",
    "axs[1].set_ylim([-10,200])\n",
    "axs[2].set_ylim([-10,200])\n",
    "axs[3].set_ylim([-10,200])\n",
    "\n"
   ]
  },
  {
   "cell_type": "code",
   "execution_count": 224,
   "metadata": {},
   "outputs": [
    {
     "name": "stderr",
     "output_type": "stream",
     "text": [
      "/Users/mdfowler/opt/anaconda3/envs/metPy/lib/python3.9/site-packages/ipykernel/ipkernel.py:283: DeprecationWarning: `should_run_async` will not call `transform_cell` automatically in the future. Please pass the result to `transformed_cell` argument and any exception that happen during thetransform in `preprocessing_exc_tuple` in IPython 7.17 and above.\n",
      "  and should_run_async(code)\n",
      "/Users/mdfowler/opt/anaconda3/envs/metPy/lib/python3.9/site-packages/numpy/core/fromnumeric.py:87: RuntimeWarning: invalid value encountered in reduce\n",
      "  return ufunc.reduce(obj, axis, dtype, out, **passkwargs)\n",
      "/Users/mdfowler/opt/anaconda3/envs/metPy/lib/python3.9/site-packages/numpy/core/fromnumeric.py:87: RuntimeWarning: invalid value encountered in reduce\n",
      "  return ufunc.reduce(obj, axis, dtype, out, **passkwargs)\n",
      "/Users/mdfowler/opt/anaconda3/envs/metPy/lib/python3.9/site-packages/numpy/core/fromnumeric.py:87: RuntimeWarning: invalid value encountered in reduce\n",
      "  return ufunc.reduce(obj, axis, dtype, out, **passkwargs)\n"
     ]
    },
    {
     "data": {
      "text/plain": [
       "(-10.0, 10.0)"
      ]
     },
     "execution_count": 224,
     "metadata": {},
     "output_type": "execute_result"
    },
    {
     "data": {
      "image/png": "[encoded data removed]",
      "text/plain": [
       "<Figure size 1152x288 with 4 Axes>"
      ]
     },
     "metadata": {
      "needs_background": "light"
     },
     "output_type": "display_data"
    }
   ],
   "source": [
    "fig, axs = plt.subplots(1,4, figsize=(16, 4))\n",
    "axs = axs.ravel()\n",
    "\n",
    "axs[0].plot(np.arange(0,24,1), np.nanmean(obs_EFbyClass_24hours[0,:,:], axis=0), 'k',  label='FLUXNET')\n",
    "axs[0].plot(np.arange(0,24,1), np.nanmean(model_EFbyClass_24hours[0,:,:], axis=0),'r', label='CESM2')\n",
    "axs[0].set_title('Mean EF:\\n'+classCodes[0]+' Days',fontsize=14)\n",
    "axs[0].legend()\n",
    "axs[0].set_xlabel('Hour (local)')\n",
    "axs[0].set_ylabel('EF')\n",
    "\n",
    "axs[1].plot(np.arange(0,24,1), np.nanmean(obs_EFbyClass_24hours[1,:,:], axis=0), 'k',  label='FLUXNET')\n",
    "axs[1].plot(np.arange(0,24,1), np.nanmean(model_EFbyClass_24hours[1,:,:], axis=0),'r', label='CESM2')\n",
    "axs[1].set_title('Mean EF:\\n'+classCodes[1]+' Days',fontsize=14)\n",
    "axs[1].legend()\n",
    "axs[1].set_xlabel('Hour (local)')\n",
    "\n",
    "axs[2].plot(np.arange(0,24,1), np.nanmean(obs_EFbyClass_24hours[2,:,:], axis=0), 'k',  label='FLUXNET')\n",
    "axs[2].plot(np.arange(0,24,1), np.nanmean(model_EFbyClass_24hours[2,:,:], axis=0),'r', label='CESM2')\n",
    "axs[2].set_title('Mean EF:\\n'+classCodes[2]+' Days',fontsize=14)\n",
    "axs[2].legend()\n",
    "axs[2].set_xlabel('Hour (local)')\n",
    "\n",
    "axs[3].plot(np.arange(0,24,1), np.nanmean(obs_EFbyClass_24hours[3,:,:], axis=0), 'k',  label='FLUXNET')\n",
    "axs[3].plot(np.arange(0,24,1), np.nanmean(model_EFbyClass_24hours[3,:,:], axis=0),'r', label='CESM2')\n",
    "axs[3].set_title('Mean EF:\\n'+classCodes[3]+' Days',fontsize=14)\n",
    "axs[3].legend()\n",
    "axs[3].set_xlabel('Hour (local)')\n",
    "\n",
    "# Set y-axis limits\n",
    "axs[0].set_ylim([-10,10])\n",
    "axs[1].set_ylim([-10,10])\n",
    "axs[2].set_ylim([-10,10])\n",
    "axs[3].set_ylim([-10,10])\n",
    "\n",
    "\n"
   ]
  },
  {
   "cell_type": "code",
   "execution_count": 198,
   "metadata": {},
   "outputs": [
    {
     "name": "stderr",
     "output_type": "stream",
     "text": [
      "/Users/mdfowler/opt/anaconda3/envs/metPy/lib/python3.9/site-packages/ipykernel/ipkernel.py:283: DeprecationWarning: `should_run_async` will not call `transform_cell` automatically in the future. Please pass the result to `transformed_cell` argument and any exception that happen during thetransform in `preprocessing_exc_tuple` in IPython 7.17 and above.\n",
      "  and should_run_async(code)\n"
     ]
    },
    {
     "data": {
      "text/plain": [
       "Text(0.5, 0, 'Hour (local)')"
      ]
     },
     "execution_count": 198,
     "metadata": {},
     "output_type": "execute_result"
    },
    {
     "data": {
      "image/png": "[encoded data removed]",
      "text/plain": [
       "<Figure size 576x432 with 1 Axes>"
      ]
     },
     "metadata": {
      "needs_background": "light"
     },
     "output_type": "display_data"
    }
   ],
   "source": [
    "fig, ax1 = plt.subplots(1,1, figsize=(8, 6))\n",
    "\n",
    "ax1.plot(np.arange(0,24,1), np.nanmean(absBias_SHbyClass_24hours[0,:,:], axis=0), label=classCodes[0])\n",
    "ax1.plot(np.arange(0,24,1), np.nanmean(absBias_SHbyClass_24hours[1,:,:], axis=0), label=classCodes[1])\n",
    "ax1.plot(np.arange(0,24,1), np.nanmean(absBias_SHbyClass_24hours[2,:,:], axis=0), label=classCodes[2])\n",
    "ax1.plot(np.arange(0,24,1), np.nanmean(absBias_SHbyClass_24hours[3,:,:], axis=0), label=classCodes[3])\n",
    "\n",
    "ax1.legend()\n",
    "ax1.axhline(0,color='gray')\n",
    "ax1.set_title('Diurnal cycle of absolute SHFLX Bias (model-obs)')\n",
    "ax1.set_ylabel('Bias [W/m2]')\n",
    "ax1.set_xlabel('Hour (local)')\n"
   ]
  },
  {
   "cell_type": "code",
   "execution_count": 197,
   "metadata": {},
   "outputs": [
    {
     "name": "stderr",
     "output_type": "stream",
     "text": [
      "/Users/mdfowler/opt/anaconda3/envs/metPy/lib/python3.9/site-packages/ipykernel/ipkernel.py:283: DeprecationWarning: `should_run_async` will not call `transform_cell` automatically in the future. Please pass the result to `transformed_cell` argument and any exception that happen during thetransform in `preprocessing_exc_tuple` in IPython 7.17 and above.\n",
      "  and should_run_async(code)\n"
     ]
    },
    {
     "data": {
      "text/plain": [
       "Text(0.5, 0, 'Hour (local)')"
      ]
     },
     "execution_count": 197,
     "metadata": {},
     "output_type": "execute_result"
    },
    {
     "data": {
      "image/png": "[encoded data removed]",
      "text/plain": [
       "<Figure size 576x432 with 1 Axes>"
      ]
     },
     "metadata": {
      "needs_background": "light"
     },
     "output_type": "display_data"
    }
   ],
   "source": [
    "fig, ax1 = plt.subplots(1,1, figsize=(8, 6))\n",
    "\n",
    "ax1.plot(np.arange(0,24,1), np.nanmean(absBias_LHbyClass_24hours[0,:,:], axis=0), label=classCodes[0])\n",
    "ax1.plot(np.arange(0,24,1), np.nanmean(absBias_LHbyClass_24hours[1,:,:], axis=0), label=classCodes[1])\n",
    "ax1.plot(np.arange(0,24,1), np.nanmean(absBias_LHbyClass_24hours[2,:,:], axis=0), label=classCodes[2])\n",
    "ax1.plot(np.arange(0,24,1), np.nanmean(absBias_LHbyClass_24hours[3,:,:], axis=0), label=classCodes[3])\n",
    "\n",
    "ax1.legend()\n",
    "ax1.axhline(0,color='gray')\n",
    "ax1.set_title('Diurnal cycle of absolute LHFLX Bias (model-obs)')\n",
    "ax1.set_ylabel('Bias [W/m2]')\n",
    "ax1.set_xlabel('Hour (local)')\n",
    "\n"
   ]
  },
  {
   "cell_type": "code",
   "execution_count": 202,
   "metadata": {},
   "outputs": [
    {
     "name": "stderr",
     "output_type": "stream",
     "text": [
      "/Users/mdfowler/opt/anaconda3/envs/metPy/lib/python3.9/site-packages/ipykernel/ipkernel.py:283: DeprecationWarning: `should_run_async` will not call `transform_cell` automatically in the future. Please pass the result to `transformed_cell` argument and any exception that happen during thetransform in `preprocessing_exc_tuple` in IPython 7.17 and above.\n",
      "  and should_run_async(code)\n",
      "/Users/mdfowler/opt/anaconda3/envs/metPy/lib/python3.9/site-packages/numpy/core/fromnumeric.py:87: RuntimeWarning: invalid value encountered in reduce\n",
      "  return ufunc.reduce(obj, axis, dtype, out, **passkwargs)\n",
      "/Users/mdfowler/opt/anaconda3/envs/metPy/lib/python3.9/site-packages/numpy/core/fromnumeric.py:87: RuntimeWarning: invalid value encountered in reduce\n",
      "  return ufunc.reduce(obj, axis, dtype, out, **passkwargs)\n",
      "/Users/mdfowler/opt/anaconda3/envs/metPy/lib/python3.9/site-packages/numpy/core/fromnumeric.py:87: RuntimeWarning: invalid value encountered in reduce\n",
      "  return ufunc.reduce(obj, axis, dtype, out, **passkwargs)\n"
     ]
    },
    {
     "data": {
      "text/plain": [
       "(0.0, 100.0)"
      ]
     },
     "execution_count": 202,
     "metadata": {},
     "output_type": "execute_result"
    },
    {
     "data": {
      "image/png": "[encoded data removed]",
      "text/plain": [
       "<Figure size 576x432 with 1 Axes>"
      ]
     },
     "metadata": {
      "needs_background": "light"
     },
     "output_type": "display_data"
    }
   ],
   "source": [
    "fig, ax1 = plt.subplots(1,1, figsize=(8, 6))\n",
    "\n",
    "ax1.plot(np.arange(0,24,1), np.nanmean(absBias_EFbyClass_24hours[0,:,:], axis=0), label=classCodes[0])\n",
    "ax1.plot(np.arange(0,24,1), np.nanmean(absBias_EFbyClass_24hours[1,:,:], axis=0), label=classCodes[1])\n",
    "ax1.plot(np.arange(0,24,1), np.nanmean(absBias_EFbyClass_24hours[2,:,:], axis=0), label=classCodes[2])\n",
    "ax1.plot(np.arange(0,24,1), np.nanmean(absBias_EFbyClass_24hours[3,:,:], axis=0), label=classCodes[3])\n",
    "\n",
    "ax1.legend()\n",
    "ax1.axhline(0,color='gray')\n",
    "ax1.set_title('Diurnal cycle of absolute EF bias (model-obs)')\n",
    "ax1.set_ylabel('Bias [W/m2]')\n",
    "ax1.set_xlabel('Hour (local)')\n",
    "ax1.set_ylim([0,100])\n"
   ]
  },
  {
   "cell_type": "code",
   "execution_count": null,
   "metadata": {},
   "outputs": [],
   "source": []
  }
 ],
 "metadata": {
  "kernelspec": {
   "display_name": "Python 3",
   "language": "python",
   "name": "python3"
  },
  "language_info": {
   "codemirror_mode": {
    "name": "ipython",
    "version": 3
   },
   "file_extension": ".py",
   "mimetype": "text/x-python",
   "name": "python",
   "nbconvert_exporter": "python",
   "pygments_lexer": "ipython3",
   "version": "3.9.1"
  }
 },
 "nbformat": 4,
 "nbformat_minor": 4
}
