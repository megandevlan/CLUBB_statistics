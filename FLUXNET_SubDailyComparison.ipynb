{
 "cells": [
  {
   "cell_type": "code",
   "execution_count": 1,
   "metadata": {
    "ExecuteTime": {
     "end_time": "2021-03-02T17:00:33.329658Z",
     "start_time": "2021-03-02T17:00:27.805573Z"
    }
   },
   "outputs": [],
   "source": [
    "# Load libraries\n",
    "\n",
    "# Plotting utils \n",
    "import matplotlib.pyplot as plt \n",
    "import matplotlib.colors as colors\n",
    "import matplotlib.ticker as ticker \n",
    "import matplotlib.patches as patches\n",
    "import matplotlib.animation as animation\n",
    "import matplotlib as matplotlib\n",
    "import cartopy\n",
    "import cartopy.feature as cfeature\n",
    "import cartopy.crs as ccrs\n",
    "import cartopy.util\n",
    "\n",
    "# Analysis\n",
    "import os\n",
    "import numpy as np \n",
    "import xarray as xr\n",
    "import datetime\n",
    "from   datetime import date, timedelta\n",
    "import pandas as pd \n",
    "#import regionmask\n",
    "import pickle\n",
    "import scipy.stats as stats\n",
    "import glob\n"
   ]
  },
  {
   "cell_type": "code",
   "execution_count": 2,
   "metadata": {
    "ExecuteTime": {
     "end_time": "2021-03-02T17:00:34.739467Z",
     "start_time": "2021-03-02T17:00:34.737143Z"
    }
   },
   "outputs": [],
   "source": [
    "import warnings\n",
    "warnings.filterwarnings('once')\n"
   ]
  },
  {
   "cell_type": "markdown",
   "metadata": {},
   "source": [
    "## Read in FLUXNET data"
   ]
  },
  {
   "cell_type": "code",
   "execution_count": 6,
   "metadata": {
    "ExecuteTime": {
     "end_time": "2021-03-02T17:03:51.311574Z",
     "start_time": "2021-03-02T17:03:16.298251Z"
    }
   },
   "outputs": [
    {
     "name": "stdout",
     "output_type": "stream",
     "text": [
      "Available site characteristics (metadata) include: \n",
      "\n",
      " ['SITE_ID' 'SITE_NAME' 'FLUXNET2015' 'FLUXNET-CH4' 'LOCATION_LAT'\n",
      " 'LOCATION_LONG' 'LOCATION_ELEV' 'IGBP' 'MAT' 'MAP'] \n",
      "\n"
     ]
    }
   ],
   "source": [
    "# --------------------------------------\n",
    "# Define data directory: \n",
    "# --------------------------------------\n",
    "fluxnetDir   = '/Users/mdfowler/Documents/Analysis/Coupling_initial/data/FLUXNET2015/'\n",
    "\n",
    "# --------------------------------------\n",
    "# Get general site info\n",
    "# --------------------------------------\n",
    "siteInfoFile = fluxnetDir+'SiteList.csv'\n",
    "# Now read that CSV file into a pandas dataframe \n",
    "siteInfoDF = pd.read_csv(siteInfoFile)\n",
    "\n",
    "# Print out information available:\n",
    "print('Available site characteristics (metadata) include: \\n\\n', siteInfoDF.columns.values, '\\n')\n",
    "\n",
    "# --------------------------------------\n",
    "# And read in metadata for good measure\n",
    "# --------------------------------------\n",
    "metadataFile = fluxnetDir+'FLX_AA-Flx_BIF_ALL_20200501/FLX_AA-Flx_BIF_DD_20200501.xlsx'\n",
    "\n",
    "# Read in that file \n",
    "metadataDF = pd.read_excel(metadataFile, engine='openpyxl')\n"
   ]
  },
  {
   "cell_type": "code",
   "execution_count": 7,
   "metadata": {
    "ExecuteTime": {
     "end_time": "2021-03-02T17:05:30.325117Z",
     "start_time": "2021-03-02T17:05:30.238840Z"
    }
   },
   "outputs": [],
   "source": [
    "# --------------------------------------\n",
    "# Get a list of all fluxnet data files\n",
    "# --------------------------------------\n",
    "dataFiles = glob.glob(fluxnetDir + 'FLX_*/*SUBSET_H?*')\n"
   ]
  },
  {
   "cell_type": "code",
   "execution_count": 8,
   "metadata": {
    "ExecuteTime": {
     "end_time": "2021-03-02T17:05:31.081778Z",
     "start_time": "2021-03-02T17:05:31.073955Z"
    }
   },
   "outputs": [],
   "source": [
    "# ------------------------------------------\n",
    "# Define a function to read in FLUXNET data \n",
    "# ------------------------------------------\n",
    "\n",
    "# --------------------------------------------------------\n",
    "# Function to read requested variables from FLUXNET file. \n",
    "# - - - - - - - - - - - - - - - - - - - - - - - - - - - - \n",
    "# \n",
    "# Inputs:  fileName --> Full path to FLUXNET data file \n",
    "#          varNames --> An array of variable names to be \n",
    "#                       retrieved from said data file. \n",
    "#                       NOTE: If you wish to retrieve *all* \n",
    "#                       variables, pass the string 'ALL'. \n",
    "#          Note: varInfo found here\n",
    "#                https://fluxnet.org/data/fluxnet2015-dataset/subset-data-product/\n",
    "#  \n",
    "# Outputs: fluxnetID --> ID string used to identify station\n",
    "#          fluxnetDS --> An x-array dataset containing the \n",
    "#                        requested variables.\n",
    "#                        Missing values will be set to NaN. \n",
    "# \n",
    "# --------------------------------------------------------\n",
    "\n",
    "def readFLUXNET_var(fileName, varNames): \n",
    "    # Get ID of station \n",
    "    startID   = fileName.find('FLX_')\n",
    "    fluxnetID = fileName[startID+4:startID+10]\n",
    "    \n",
    "    # print('Reading in site - ', fluxnetID)\n",
    "    \n",
    "    # Read in CSV file containing data \n",
    "    dataDF = pd.read_csv(fileName)\n",
    "    \n",
    "    # Return ALL variables from dataDF if requested\n",
    "    if varNames=='ALL':\n",
    "        fluxnetDF = dataDF\n",
    "        \n",
    "        # Set any value that's missing to NaN (not -999)\n",
    "        fluxnetDF = fluxnetDF.replace(-9999, np.nan)\n",
    "\n",
    "        \n",
    "        # If time has been requested, reformat to pandas make index\n",
    "        fluxnetDF['TIMESTAMP_START'] = pd.to_datetime(fluxnetDF['TIMESTAMP_START'].values, format='%Y%m%d%H%M')\n",
    "        fluxnetDF = fluxnetDF.set_index(['TIMESTAMP_START'])\n",
    "        \n",
    "        # Convert dataframe to Xarray Dataset (required to use coupling metrics toolbox)\n",
    "        fluxnetDS = fluxnetDF.to_xarray()\n",
    "            \n",
    "    # Reduce returned DF to contain only variables of interest  \n",
    "    else:\n",
    "        \n",
    "        # Check that requested variables are available in specific file\n",
    "        errCount = 0                       # Initialize flag for error \n",
    "        colNames = dataDF.columns.values   # Available variables in file \n",
    "        \n",
    "        for iVar in range(len(varNames)):  # Check each variable individually\n",
    "            if (varNames[iVar] in colNames)==False:\n",
    "                # Turn on print statement for more verbose output\n",
    "                # print('** ERROR: %13s   not contained in file for %8s  **' %(varNames[iVar], fluxnetID))\n",
    "                \n",
    "                # If any variable is not conatined in file, return a NaN \n",
    "                fluxnetDS = -999\n",
    "                errCount  = errCount+1\n",
    "                \n",
    "        # If all the variables *are* available, isolate those in DF and return that\n",
    "        if errCount == 0: \n",
    "            fluxnetDF = dataDF[varNames]\n",
    "            \n",
    "            # Set any value that's missing to NaN (not -999)\n",
    "            fluxnetDF = fluxnetDF.replace(-9999, np.nan)\n",
    "            \n",
    "            # If time has been requested, reformat to pandas make index\n",
    "            if ('TIMESTAMP_START' in varNames)==True:\n",
    "                fluxnetDF['TIMESTAMP_START'] = pd.to_datetime(fluxnetDF['TIMESTAMP_START'].values, format='%Y%m%d%H%M')\n",
    "                fluxnetDF = fluxnetDF.set_index(['TIMESTAMP_START'])\n",
    "        \n",
    "            # Convert dataframe to Xarray Dataset (required to use coupling metrics toolbox)\n",
    "            fluxnetDS = fluxnetDF.to_xarray()\n",
    "    \n",
    "    return(fluxnetID, fluxnetDS)\n"
   ]
  },
  {
   "cell_type": "code",
   "execution_count": 9,
   "metadata": {
    "ExecuteTime": {
     "end_time": "2021-03-02T17:08:53.270618Z",
     "start_time": "2021-03-02T17:05:32.948621Z"
    },
    "scrolled": true
   },
   "outputs": [],
   "source": [
    "# Define emtpy arrays to save stuff into \n",
    "startTime_fluxnet = np.full([len(dataFiles)], np.nan)\n",
    "endTime_fluxnet   = np.full([len(dataFiles)], np.nan)\n",
    "nMonths_fluxnet   = np.full([len(dataFiles)], np.nan)\n",
    "# allStationID      = np.empty([len(dataFiles)]).astype(str)\n",
    "\n",
    "# Variables I want returned:\n",
    "varNames = ['TIMESTAMP_START','H_F_MDS','LE_F_MDS','WS_F','P_F','PA_F','TA_F']\n",
    "\n",
    "# Loop over each station (data file)\n",
    "for iStation in range(len(dataFiles)): \n",
    "    \n",
    "    # Read in data \n",
    "    # ----------------------------------------------------------\n",
    "    fluxnetID,fluxnetDS = readFLUXNET_var(dataFiles[iStation], varNames)\n",
    "#     allStationID[iStation] = fluxnetID\n",
    "    \n",
    "    # Save lat and lon for this station \n",
    "    # ----------------------------------------------------------\n",
    "    indStation  = np.where(fluxnetID==siteInfoDF['SITE_ID'])\n",
    "    lat_fluxnet = siteInfoDF['LOCATION_LAT'].values[indStation]\n",
    "    lon_fluxnet = siteInfoDF['LOCATION_LONG'].values[indStation]\n",
    "    \n",
    "    # Check that there was data saved for this particular site: \n",
    "    # ----------------------------------------------------------\n",
    "    if (type(fluxnetDS)==int):\n",
    "        print('No data for station: %8s' % fluxnetID)\n",
    "    \n",
    "    elif ( (np.all(np.isnan(fluxnetDS['H_F_MDS']))==True) | (np.all(np.isnan(fluxnetDS['WS_F']))==True) | (np.all(np.isnan(fluxnetDS['LE_F_MDS']))==True) ):\n",
    "        print('No data for station (all Nan): %8s' % fluxnetID)\n",
    "        \n",
    "    # If data is present: \n",
    "    # ----------------------------------------------------------\n",
    "    else:        \n",
    "        # Only consider where data is actually present for selected vars\n",
    "        iReal      = np.where((np.isfinite(fluxnetDS['LE_F_MDS'])==True) & \n",
    "                              (np.isfinite(fluxnetDS['H_F_MDS'])==True) & \n",
    "                              (np.isfinite(fluxnetDS['WS_F'])==True) & \n",
    "                              (np.isfinite(fluxnetDS['P_F'])==True) &\n",
    "                              (np.isfinite(fluxnetDS['PA_F'])==True) &   \n",
    "                              (np.isfinite(fluxnetDS['TA_F'])==True))[0]\n",
    "        fluxnetDS  = fluxnetDS.isel(TIMESTAMP_START=iReal)\n",
    "#         # Upsample to 3-hourly?\n",
    "#         fluxnetDS = fluxnetDS.resample(TIMESTAMP_START='3H').mean()\n",
    "        \n",
    "        # Check how long data is available for and isolate JJA \n",
    "        # -----------------------------------------------------------\n",
    "        startTime_fluxnet[iStation]  = fluxnetDS['TIMESTAMP_START'].values[0]\n",
    "        endTime_fluxnet[iStation]    = fluxnetDS['TIMESTAMP_START'].values[-1]\n",
    "        \n",
    "        dateRange = pd.date_range(start=startTime_fluxnet[iStation],end=endTime_fluxnet[iStation],freq='M')\n",
    "        nMonths_fluxnet[iStation] = len(dateRange)\n"
   ]
  },
  {
   "cell_type": "code",
   "execution_count": 10,
   "metadata": {
    "ExecuteTime": {
     "end_time": "2021-03-02T17:10:05.021205Z",
     "start_time": "2021-03-02T17:10:05.010039Z"
    }
   },
   "outputs": [
    {
     "name": "stdout",
     "output_type": "stream",
     "text": [
      "Number of stations with at least 5 years of data:  114\n",
      "\n",
      "Looking at every station available...\n",
      "Earliest start of data:     1992-01-01 00:00:00\n",
      "Latest end of data:         2014-12-31 23:30:00\n",
      "\n",
      "Of stations with at least 5 years of data...\n",
      "Earliest start of data:     1992-01-01 00:00:00\n",
      "Latest end of data:         2014-12-31 23:30:00\n"
     ]
    },
    {
     "name": "stderr",
     "output_type": "stream",
     "text": [
      "/Users/mdfowler/opt/anaconda3/envs/newBase/lib/python3.8/site-packages/ipykernel/ipkernel.py:287: DeprecationWarning: `should_run_async` will not call `transform_cell` automatically in the future. Please pass the result to `transformed_cell` argument and any exception that happen during thetransform in `preprocessing_exc_tuple` in IPython 7.17 and above.\n",
      "  and should_run_async(code)\n"
     ]
    }
   ],
   "source": [
    "# Check how many/which stations have enough years of data to be used, then\n",
    "#    print some useful information on all that and \n",
    "\n",
    "iMinStart = np.where(startTime_fluxnet==np.nanmin(startTime_fluxnet))[0]\n",
    "iMaxEnd   = np.where(endTime_fluxnet==np.nanmax(endTime_fluxnet))[0]\n",
    "\n",
    "limYears = 5 \n",
    "iStation_limYears = np.where(nMonths_fluxnet>=limYears*12)[0]\n",
    "\n",
    "print('Number of stations with at least 5 years of data: ', len(iStation_limYears))\n",
    "print()\n",
    "\n",
    "print('Looking at every station available...')\n",
    "print('Earliest start of data:    ', pd.DatetimeIndex(startTime_fluxnet[iMinStart])[0] )\n",
    "print('Latest end of data:        ', pd.DatetimeIndex(endTime_fluxnet[iMaxEnd])[0] )\n",
    "\n",
    "print()\n",
    "del iMinStart\n",
    "del iMaxEnd\n",
    "\n",
    "startTime_fluxnet_sel = startTime_fluxnet[iStation_limYears]\n",
    "endTime_fluxnet_sel   = endTime_fluxnet[iStation_limYears]\n",
    "\n",
    "iMinStart = np.where(startTime_fluxnet_sel==np.nanmin(startTime_fluxnet_sel))[0]\n",
    "iMaxEnd   = np.where(endTime_fluxnet_sel==np.nanmax(endTime_fluxnet_sel))[0]\n",
    "print('Of stations with at least 5 years of data...')\n",
    "print('Earliest start of data:    ', pd.DatetimeIndex(startTime_fluxnet_sel[iMinStart])[0] )\n",
    "print('Latest end of data:        ', pd.DatetimeIndex(endTime_fluxnet_sel[iMaxEnd])[0] )\n",
    "\n"
   ]
  },
  {
   "cell_type": "code",
   "execution_count": 11,
   "metadata": {
    "ExecuteTime": {
     "end_time": "2021-03-02T17:10:06.035980Z",
     "start_time": "2021-03-02T17:10:06.029396Z"
    }
   },
   "outputs": [
    {
     "name": "stdout",
     "output_type": "stream",
     "text": [
      "Max number of days:  403248\n"
     ]
    }
   ],
   "source": [
    "# So let's filter stations to use just the ones that have at least 5 years of data \n",
    "#    (or whatever the limYears threshold is set to above...)\n",
    "dataFiles_filter = np.squeeze(dataFiles)[iStation_limYears]\n",
    "\n",
    "# Let's also figure out just how many days we'll need to create empty arrays for \n",
    "dayRange = pd.date_range(start=pd.DatetimeIndex(startTime_fluxnet_sel[iMinStart])[0],\n",
    "                         end=pd.DatetimeIndex(endTime_fluxnet_sel[iMaxEnd])[0],\n",
    "                         freq='30min')\n",
    "\n",
    "# dayRange = pd.date_range(start=pd.DatetimeIndex(startTime_fluxnet_sel[iMinStart])[0],\n",
    "#                          end=pd.DatetimeIndex(endTime_fluxnet_sel[iMaxEnd])[0],\n",
    "#                          freq='3H')\n",
    "nDays = len(dayRange)\n",
    "\n",
    "print('Max number of days: ', nDays)"
   ]
  },
  {
   "cell_type": "code",
   "execution_count": 12,
   "metadata": {
    "ExecuteTime": {
     "end_time": "2021-03-02T17:12:51.573204Z",
     "start_time": "2021-03-02T17:10:07.019055Z"
    }
   },
   "outputs": [],
   "source": [
    "# Define emtpy arrays to save stuff into \n",
    "lat_fluxnet     = np.full([len(dataFiles_filter)], np.nan)\n",
    "lon_fluxnet     = np.full([len(dataFiles_filter)], np.nan)\n",
    "stationID       = np.empty([len(dataFiles_filter)]).astype(str)\n",
    "fluxnet_SH      = np.full([len(dataFiles_filter), nDays], np.nan)    # H_F_MDS  [W/m2]\n",
    "fluxnet_LH      = np.full([len(dataFiles_filter), nDays], np.nan)    # LE_F_MDS [W/m2] \n",
    "fluxnet_spd     = np.full([len(dataFiles_filter), nDays], np.nan)    # WS_F     [m/s]\n",
    "fluxnet_precip  = np.full([len(dataFiles_filter), nDays], np.nan)    # P_F      [mm/day - summed from half/hourly for daily data]\n",
    "fluxnet_pressr  = np.full([len(dataFiles_filter), nDays], np.nan)    # PA_F     [kPa] -- seriously? kPa? \n",
    "fluxnet_temp    = np.full([len(dataFiles_filter), nDays], np.nan)    # TA_F     [deg C]\n",
    "\n",
    "# Variables I want returned:\n",
    "varNames = ['TIMESTAMP_START','H_F_MDS','LE_F_MDS','WS_F','P_F','PA_F','TA_F']\n",
    "\n",
    "# Loop over each station (data file)\n",
    "for iStation in range(len(dataFiles_filter)):\n",
    "    \n",
    "    # Read in data \n",
    "    # ----------------------------------------------------------\n",
    "    fluxnetID,fluxnetDS = readFLUXNET_var(dataFiles_filter[iStation], varNames)\n",
    "    \n",
    "    # Save lat and lon for this station \n",
    "    # ----------------------------------------------------------\n",
    "    indStation            = np.where(fluxnetID==siteInfoDF['SITE_ID'])\n",
    "    lat_fluxnet[iStation] = siteInfoDF['LOCATION_LAT'].values[indStation]\n",
    "    lon_fluxnet[iStation] = siteInfoDF['LOCATION_LONG'].values[indStation]\n",
    "    stationID[iStation]   = fluxnetID\n",
    "    \n",
    "    # Check that there was data saved for this particular site: \n",
    "    # ----------------------------------------------------------\n",
    "    if (type(fluxnetDS)==int):\n",
    "        print('No data for station: %8s' % fluxnetID)\n",
    "    \n",
    "    elif ( (np.all(np.isnan(fluxnetDS['H_F_MDS']))==True) | (np.all(np.isnan(fluxnetDS['WS_F']))==True) | (np.all(np.isnan(fluxnetDS['LE_F_MDS']))==True) ):\n",
    "        print('No data for station: %8s' % fluxnetID)\n",
    "        \n",
    "    # If data is present: \n",
    "    # ----------------------------------------------------------\n",
    "    else:        \n",
    "        # Only consider where data is actually present for selected vars\n",
    "        iReal      = np.where((np.isfinite(fluxnetDS['LE_F_MDS'])==True) & \n",
    "                              (np.isfinite(fluxnetDS['H_F_MDS'])==True) & \n",
    "                              (np.isfinite(fluxnetDS['WS_F'])==True) & \n",
    "                              (np.isfinite(fluxnetDS['P_F'])==True) &\n",
    "                              (np.isfinite(fluxnetDS['PA_F'])==True) &   \n",
    "                              (np.isfinite(fluxnetDS['TA_F'])==True))[0]\n",
    "        fluxnetDS  = fluxnetDS.isel(TIMESTAMP_START=iReal)\n",
    " \n",
    "        \n",
    "        # Check where to save data in time arrays \n",
    "        # -----------------------------------------------------------\n",
    "        startTime_fluxnet = pd.DatetimeIndex(fluxnetDS['TIMESTAMP_START'].values)[0]\n",
    "        endTime_fluxnet   = pd.DatetimeIndex(fluxnetDS['TIMESTAMP_START'].values)[-1]\n",
    "        \n",
    "        iTime_start = int(np.where(startTime_fluxnet==dayRange)[0])\n",
    "        iTime_end   = int(np.where(endTime_fluxnet==dayRange)[0])\n",
    "        \n",
    "#         # Upsample to 3-hourly?\n",
    "#         fluxnetDS=fluxnetDS.resample(TIMESTAMP_START='3H').mean()\n",
    "        \n",
    "        # If any 30-minute period is missing, fill it in with NaN's but keep a row present for it \n",
    "        fluxnetDS = fluxnetDS.reindex({'TIMESTAMP_START': dayRange[iTime_start:(iTime_end+1)]})\n",
    "       \n",
    "        # Save timeseries of each variable out to arrays \n",
    "        # -----------------------------------------------------------\n",
    "        fluxnet_SH[iStation,iTime_start:(iTime_end+1)]     = fluxnetDS['H_F_MDS'].values\n",
    "        fluxnet_LH[iStation,iTime_start:(iTime_end+1)]     = fluxnetDS['LE_F_MDS'].values\n",
    "        fluxnet_spd[iStation,iTime_start:(iTime_end+1)]    = fluxnetDS['WS_F'].values\n",
    "        fluxnet_precip[iStation,iTime_start:(iTime_end+1)] = fluxnetDS['P_F'].values\n",
    "        fluxnet_pressr[iStation,iTime_start:(iTime_end+1)] = fluxnetDS['PA_F'].values\n",
    "        fluxnet_temp[iStation,iTime_start:(iTime_end+1)]   = fluxnetDS['TA_F'].values\n",
    "        "
   ]
  },
  {
   "cell_type": "markdown",
   "metadata": {},
   "source": [
    "**Uncomment below to average up to three hourly**<br>\n",
    "The issue with this is that everything's in local time. The model only outputs every three hours in *UTC* time, so the hours wouldn't match up with the three hourly averaged FLUXNET data if averaging were constant. So keep it in hourly for now, then get just the hours that match later. \n",
    "\n",
    "**UPDATE**: Upsample to *hourly*, not thirty minutes"
   ]
  },
  {
   "cell_type": "code",
   "execution_count": 13,
   "metadata": {
    "ExecuteTime": {
     "end_time": "2021-03-02T17:18:52.518052Z",
     "start_time": "2021-03-02T17:17:02.268870Z"
    }
   },
   "outputs": [
    {
     "name": "stderr",
     "output_type": "stream",
     "text": [
      "/Users/mdfowler/opt/anaconda3/envs/newBase/lib/python3.8/site-packages/ipykernel/ipkernel.py:287: DeprecationWarning: `should_run_async` will not call `transform_cell` automatically in the future. Please pass the result to `transformed_cell` argument and any exception that happen during thetransform in `preprocessing_exc_tuple` in IPython 7.17 and above.\n",
      "  and should_run_async(code)\n",
      "<frozen importlib._bootstrap>:219: RuntimeWarning: numpy.ufunc size changed, may indicate binary incompatibility. Expected 192 from C header, got 216 from PyObject\n",
      "/Users/mdfowler/opt/anaconda3/envs/newBase/lib/python3.8/site-packages/xarray/core/common.py:1123: FutureWarning: 'base' in .resample() and in Grouper() is deprecated.\n",
      "The new arguments that you should use are 'offset' or 'origin'.\n",
      "\n",
      ">>> df.resample(freq=\"3s\", base=2)\n",
      "\n",
      "becomes:\n",
      "\n",
      ">>> df.resample(freq=\"3s\", offset=\"2s\")\n",
      "\n",
      "  grouper = pd.Grouper(\n"
     ]
    },
    {
     "name": "stdout",
     "output_type": "stream",
     "text": [
      "Starting to get 1-hour means (sum for precip)\n"
     ]
    },
    {
     "name": "stderr",
     "output_type": "stream",
     "text": [
      "/Users/mdfowler/opt/anaconda3/envs/newBase/lib/python3.8/site-packages/xarray/core/nanops.py:142: RuntimeWarning: Mean of empty slice\n",
      "  return np.nanmean(a, axis=axis, dtype=dtype)\n"
     ]
    }
   ],
   "source": [
    "# Upsample to hourly \n",
    "fluxnetSH_DS = xr.DataArray(fluxnet_SH, coords=[stationID, dayRange], dims=['stationID','time'])\n",
    "fluxnetLH_DS = xr.DataArray(fluxnet_LH, coords=[stationID, dayRange], dims=['stationID','time'])\n",
    "fluxnetSpd_DS = xr.DataArray(fluxnet_spd, coords=[stationID, dayRange], dims=['stationID','time'])\n",
    "fluxnetPrec_DS = xr.DataArray(fluxnet_precip, coords=[stationID, dayRange], dims=['stationID','time'])\n",
    "fluxnetTemp_DS = xr.DataArray(fluxnet_temp, coords=[stationID, dayRange], dims=['stationID','time'])\n",
    "\n",
    "print('Starting to get 1-hour means (sum for precip)')\n",
    "fluxnet_SH     = fluxnetSH_DS.resample(time='1H').mean()\n",
    "fluxnet_LH     = fluxnetLH_DS.resample(time='1H').mean()\n",
    "fluxnet_spd    = fluxnetSpd_DS.resample(time='1H').mean()\n",
    "fluxnet_precip = fluxnetPrec_DS.resample(time='1H').sum()\n",
    "fluxnet_temp   = fluxnetTemp_DS.resample(time='1H').mean()\n",
    "\n",
    "# Fill in NaN's for precip anywhere there should be one (based on whether or not SH has data)\n",
    "#   If not, xarray is filling these with zeros and it's throwing things off later. \n",
    "# fluxnet_precip[np.where(np.isnan(fluxnet_SH)==True)[0]] = np.nan\n"
   ]
  },
  {
   "cell_type": "code",
   "execution_count": 16,
   "metadata": {
    "ExecuteTime": {
     "end_time": "2021-03-02T17:32:16.785035Z",
     "start_time": "2021-03-02T17:32:16.781495Z"
    }
   },
   "outputs": [
    {
     "data": {
      "text/plain": [
       "array(['1992-01-01T00:00:00.000000000', '1992-01-01T00:30:00.000000000',\n",
       "       '1992-01-01T01:00:00.000000000', '1992-01-01T01:30:00.000000000'],\n",
       "      dtype='datetime64[ns]')"
      ]
     },
     "execution_count": 16,
     "metadata": {},
     "output_type": "execute_result"
    }
   ],
   "source": [
    "fluxnetSH_DS['time'].values[0:4]"
   ]
  },
  {
   "cell_type": "code",
   "execution_count": 23,
   "metadata": {
    "ExecuteTime": {
     "end_time": "2021-03-02T17:33:53.362340Z",
     "start_time": "2021-03-02T17:33:53.351619Z"
    }
   },
   "outputs": [
    {
     "data": {
      "text/html": [
       "<div><svg style=\"position: absolute; width: 0; height: 0; overflow: hidden\">\n",
       "<defs>\n",
       "<symbol id=\"icon-database\" viewBox=\"0 0 32 32\">\n",
       "<path d=\"M16 0c-8.837 0-16 2.239-16 5v4c0 2.761 7.163 5 16 5s16-2.239 16-5v-4c0-2.761-7.163-5-16-5z\"></path>\n",
       "<path d=\"M16 17c-8.837 0-16-2.239-16-5v6c0 2.761 7.163 5 16 5s16-2.239 16-5v-6c0 2.761-7.163 5-16 5z\"></path>\n",
       "<path d=\"M16 26c-8.837 0-16-2.239-16-5v6c0 2.761 7.163 5 16 5s16-2.239 16-5v-6c0 2.761-7.163 5-16 5z\"></path>\n",
       "</symbol>\n",
       "<symbol id=\"icon-file-text2\" viewBox=\"0 0 32 32\">\n",
       "<path d=\"M28.681 7.159c-0.694-0.947-1.662-2.053-2.724-3.116s-2.169-2.030-3.116-2.724c-1.612-1.182-2.393-1.319-2.841-1.319h-15.5c-1.378 0-2.5 1.121-2.5 2.5v27c0 1.378 1.122 2.5 2.5 2.5h23c1.378 0 2.5-1.122 2.5-2.5v-19.5c0-0.448-0.137-1.23-1.319-2.841zM24.543 5.457c0.959 0.959 1.712 1.825 2.268 2.543h-4.811v-4.811c0.718 0.556 1.584 1.309 2.543 2.268zM28 29.5c0 0.271-0.229 0.5-0.5 0.5h-23c-0.271 0-0.5-0.229-0.5-0.5v-27c0-0.271 0.229-0.5 0.5-0.5 0 0 15.499-0 15.5 0v7c0 0.552 0.448 1 1 1h7v19.5z\"></path>\n",
       "<path d=\"M23 26h-14c-0.552 0-1-0.448-1-1s0.448-1 1-1h14c0.552 0 1 0.448 1 1s-0.448 1-1 1z\"></path>\n",
       "<path d=\"M23 22h-14c-0.552 0-1-0.448-1-1s0.448-1 1-1h14c0.552 0 1 0.448 1 1s-0.448 1-1 1z\"></path>\n",
       "<path d=\"M23 18h-14c-0.552 0-1-0.448-1-1s0.448-1 1-1h14c0.552 0 1 0.448 1 1s-0.448 1-1 1z\"></path>\n",
       "</symbol>\n",
       "</defs>\n",
       "</svg>\n",
       "<style>/* CSS stylesheet for displaying xarray objects in jupyterlab.\n",
       " *\n",
       " */\n",
       "\n",
       ":root {\n",
       "  --xr-font-color0: var(--jp-content-font-color0, rgba(0, 0, 0, 1));\n",
       "  --xr-font-color2: var(--jp-content-font-color2, rgba(0, 0, 0, 0.54));\n",
       "  --xr-font-color3: var(--jp-content-font-color3, rgba(0, 0, 0, 0.38));\n",
       "  --xr-border-color: var(--jp-border-color2, #e0e0e0);\n",
       "  --xr-disabled-color: var(--jp-layout-color3, #bdbdbd);\n",
       "  --xr-background-color: var(--jp-layout-color0, white);\n",
       "  --xr-background-color-row-even: var(--jp-layout-color1, white);\n",
       "  --xr-background-color-row-odd: var(--jp-layout-color2, #eeeeee);\n",
       "}\n",
       "\n",
       "html[theme=dark],\n",
       "body.vscode-dark {\n",
       "  --xr-font-color0: rgba(255, 255, 255, 1);\n",
       "  --xr-font-color2: rgba(255, 255, 255, 0.54);\n",
       "  --xr-font-color3: rgba(255, 255, 255, 0.38);\n",
       "  --xr-border-color: #1F1F1F;\n",
       "  --xr-disabled-color: #515151;\n",
       "  --xr-background-color: #111111;\n",
       "  --xr-background-color-row-even: #111111;\n",
       "  --xr-background-color-row-odd: #313131;\n",
       "}\n",
       "\n",
       ".xr-wrap {\n",
       "  display: block;\n",
       "  min-width: 300px;\n",
       "  max-width: 700px;\n",
       "}\n",
       "\n",
       ".xr-text-repr-fallback {\n",
       "  /* fallback to plain text repr when CSS is not injected (untrusted notebook) */\n",
       "  display: none;\n",
       "}\n",
       "\n",
       ".xr-header {\n",
       "  padding-top: 6px;\n",
       "  padding-bottom: 6px;\n",
       "  margin-bottom: 4px;\n",
       "  border-bottom: solid 1px var(--xr-border-color);\n",
       "}\n",
       "\n",
       ".xr-header > div,\n",
       ".xr-header > ul {\n",
       "  display: inline;\n",
       "  margin-top: 0;\n",
       "  margin-bottom: 0;\n",
       "}\n",
       "\n",
       ".xr-obj-type,\n",
       ".xr-array-name {\n",
       "  margin-left: 2px;\n",
       "  margin-right: 10px;\n",
       "}\n",
       "\n",
       ".xr-obj-type {\n",
       "  color: var(--xr-font-color2);\n",
       "}\n",
       "\n",
       ".xr-sections {\n",
       "  padding-left: 0 !important;\n",
       "  display: grid;\n",
       "  grid-template-columns: 150px auto auto 1fr 20px 20px;\n",
       "}\n",
       "\n",
       ".xr-section-item {\n",
       "  display: contents;\n",
       "}\n",
       "\n",
       ".xr-section-item input {\n",
       "  display: none;\n",
       "}\n",
       "\n",
       ".xr-section-item input + label {\n",
       "  color: var(--xr-disabled-color);\n",
       "}\n",
       "\n",
       ".xr-section-item input:enabled + label {\n",
       "  cursor: pointer;\n",
       "  color: var(--xr-font-color2);\n",
       "}\n",
       "\n",
       ".xr-section-item input:enabled + label:hover {\n",
       "  color: var(--xr-font-color0);\n",
       "}\n",
       "\n",
       ".xr-section-summary {\n",
       "  grid-column: 1;\n",
       "  color: var(--xr-font-color2);\n",
       "  font-weight: 500;\n",
       "}\n",
       "\n",
       ".xr-section-summary > span {\n",
       "  display: inline-block;\n",
       "  padding-left: 0.5em;\n",
       "}\n",
       "\n",
       ".xr-section-summary-in:disabled + label {\n",
       "  color: var(--xr-font-color2);\n",
       "}\n",
       "\n",
       ".xr-section-summary-in + label:before {\n",
       "  display: inline-block;\n",
       "  content: '►';\n",
       "  font-size: 11px;\n",
       "  width: 15px;\n",
       "  text-align: center;\n",
       "}\n",
       "\n",
       ".xr-section-summary-in:disabled + label:before {\n",
       "  color: var(--xr-disabled-color);\n",
       "}\n",
       "\n",
       ".xr-section-summary-in:checked + label:before {\n",
       "  content: '▼';\n",
       "}\n",
       "\n",
       ".xr-section-summary-in:checked + label > span {\n",
       "  display: none;\n",
       "}\n",
       "\n",
       ".xr-section-summary,\n",
       ".xr-section-inline-details {\n",
       "  padding-top: 4px;\n",
       "  padding-bottom: 4px;\n",
       "}\n",
       "\n",
       ".xr-section-inline-details {\n",
       "  grid-column: 2 / -1;\n",
       "}\n",
       "\n",
       ".xr-section-details {\n",
       "  display: none;\n",
       "  grid-column: 1 / -1;\n",
       "  margin-bottom: 5px;\n",
       "}\n",
       "\n",
       ".xr-section-summary-in:checked ~ .xr-section-details {\n",
       "  display: contents;\n",
       "}\n",
       "\n",
       ".xr-array-wrap {\n",
       "  grid-column: 1 / -1;\n",
       "  display: grid;\n",
       "  grid-template-columns: 20px auto;\n",
       "}\n",
       "\n",
       ".xr-array-wrap > label {\n",
       "  grid-column: 1;\n",
       "  vertical-align: top;\n",
       "}\n",
       "\n",
       ".xr-preview {\n",
       "  color: var(--xr-font-color3);\n",
       "}\n",
       "\n",
       ".xr-array-preview,\n",
       ".xr-array-data {\n",
       "  padding: 0 5px !important;\n",
       "  grid-column: 2;\n",
       "}\n",
       "\n",
       ".xr-array-data,\n",
       ".xr-array-in:checked ~ .xr-array-preview {\n",
       "  display: none;\n",
       "}\n",
       "\n",
       ".xr-array-in:checked ~ .xr-array-data,\n",
       ".xr-array-preview {\n",
       "  display: inline-block;\n",
       "}\n",
       "\n",
       ".xr-dim-list {\n",
       "  display: inline-block !important;\n",
       "  list-style: none;\n",
       "  padding: 0 !important;\n",
       "  margin: 0;\n",
       "}\n",
       "\n",
       ".xr-dim-list li {\n",
       "  display: inline-block;\n",
       "  padding: 0;\n",
       "  margin: 0;\n",
       "}\n",
       "\n",
       ".xr-dim-list:before {\n",
       "  content: '(';\n",
       "}\n",
       "\n",
       ".xr-dim-list:after {\n",
       "  content: ')';\n",
       "}\n",
       "\n",
       ".xr-dim-list li:not(:last-child):after {\n",
       "  content: ',';\n",
       "  padding-right: 5px;\n",
       "}\n",
       "\n",
       ".xr-has-index {\n",
       "  font-weight: bold;\n",
       "}\n",
       "\n",
       ".xr-var-list,\n",
       ".xr-var-item {\n",
       "  display: contents;\n",
       "}\n",
       "\n",
       ".xr-var-item > div,\n",
       ".xr-var-item label,\n",
       ".xr-var-item > .xr-var-name span {\n",
       "  background-color: var(--xr-background-color-row-even);\n",
       "  margin-bottom: 0;\n",
       "}\n",
       "\n",
       ".xr-var-item > .xr-var-name:hover span {\n",
       "  padding-right: 5px;\n",
       "}\n",
       "\n",
       ".xr-var-list > li:nth-child(odd) > div,\n",
       ".xr-var-list > li:nth-child(odd) > label,\n",
       ".xr-var-list > li:nth-child(odd) > .xr-var-name span {\n",
       "  background-color: var(--xr-background-color-row-odd);\n",
       "}\n",
       "\n",
       ".xr-var-name {\n",
       "  grid-column: 1;\n",
       "}\n",
       "\n",
       ".xr-var-dims {\n",
       "  grid-column: 2;\n",
       "}\n",
       "\n",
       ".xr-var-dtype {\n",
       "  grid-column: 3;\n",
       "  text-align: right;\n",
       "  color: var(--xr-font-color2);\n",
       "}\n",
       "\n",
       ".xr-var-preview {\n",
       "  grid-column: 4;\n",
       "}\n",
       "\n",
       ".xr-var-name,\n",
       ".xr-var-dims,\n",
       ".xr-var-dtype,\n",
       ".xr-preview,\n",
       ".xr-attrs dt {\n",
       "  white-space: nowrap;\n",
       "  overflow: hidden;\n",
       "  text-overflow: ellipsis;\n",
       "  padding-right: 10px;\n",
       "}\n",
       "\n",
       ".xr-var-name:hover,\n",
       ".xr-var-dims:hover,\n",
       ".xr-var-dtype:hover,\n",
       ".xr-attrs dt:hover {\n",
       "  overflow: visible;\n",
       "  width: auto;\n",
       "  z-index: 1;\n",
       "}\n",
       "\n",
       ".xr-var-attrs,\n",
       ".xr-var-data {\n",
       "  display: none;\n",
       "  background-color: var(--xr-background-color) !important;\n",
       "  padding-bottom: 5px !important;\n",
       "}\n",
       "\n",
       ".xr-var-attrs-in:checked ~ .xr-var-attrs,\n",
       ".xr-var-data-in:checked ~ .xr-var-data {\n",
       "  display: block;\n",
       "}\n",
       "\n",
       ".xr-var-data > table {\n",
       "  float: right;\n",
       "}\n",
       "\n",
       ".xr-var-name span,\n",
       ".xr-var-data,\n",
       ".xr-attrs {\n",
       "  padding-left: 25px !important;\n",
       "}\n",
       "\n",
       ".xr-attrs,\n",
       ".xr-var-attrs,\n",
       ".xr-var-data {\n",
       "  grid-column: 1 / -1;\n",
       "}\n",
       "\n",
       "dl.xr-attrs {\n",
       "  padding: 0;\n",
       "  margin: 0;\n",
       "  display: grid;\n",
       "  grid-template-columns: 125px auto;\n",
       "}\n",
       "\n",
       ".xr-attrs dt, dd {\n",
       "  padding: 0;\n",
       "  margin: 0;\n",
       "  float: left;\n",
       "  padding-right: 10px;\n",
       "  width: auto;\n",
       "}\n",
       "\n",
       ".xr-attrs dt {\n",
       "  font-weight: normal;\n",
       "  grid-column: 1;\n",
       "}\n",
       "\n",
       ".xr-attrs dt:hover span {\n",
       "  display: inline-block;\n",
       "  background: var(--xr-background-color);\n",
       "  padding-right: 10px;\n",
       "}\n",
       "\n",
       ".xr-attrs dd {\n",
       "  grid-column: 2;\n",
       "  white-space: pre-wrap;\n",
       "  word-break: break-all;\n",
       "}\n",
       "\n",
       ".xr-icon-database,\n",
       ".xr-icon-file-text2 {\n",
       "  display: inline-block;\n",
       "  vertical-align: middle;\n",
       "  width: 1em;\n",
       "  height: 1.5em !important;\n",
       "  stroke-width: 0;\n",
       "  stroke: currentColor;\n",
       "  fill: currentColor;\n",
       "}\n",
       "</style><pre class='xr-text-repr-fallback'>&lt;xarray.DataArray (time: 6)&gt;\n",
       "array([  4.7,   nan, -34.1,   nan, -94.2,   nan])\n",
       "Coordinates:\n",
       "    stationID  &lt;U32 &#x27;US-Ha1&#x27;\n",
       "  * time       (time) datetime64[ns] 1992-01-01 ... 1992-01-01T02:30:00</pre><div class='xr-wrap' hidden><div class='xr-header'><div class='xr-obj-type'>xarray.DataArray</div><div class='xr-array-name'></div><ul class='xr-dim-list'><li><span class='xr-has-index'>time</span>: 6</li></ul></div><ul class='xr-sections'><li class='xr-section-item'><div class='xr-array-wrap'><input id='section-05b2579e-29ec-487e-a79d-8957043da8ec' class='xr-array-in' type='checkbox' checked><label for='section-05b2579e-29ec-487e-a79d-8957043da8ec' title='Show/hide data repr'><svg class='icon xr-icon-database'><use xlink:href='#icon-database'></use></svg></label><div class='xr-array-preview xr-preview'><span>4.7 nan -34.1 nan -94.2 nan</span></div><div class='xr-array-data'><pre>array([  4.7,   nan, -34.1,   nan, -94.2,   nan])</pre></div></div></li><li class='xr-section-item'><input id='section-3755dc4c-0e5b-45f9-98be-c0b6ceb42a12' class='xr-section-summary-in' type='checkbox'  checked><label for='section-3755dc4c-0e5b-45f9-98be-c0b6ceb42a12' class='xr-section-summary' >Coordinates: <span>(2)</span></label><div class='xr-section-inline-details'></div><div class='xr-section-details'><ul class='xr-var-list'><li class='xr-var-item'><div class='xr-var-name'><span>stationID</span></div><div class='xr-var-dims'>()</div><div class='xr-var-dtype'>&lt;U32</div><div class='xr-var-preview xr-preview'>&#x27;US-Ha1&#x27;</div><input id='attrs-6043b2f7-0e54-455c-ac16-803fae93a161' class='xr-var-attrs-in' type='checkbox' disabled><label for='attrs-6043b2f7-0e54-455c-ac16-803fae93a161' title='Show/Hide attributes'><svg class='icon xr-icon-file-text2'><use xlink:href='#icon-file-text2'></use></svg></label><input id='data-a34c8248-a61c-44fa-ad85-dddcd2a50b0a' class='xr-var-data-in' type='checkbox'><label for='data-a34c8248-a61c-44fa-ad85-dddcd2a50b0a' title='Show/Hide data repr'><svg class='icon xr-icon-database'><use xlink:href='#icon-database'></use></svg></label><div class='xr-var-attrs'><dl class='xr-attrs'></dl></div><div class='xr-var-data'><pre>array(&#x27;US-Ha1&#x27;, dtype=&#x27;&lt;U32&#x27;)</pre></div></li><li class='xr-var-item'><div class='xr-var-name'><span class='xr-has-index'>time</span></div><div class='xr-var-dims'>(time)</div><div class='xr-var-dtype'>datetime64[ns]</div><div class='xr-var-preview xr-preview'>1992-01-01 ... 1992-01-01T02:30:00</div><input id='attrs-efa47ef1-e3ad-4605-a5f7-e06ba0f2670d' class='xr-var-attrs-in' type='checkbox' disabled><label for='attrs-efa47ef1-e3ad-4605-a5f7-e06ba0f2670d' title='Show/Hide attributes'><svg class='icon xr-icon-file-text2'><use xlink:href='#icon-file-text2'></use></svg></label><input id='data-a00c0df8-f5b2-4e47-9a41-2dd232a7d8f5' class='xr-var-data-in' type='checkbox'><label for='data-a00c0df8-f5b2-4e47-9a41-2dd232a7d8f5' title='Show/Hide data repr'><svg class='icon xr-icon-database'><use xlink:href='#icon-database'></use></svg></label><div class='xr-var-attrs'><dl class='xr-attrs'></dl></div><div class='xr-var-data'><pre>array([&#x27;1992-01-01T00:00:00.000000000&#x27;, &#x27;1992-01-01T00:30:00.000000000&#x27;,\n",
       "       &#x27;1992-01-01T01:00:00.000000000&#x27;, &#x27;1992-01-01T01:30:00.000000000&#x27;,\n",
       "       &#x27;1992-01-01T02:00:00.000000000&#x27;, &#x27;1992-01-01T02:30:00.000000000&#x27;],\n",
       "      dtype=&#x27;datetime64[ns]&#x27;)</pre></div></li></ul></div></li><li class='xr-section-item'><input id='section-49ff3e7c-94c4-4445-887d-545cda615fd0' class='xr-section-summary-in' type='checkbox' disabled ><label for='section-49ff3e7c-94c4-4445-887d-545cda615fd0' class='xr-section-summary'  title='Expand/collapse section'>Attributes: <span>(0)</span></label><div class='xr-section-inline-details'></div><div class='xr-section-details'><dl class='xr-attrs'></dl></div></li></ul></div></div>"
      ],
      "text/plain": [
       "<xarray.DataArray (time: 6)>\n",
       "array([  4.7,   nan, -34.1,   nan, -94.2,   nan])\n",
       "Coordinates:\n",
       "    stationID  <U32 'US-Ha1'\n",
       "  * time       (time) datetime64[ns] 1992-01-01 ... 1992-01-01T02:30:00"
      ]
     },
     "execution_count": 23,
     "metadata": {},
     "output_type": "execute_result"
    }
   ],
   "source": [
    "fluxnetSH_DS[-1,0:6]"
   ]
  },
  {
   "cell_type": "code",
   "execution_count": 17,
   "metadata": {
    "ExecuteTime": {
     "end_time": "2021-03-02T17:32:30.495397Z",
     "start_time": "2021-03-02T17:32:30.491668Z"
    }
   },
   "outputs": [
    {
     "data": {
      "text/plain": [
       "array(['1992-01-01T00:00:00.000000000', '1992-01-01T01:00:00.000000000',\n",
       "       '1992-01-01T02:00:00.000000000', '1992-01-01T03:00:00.000000000'],\n",
       "      dtype='datetime64[ns]')"
      ]
     },
     "execution_count": 17,
     "metadata": {},
     "output_type": "execute_result"
    }
   ],
   "source": [
    "fluxnet_SH['time'].values[0:4]"
   ]
  },
  {
   "cell_type": "code",
   "execution_count": 22,
   "metadata": {
    "ExecuteTime": {
     "end_time": "2021-03-02T17:33:47.962624Z",
     "start_time": "2021-03-02T17:33:47.952788Z"
    }
   },
   "outputs": [
    {
     "data": {
      "text/html": [
       "<div><svg style=\"position: absolute; width: 0; height: 0; overflow: hidden\">\n",
       "<defs>\n",
       "<symbol id=\"icon-database\" viewBox=\"0 0 32 32\">\n",
       "<path d=\"M16 0c-8.837 0-16 2.239-16 5v4c0 2.761 7.163 5 16 5s16-2.239 16-5v-4c0-2.761-7.163-5-16-5z\"></path>\n",
       "<path d=\"M16 17c-8.837 0-16-2.239-16-5v6c0 2.761 7.163 5 16 5s16-2.239 16-5v-6c0 2.761-7.163 5-16 5z\"></path>\n",
       "<path d=\"M16 26c-8.837 0-16-2.239-16-5v6c0 2.761 7.163 5 16 5s16-2.239 16-5v-6c0 2.761-7.163 5-16 5z\"></path>\n",
       "</symbol>\n",
       "<symbol id=\"icon-file-text2\" viewBox=\"0 0 32 32\">\n",
       "<path d=\"M28.681 7.159c-0.694-0.947-1.662-2.053-2.724-3.116s-2.169-2.030-3.116-2.724c-1.612-1.182-2.393-1.319-2.841-1.319h-15.5c-1.378 0-2.5 1.121-2.5 2.5v27c0 1.378 1.122 2.5 2.5 2.5h23c1.378 0 2.5-1.122 2.5-2.5v-19.5c0-0.448-0.137-1.23-1.319-2.841zM24.543 5.457c0.959 0.959 1.712 1.825 2.268 2.543h-4.811v-4.811c0.718 0.556 1.584 1.309 2.543 2.268zM28 29.5c0 0.271-0.229 0.5-0.5 0.5h-23c-0.271 0-0.5-0.229-0.5-0.5v-27c0-0.271 0.229-0.5 0.5-0.5 0 0 15.499-0 15.5 0v7c0 0.552 0.448 1 1 1h7v19.5z\"></path>\n",
       "<path d=\"M23 26h-14c-0.552 0-1-0.448-1-1s0.448-1 1-1h14c0.552 0 1 0.448 1 1s-0.448 1-1 1z\"></path>\n",
       "<path d=\"M23 22h-14c-0.552 0-1-0.448-1-1s0.448-1 1-1h14c0.552 0 1 0.448 1 1s-0.448 1-1 1z\"></path>\n",
       "<path d=\"M23 18h-14c-0.552 0-1-0.448-1-1s0.448-1 1-1h14c0.552 0 1 0.448 1 1s-0.448 1-1 1z\"></path>\n",
       "</symbol>\n",
       "</defs>\n",
       "</svg>\n",
       "<style>/* CSS stylesheet for displaying xarray objects in jupyterlab.\n",
       " *\n",
       " */\n",
       "\n",
       ":root {\n",
       "  --xr-font-color0: var(--jp-content-font-color0, rgba(0, 0, 0, 1));\n",
       "  --xr-font-color2: var(--jp-content-font-color2, rgba(0, 0, 0, 0.54));\n",
       "  --xr-font-color3: var(--jp-content-font-color3, rgba(0, 0, 0, 0.38));\n",
       "  --xr-border-color: var(--jp-border-color2, #e0e0e0);\n",
       "  --xr-disabled-color: var(--jp-layout-color3, #bdbdbd);\n",
       "  --xr-background-color: var(--jp-layout-color0, white);\n",
       "  --xr-background-color-row-even: var(--jp-layout-color1, white);\n",
       "  --xr-background-color-row-odd: var(--jp-layout-color2, #eeeeee);\n",
       "}\n",
       "\n",
       "html[theme=dark],\n",
       "body.vscode-dark {\n",
       "  --xr-font-color0: rgba(255, 255, 255, 1);\n",
       "  --xr-font-color2: rgba(255, 255, 255, 0.54);\n",
       "  --xr-font-color3: rgba(255, 255, 255, 0.38);\n",
       "  --xr-border-color: #1F1F1F;\n",
       "  --xr-disabled-color: #515151;\n",
       "  --xr-background-color: #111111;\n",
       "  --xr-background-color-row-even: #111111;\n",
       "  --xr-background-color-row-odd: #313131;\n",
       "}\n",
       "\n",
       ".xr-wrap {\n",
       "  display: block;\n",
       "  min-width: 300px;\n",
       "  max-width: 700px;\n",
       "}\n",
       "\n",
       ".xr-text-repr-fallback {\n",
       "  /* fallback to plain text repr when CSS is not injected (untrusted notebook) */\n",
       "  display: none;\n",
       "}\n",
       "\n",
       ".xr-header {\n",
       "  padding-top: 6px;\n",
       "  padding-bottom: 6px;\n",
       "  margin-bottom: 4px;\n",
       "  border-bottom: solid 1px var(--xr-border-color);\n",
       "}\n",
       "\n",
       ".xr-header > div,\n",
       ".xr-header > ul {\n",
       "  display: inline;\n",
       "  margin-top: 0;\n",
       "  margin-bottom: 0;\n",
       "}\n",
       "\n",
       ".xr-obj-type,\n",
       ".xr-array-name {\n",
       "  margin-left: 2px;\n",
       "  margin-right: 10px;\n",
       "}\n",
       "\n",
       ".xr-obj-type {\n",
       "  color: var(--xr-font-color2);\n",
       "}\n",
       "\n",
       ".xr-sections {\n",
       "  padding-left: 0 !important;\n",
       "  display: grid;\n",
       "  grid-template-columns: 150px auto auto 1fr 20px 20px;\n",
       "}\n",
       "\n",
       ".xr-section-item {\n",
       "  display: contents;\n",
       "}\n",
       "\n",
       ".xr-section-item input {\n",
       "  display: none;\n",
       "}\n",
       "\n",
       ".xr-section-item input + label {\n",
       "  color: var(--xr-disabled-color);\n",
       "}\n",
       "\n",
       ".xr-section-item input:enabled + label {\n",
       "  cursor: pointer;\n",
       "  color: var(--xr-font-color2);\n",
       "}\n",
       "\n",
       ".xr-section-item input:enabled + label:hover {\n",
       "  color: var(--xr-font-color0);\n",
       "}\n",
       "\n",
       ".xr-section-summary {\n",
       "  grid-column: 1;\n",
       "  color: var(--xr-font-color2);\n",
       "  font-weight: 500;\n",
       "}\n",
       "\n",
       ".xr-section-summary > span {\n",
       "  display: inline-block;\n",
       "  padding-left: 0.5em;\n",
       "}\n",
       "\n",
       ".xr-section-summary-in:disabled + label {\n",
       "  color: var(--xr-font-color2);\n",
       "}\n",
       "\n",
       ".xr-section-summary-in + label:before {\n",
       "  display: inline-block;\n",
       "  content: '►';\n",
       "  font-size: 11px;\n",
       "  width: 15px;\n",
       "  text-align: center;\n",
       "}\n",
       "\n",
       ".xr-section-summary-in:disabled + label:before {\n",
       "  color: var(--xr-disabled-color);\n",
       "}\n",
       "\n",
       ".xr-section-summary-in:checked + label:before {\n",
       "  content: '▼';\n",
       "}\n",
       "\n",
       ".xr-section-summary-in:checked + label > span {\n",
       "  display: none;\n",
       "}\n",
       "\n",
       ".xr-section-summary,\n",
       ".xr-section-inline-details {\n",
       "  padding-top: 4px;\n",
       "  padding-bottom: 4px;\n",
       "}\n",
       "\n",
       ".xr-section-inline-details {\n",
       "  grid-column: 2 / -1;\n",
       "}\n",
       "\n",
       ".xr-section-details {\n",
       "  display: none;\n",
       "  grid-column: 1 / -1;\n",
       "  margin-bottom: 5px;\n",
       "}\n",
       "\n",
       ".xr-section-summary-in:checked ~ .xr-section-details {\n",
       "  display: contents;\n",
       "}\n",
       "\n",
       ".xr-array-wrap {\n",
       "  grid-column: 1 / -1;\n",
       "  display: grid;\n",
       "  grid-template-columns: 20px auto;\n",
       "}\n",
       "\n",
       ".xr-array-wrap > label {\n",
       "  grid-column: 1;\n",
       "  vertical-align: top;\n",
       "}\n",
       "\n",
       ".xr-preview {\n",
       "  color: var(--xr-font-color3);\n",
       "}\n",
       "\n",
       ".xr-array-preview,\n",
       ".xr-array-data {\n",
       "  padding: 0 5px !important;\n",
       "  grid-column: 2;\n",
       "}\n",
       "\n",
       ".xr-array-data,\n",
       ".xr-array-in:checked ~ .xr-array-preview {\n",
       "  display: none;\n",
       "}\n",
       "\n",
       ".xr-array-in:checked ~ .xr-array-data,\n",
       ".xr-array-preview {\n",
       "  display: inline-block;\n",
       "}\n",
       "\n",
       ".xr-dim-list {\n",
       "  display: inline-block !important;\n",
       "  list-style: none;\n",
       "  padding: 0 !important;\n",
       "  margin: 0;\n",
       "}\n",
       "\n",
       ".xr-dim-list li {\n",
       "  display: inline-block;\n",
       "  padding: 0;\n",
       "  margin: 0;\n",
       "}\n",
       "\n",
       ".xr-dim-list:before {\n",
       "  content: '(';\n",
       "}\n",
       "\n",
       ".xr-dim-list:after {\n",
       "  content: ')';\n",
       "}\n",
       "\n",
       ".xr-dim-list li:not(:last-child):after {\n",
       "  content: ',';\n",
       "  padding-right: 5px;\n",
       "}\n",
       "\n",
       ".xr-has-index {\n",
       "  font-weight: bold;\n",
       "}\n",
       "\n",
       ".xr-var-list,\n",
       ".xr-var-item {\n",
       "  display: contents;\n",
       "}\n",
       "\n",
       ".xr-var-item > div,\n",
       ".xr-var-item label,\n",
       ".xr-var-item > .xr-var-name span {\n",
       "  background-color: var(--xr-background-color-row-even);\n",
       "  margin-bottom: 0;\n",
       "}\n",
       "\n",
       ".xr-var-item > .xr-var-name:hover span {\n",
       "  padding-right: 5px;\n",
       "}\n",
       "\n",
       ".xr-var-list > li:nth-child(odd) > div,\n",
       ".xr-var-list > li:nth-child(odd) > label,\n",
       ".xr-var-list > li:nth-child(odd) > .xr-var-name span {\n",
       "  background-color: var(--xr-background-color-row-odd);\n",
       "}\n",
       "\n",
       ".xr-var-name {\n",
       "  grid-column: 1;\n",
       "}\n",
       "\n",
       ".xr-var-dims {\n",
       "  grid-column: 2;\n",
       "}\n",
       "\n",
       ".xr-var-dtype {\n",
       "  grid-column: 3;\n",
       "  text-align: right;\n",
       "  color: var(--xr-font-color2);\n",
       "}\n",
       "\n",
       ".xr-var-preview {\n",
       "  grid-column: 4;\n",
       "}\n",
       "\n",
       ".xr-var-name,\n",
       ".xr-var-dims,\n",
       ".xr-var-dtype,\n",
       ".xr-preview,\n",
       ".xr-attrs dt {\n",
       "  white-space: nowrap;\n",
       "  overflow: hidden;\n",
       "  text-overflow: ellipsis;\n",
       "  padding-right: 10px;\n",
       "}\n",
       "\n",
       ".xr-var-name:hover,\n",
       ".xr-var-dims:hover,\n",
       ".xr-var-dtype:hover,\n",
       ".xr-attrs dt:hover {\n",
       "  overflow: visible;\n",
       "  width: auto;\n",
       "  z-index: 1;\n",
       "}\n",
       "\n",
       ".xr-var-attrs,\n",
       ".xr-var-data {\n",
       "  display: none;\n",
       "  background-color: var(--xr-background-color) !important;\n",
       "  padding-bottom: 5px !important;\n",
       "}\n",
       "\n",
       ".xr-var-attrs-in:checked ~ .xr-var-attrs,\n",
       ".xr-var-data-in:checked ~ .xr-var-data {\n",
       "  display: block;\n",
       "}\n",
       "\n",
       ".xr-var-data > table {\n",
       "  float: right;\n",
       "}\n",
       "\n",
       ".xr-var-name span,\n",
       ".xr-var-data,\n",
       ".xr-attrs {\n",
       "  padding-left: 25px !important;\n",
       "}\n",
       "\n",
       ".xr-attrs,\n",
       ".xr-var-attrs,\n",
       ".xr-var-data {\n",
       "  grid-column: 1 / -1;\n",
       "}\n",
       "\n",
       "dl.xr-attrs {\n",
       "  padding: 0;\n",
       "  margin: 0;\n",
       "  display: grid;\n",
       "  grid-template-columns: 125px auto;\n",
       "}\n",
       "\n",
       ".xr-attrs dt, dd {\n",
       "  padding: 0;\n",
       "  margin: 0;\n",
       "  float: left;\n",
       "  padding-right: 10px;\n",
       "  width: auto;\n",
       "}\n",
       "\n",
       ".xr-attrs dt {\n",
       "  font-weight: normal;\n",
       "  grid-column: 1;\n",
       "}\n",
       "\n",
       ".xr-attrs dt:hover span {\n",
       "  display: inline-block;\n",
       "  background: var(--xr-background-color);\n",
       "  padding-right: 10px;\n",
       "}\n",
       "\n",
       ".xr-attrs dd {\n",
       "  grid-column: 2;\n",
       "  white-space: pre-wrap;\n",
       "  word-break: break-all;\n",
       "}\n",
       "\n",
       ".xr-icon-database,\n",
       ".xr-icon-file-text2 {\n",
       "  display: inline-block;\n",
       "  vertical-align: middle;\n",
       "  width: 1em;\n",
       "  height: 1.5em !important;\n",
       "  stroke-width: 0;\n",
       "  stroke: currentColor;\n",
       "  fill: currentColor;\n",
       "}\n",
       "</style><pre class='xr-text-repr-fallback'>&lt;xarray.DataArray (time: 4)&gt;\n",
       "array([  4.7, -34.1, -94.2, -89.1])\n",
       "Coordinates:\n",
       "  * time       (time) datetime64[ns] 1992-01-01 ... 1992-01-01T03:00:00\n",
       "    stationID  &lt;U32 &#x27;US-Ha1&#x27;</pre><div class='xr-wrap' hidden><div class='xr-header'><div class='xr-obj-type'>xarray.DataArray</div><div class='xr-array-name'></div><ul class='xr-dim-list'><li><span class='xr-has-index'>time</span>: 4</li></ul></div><ul class='xr-sections'><li class='xr-section-item'><div class='xr-array-wrap'><input id='section-a95fb310-1277-4689-a7a8-ac28de5a3b11' class='xr-array-in' type='checkbox' checked><label for='section-a95fb310-1277-4689-a7a8-ac28de5a3b11' title='Show/hide data repr'><svg class='icon xr-icon-database'><use xlink:href='#icon-database'></use></svg></label><div class='xr-array-preview xr-preview'><span>4.7 -34.1 -94.2 -89.1</span></div><div class='xr-array-data'><pre>array([  4.7, -34.1, -94.2, -89.1])</pre></div></div></li><li class='xr-section-item'><input id='section-dd59b110-7e71-437a-a8c2-a94a01bea4e7' class='xr-section-summary-in' type='checkbox'  checked><label for='section-dd59b110-7e71-437a-a8c2-a94a01bea4e7' class='xr-section-summary' >Coordinates: <span>(2)</span></label><div class='xr-section-inline-details'></div><div class='xr-section-details'><ul class='xr-var-list'><li class='xr-var-item'><div class='xr-var-name'><span class='xr-has-index'>time</span></div><div class='xr-var-dims'>(time)</div><div class='xr-var-dtype'>datetime64[ns]</div><div class='xr-var-preview xr-preview'>1992-01-01 ... 1992-01-01T03:00:00</div><input id='attrs-98e8cb47-e6a7-47ab-97b5-036ae2739524' class='xr-var-attrs-in' type='checkbox' disabled><label for='attrs-98e8cb47-e6a7-47ab-97b5-036ae2739524' title='Show/Hide attributes'><svg class='icon xr-icon-file-text2'><use xlink:href='#icon-file-text2'></use></svg></label><input id='data-b6ecb2f5-7f19-4409-a41c-7e396256de1c' class='xr-var-data-in' type='checkbox'><label for='data-b6ecb2f5-7f19-4409-a41c-7e396256de1c' title='Show/Hide data repr'><svg class='icon xr-icon-database'><use xlink:href='#icon-database'></use></svg></label><div class='xr-var-attrs'><dl class='xr-attrs'></dl></div><div class='xr-var-data'><pre>array([&#x27;1992-01-01T00:00:00.000000000&#x27;, &#x27;1992-01-01T01:00:00.000000000&#x27;,\n",
       "       &#x27;1992-01-01T02:00:00.000000000&#x27;, &#x27;1992-01-01T03:00:00.000000000&#x27;],\n",
       "      dtype=&#x27;datetime64[ns]&#x27;)</pre></div></li><li class='xr-var-item'><div class='xr-var-name'><span>stationID</span></div><div class='xr-var-dims'>()</div><div class='xr-var-dtype'>&lt;U32</div><div class='xr-var-preview xr-preview'>&#x27;US-Ha1&#x27;</div><input id='attrs-048d8827-22ce-4fdf-a830-5daee36e6080' class='xr-var-attrs-in' type='checkbox' disabled><label for='attrs-048d8827-22ce-4fdf-a830-5daee36e6080' title='Show/Hide attributes'><svg class='icon xr-icon-file-text2'><use xlink:href='#icon-file-text2'></use></svg></label><input id='data-3cd8fdba-60c6-496b-a15f-f3ace09f3d03' class='xr-var-data-in' type='checkbox'><label for='data-3cd8fdba-60c6-496b-a15f-f3ace09f3d03' title='Show/Hide data repr'><svg class='icon xr-icon-database'><use xlink:href='#icon-database'></use></svg></label><div class='xr-var-attrs'><dl class='xr-attrs'></dl></div><div class='xr-var-data'><pre>array(&#x27;US-Ha1&#x27;, dtype=&#x27;&lt;U32&#x27;)</pre></div></li></ul></div></li><li class='xr-section-item'><input id='section-087d7d78-4146-498b-85cd-b08ac683c656' class='xr-section-summary-in' type='checkbox' disabled ><label for='section-087d7d78-4146-498b-85cd-b08ac683c656' class='xr-section-summary'  title='Expand/collapse section'>Attributes: <span>(0)</span></label><div class='xr-section-inline-details'></div><div class='xr-section-details'><dl class='xr-attrs'></dl></div></li></ul></div></div>"
      ],
      "text/plain": [
       "<xarray.DataArray (time: 4)>\n",
       "array([  4.7, -34.1, -94.2, -89.1])\n",
       "Coordinates:\n",
       "  * time       (time) datetime64[ns] 1992-01-01 ... 1992-01-01T03:00:00\n",
       "    stationID  <U32 'US-Ha1'"
      ]
     },
     "execution_count": 22,
     "metadata": {},
     "output_type": "execute_result"
    }
   ],
   "source": [
    "fluxnet_SH[-1,0:4]"
   ]
  },
  {
   "cell_type": "code",
   "execution_count": null,
   "metadata": {},
   "outputs": [],
   "source": []
  },
  {
   "cell_type": "code",
   "execution_count": null,
   "metadata": {},
   "outputs": [],
   "source": []
  },
  {
   "cell_type": "code",
   "execution_count": 24,
   "metadata": {
    "ExecuteTime": {
     "end_time": "2021-03-02T17:34:16.881347Z",
     "start_time": "2021-03-02T17:34:16.391172Z"
    },
    "scrolled": true
   },
   "outputs": [],
   "source": [
    "#Fill in NaN's for precip anywhere there should be one (based on whether or not SH has data)\n",
    "#   If not, xarray is filling these with zeros and it's throwing things off later. \n",
    "\n",
    "for iStation in range(len(stationID)):\n",
    "    indNan=np.where(np.isnan(fluxnet_SH[iStation,:])==True)[0]\n",
    "    fluxnet_precip[iStation,indNan] = np.nan\n"
   ]
  },
  {
   "cell_type": "code",
   "execution_count": 25,
   "metadata": {
    "ExecuteTime": {
     "end_time": "2021-03-02T17:34:20.456603Z",
     "start_time": "2021-03-02T17:34:20.450715Z"
    }
   },
   "outputs": [
    {
     "name": "stderr",
     "output_type": "stream",
     "text": [
      "/Users/mdfowler/opt/anaconda3/envs/newBase/lib/python3.8/site-packages/ipykernel/ipkernel.py:287: DeprecationWarning: `should_run_async` will not call `transform_cell` automatically in the future. Please pass the result to `transformed_cell` argument and any exception that happen during thetransform in `preprocessing_exc_tuple` in IPython 7.17 and above.\n",
      "  and should_run_async(code)\n"
     ]
    },
    {
     "data": {
      "text/plain": [
       "201624"
      ]
     },
     "execution_count": 25,
     "metadata": {},
     "output_type": "execute_result"
    }
   ],
   "source": [
    "# Set day range to 3-hour intervals too \n",
    "dayRange = pd.date_range(start=pd.DatetimeIndex(startTime_fluxnet_sel[iMinStart])[0],\n",
    "                         end=pd.DatetimeIndex(endTime_fluxnet_sel[iMaxEnd])[0],\n",
    "                         freq='1H')\n",
    "nDays = len(dayRange)\n",
    "len(dayRange)"
   ]
  },
  {
   "cell_type": "code",
   "execution_count": 26,
   "metadata": {
    "ExecuteTime": {
     "end_time": "2021-03-02T17:34:24.091180Z",
     "start_time": "2021-03-02T17:34:22.513107Z"
    }
   },
   "outputs": [
    {
     "name": "stdout",
     "output_type": "stream",
     "text": [
      "Number of days before deletes:  201624\n",
      "Number of days after deletes:  201480\n"
     ]
    }
   ],
   "source": [
    "# Remove from record if it's Feb. 29th (i.e., skip leap years )\n",
    "# -------------------------------------------------------------\n",
    "\n",
    "# Indices to skip \n",
    "iSkips = np.where((dayRange.month==2) & (dayRange.day==29))[0]\n",
    "print('Number of days before deletes: ', len(dayRange))\n",
    "\n",
    "dayRange       = np.delete(dayRange,iSkips)\n",
    "fluxnet_SH     = np.delete(fluxnet_SH,iSkips,axis=1)\n",
    "fluxnet_LH     = np.delete(fluxnet_LH,iSkips,axis=1)\n",
    "fluxnet_spd    = np.delete(fluxnet_spd,iSkips,axis=1)\n",
    "fluxnet_precip = np.delete(fluxnet_precip,iSkips,axis=1)\n",
    "fluxnet_pressr = np.delete(fluxnet_pressr,iSkips,axis=1)\n",
    "fluxnet_temp   = np.delete(fluxnet_temp,iSkips,axis=1)\n",
    "\n",
    "print('Number of days after deletes: ', len(dayRange))\n"
   ]
  },
  {
   "cell_type": "code",
   "execution_count": 13,
   "metadata": {},
   "outputs": [],
   "source": [
    "# ## Save station lat/lon to pickle file \n",
    "\n",
    "# fileName = '/Users/mdfowler/Documents/Analysis/CLUBB_initial/data/FLUXNET_lat.p'\n",
    "# with open(fileName, \"wb\") as f:\n",
    "#     pickle.dump(lat_fluxnet, f)\n",
    "\n",
    "# fileName = '/Users/mdfowler/Documents/Analysis/CLUBB_initial/data/FLUXNET_lon.p'\n",
    "# with open(fileName, \"wb\") as f:\n",
    "#     pickle.dump(lon_fluxnet, f)\n"
   ]
  },
  {
   "cell_type": "code",
   "execution_count": 14,
   "metadata": {},
   "outputs": [],
   "source": [
    "# # Also save out station ID\n",
    "# fileName = '/Users/mdfowler/Documents/Analysis/CLUBB_initial/data/FLUXNET_stationID.p'\n",
    "# with open(fileName, \"wb\") as f:\n",
    "#     pickle.dump(stationID, f)\n",
    "    "
   ]
  },
  {
   "cell_type": "code",
   "execution_count": null,
   "metadata": {},
   "outputs": [],
   "source": []
  },
  {
   "cell_type": "markdown",
   "metadata": {},
   "source": [
    "## Read in model data (3-hourly) at same sites"
   ]
  },
  {
   "cell_type": "code",
   "execution_count": 35,
   "metadata": {
    "ExecuteTime": {
     "end_time": "2021-03-02T17:39:26.735655Z",
     "start_time": "2021-03-02T17:39:26.725779Z"
    }
   },
   "outputs": [
    {
     "name": "stderr",
     "output_type": "stream",
     "text": [
      "/Users/mdfowler/opt/anaconda3/envs/newBase/lib/python3.8/site-packages/ipykernel/ipkernel.py:287: DeprecationWarning: `should_run_async` will not call `transform_cell` automatically in the future. Please pass the result to `transformed_cell` argument and any exception that happen during thetransform in `preprocessing_exc_tuple` in IPython 7.17 and above.\n",
      "  and should_run_async(code)\n"
     ]
    }
   ],
   "source": [
    "dataPath = '/Users/mdfowler/Documents/Analysis/CLUBB_initial/data/3hr_IslaSims/processed_3hourCESMatFLUXNETstations.nc'\n",
    "modelDS  = xr.open_dataset(dataPath, decode_times=True)\n",
    "#modelDS['time'] = modelDS.indexes['time'].to_datetimeindex()\n",
    "\n",
    "# FLUXNET hourly means are attributed to the hour *at which they start* \n",
    "# CESM means are attributed to the hour at which they *end*. So subtract three hours from CESM data to match up. \n",
    "modelDS['time'] = modelDS['time'] - pd.Timedelta(hours=3)\n"
   ]
  },
  {
   "cell_type": "code",
   "execution_count": 37,
   "metadata": {
    "ExecuteTime": {
     "end_time": "2021-03-02T17:39:35.458829Z",
     "start_time": "2021-03-02T17:39:35.441626Z"
    },
    "scrolled": true
   },
   "outputs": [],
   "source": [
    "# Slightly refined which stations to use above, so filter for consistency here \n",
    "listMatch = []\n",
    "\n",
    "for iStation in range(len(stationID)): \n",
    "    iList = np.where(modelDS.station.values==stationID[iStation])[0]\n",
    "    \n",
    "    if len(iList)>0:\n",
    "        listMatch.append(iList[0])\n",
    "        \n",
    "modelDS = modelDS.isel(station=listMatch)\n"
   ]
  },
  {
   "cell_type": "code",
   "execution_count": 39,
   "metadata": {
    "ExecuteTime": {
     "end_time": "2021-03-02T17:40:57.423179Z",
     "start_time": "2021-03-02T17:40:17.391660Z"
    },
    "scrolled": true
   },
   "outputs": [],
   "source": [
    "# FLUXNET obs are in local time. So read in their time zone and convert model to it (currently UTC)\n",
    "fileName = '/Users/mdfowler/Documents/Analysis/Coupling_initial/data/FLUXNET2015/FLX_AA-Flx_BIF_ALL_20200501/FLX_AA-Flx_BIF_DD_20200501.xlsx'\n",
    "metaDS   = pd.read_excel(fileName, engine='openpyxl')  \n",
    "\n",
    "# Get fluxnet UTC time offset\n",
    "utc_offset = np.empty([len(stationID)]).astype(str)\n",
    "\n",
    "for iStation in range(len(stationID)):\n",
    "    selStation = stationID[iStation]\n",
    "    iLoc=np.where((metaDS['SITE_ID']==selStation) & (metaDS['VARIABLE_GROUP']=='GRP_UTC_OFFSET'))[0]\n",
    "    utc_offset[iStation] = str((metaDS['DATAVALUE'].values[iLoc])[0])\n",
    "\n",
    "# Apply offset to each station in the model \n",
    "modelTimes_pd = pd.DatetimeIndex(modelDS.time.values, tz='UTC')\n",
    "\n",
    "modelTimes_local = np.empty([len(stationID),len(modelTimes_pd)])\n",
    "for iStation in range(len(stationID)):\n",
    "    modelTimes_local[iStation,:] = modelTimes_pd+pd.DateOffset(hours=float(utc_offset[iStation]))\n",
    "    \n",
    "    # Remove leap years again, since shifiting in time can cause issue\n",
    "    iLeap = np.where((pd.DatetimeIndex(modelTimes_local[iStation,:]).month==2) & (pd.DatetimeIndex(modelTimes_local[iStation,:]).day==29))\n",
    "    modelTimes_local[iStation,iLeap] = np.nan\n",
    "\n",
    "modelTimes_local = pd.DatetimeIndex(modelTimes_local)\n",
    "\n"
   ]
  },
  {
   "cell_type": "code",
   "execution_count": 170,
   "metadata": {},
   "outputs": [
    {
     "name": "stdout",
     "output_type": "stream",
     "text": [
      "DatetimeIndex(['2000-01-01 00:00:00+00:00', '2000-01-01 03:00:00+00:00',\n",
      "               '2000-01-01 06:00:00+00:00', '2000-01-01 09:00:00+00:00',\n",
      "               '2000-01-01 12:00:00+00:00', '2000-01-01 15:00:00+00:00',\n",
      "               '2000-01-01 18:00:00+00:00', '2000-01-01 21:00:00+00:00',\n",
      "               '2000-01-02 00:00:00+00:00', '2000-01-02 03:00:00+00:00'],\n",
      "              dtype='datetime64[ns, UTC]', freq=None)\n",
      "DatetimeIndex(['2000-01-01 01:00:00', '2000-01-01 04:00:00',\n",
      "               '2000-01-01 07:00:00', '2000-01-01 10:00:00',\n",
      "               '2000-01-01 13:00:00', '2000-01-01 16:00:00',\n",
      "               '2000-01-01 19:00:00', '2000-01-01 22:00:00',\n",
      "               '2000-01-02 01:00:00', '2000-01-02 04:00:00'],\n",
      "              dtype='datetime64[ns]', freq=None)\n"
     ]
    }
   ],
   "source": [
    "print(modelTimes_pd[0:10])\n",
    "print(modelTimes_local[1,0:10])"
   ]
  },
  {
   "cell_type": "code",
   "execution_count": 40,
   "metadata": {
    "ExecuteTime": {
     "end_time": "2021-03-02T17:41:05.840895Z",
     "start_time": "2021-03-02T17:41:05.833668Z"
    }
   },
   "outputs": [
    {
     "name": "stdout",
     "output_type": "stream",
     "text": [
      "[ 0.  3.  6.  9. 12. 15. 18. 21. nan nan nan nan nan nan nan nan nan nan\n",
      " nan nan]\n",
      "[ 0.  3.  6.  9. 12. 15. 18. 21.]\n"
     ]
    }
   ],
   "source": [
    "modelHours  = np.unique(modelTimes_local[14,:].hour)\n",
    "print(modelHours)\n",
    "modelHours  = modelHours[np.isfinite(modelHours)==True]\n",
    "print(modelHours)"
   ]
  },
  {
   "cell_type": "code",
   "execution_count": 41,
   "metadata": {
    "ExecuteTime": {
     "end_time": "2021-03-02T17:41:12.907449Z",
     "start_time": "2021-03-02T17:41:07.737997Z"
    }
   },
   "outputs": [],
   "source": [
    "# Match up fluxnet hourly obs to the hours that are in the model per station \n",
    "fluxnet_time_match = np.full([len(stationID), int(len(dayRange)/3)], np.nan)\n",
    "\n",
    "fluxnet_SH_match = np.full([len(stationID), int(len(dayRange)/3)], np.nan)\n",
    "fluxnet_LH_match = np.full([len(stationID), int(len(dayRange)/3)], np.nan)\n",
    "\n",
    "\n",
    "for iStation in range(len(stationID)):\n",
    "    modelHours  = np.unique(modelTimes_local[iStation,:].hour)\n",
    "    modelHours  = modelHours[np.isfinite(modelHours)==True]\n",
    "    \n",
    "    # Get indices that match *all* of those hours\n",
    "    matchInds = []\n",
    "    for iHour in range(len(modelHours)):\n",
    "        imatchHours = np.where(dayRange.hour==modelHours[iHour])[0]\n",
    "\n",
    "        matchInds.append(imatchHours)\n",
    "\n",
    "    matchInds = np.reshape(matchInds,[np.shape(matchInds)[0]*np.shape(matchInds)[1]])\n",
    "    matchInds = np.sort(matchInds)\n",
    "    \n",
    "    # Now select just those indices in fluxnet data \n",
    "    fluxnet_time_match[iStation,:] = dayRange[matchInds]\n",
    "    fluxnet_SH_match[iStation,:]   = fluxnet_SH[iStation,matchInds]\n",
    "    fluxnet_LH_match[iStation,:]   = fluxnet_LH[iStation,matchInds]\n",
    "\n"
   ]
  },
  {
   "cell_type": "code",
   "execution_count": 42,
   "metadata": {
    "ExecuteTime": {
     "end_time": "2021-03-02T17:41:14.741022Z",
     "start_time": "2021-03-02T17:41:14.667915Z"
    }
   },
   "outputs": [],
   "source": [
    "# Precip saved in m/s for model data. Ideally, let's just work in mm/day. \n",
    "#   Multiply by number of seconds in 3 hours (dT) and by 1000 to convert to mm\n",
    "modelPrecip_mm = modelDS.model_precip.values*(3.0*60.0*60.0)*1000.0\n",
    "modelDS['modelPrecip_mm'] = (('station','time'), modelPrecip_mm)\n"
   ]
  },
  {
   "cell_type": "markdown",
   "metadata": {},
   "source": [
    "## Classify days via precipitation"
   ]
  },
  {
   "cell_type": "code",
   "execution_count": 43,
   "metadata": {
    "ExecuteTime": {
     "end_time": "2021-03-02T17:41:19.959950Z",
     "start_time": "2021-03-02T17:41:18.752328Z"
    }
   },
   "outputs": [
    {
     "name": "stderr",
     "output_type": "stream",
     "text": [
      "/Users/mdfowler/opt/anaconda3/envs/newBase/lib/python3.8/site-packages/xarray/core/common.py:1123: FutureWarning: 'base' in .resample() and in Grouper() is deprecated.\n",
      "The new arguments that you should use are 'offset' or 'origin'.\n",
      "\n",
      ">>> df.resample(freq=\"3s\", base=2)\n",
      "\n",
      "becomes:\n",
      "\n",
      ">>> df.resample(freq=\"3s\", offset=\"2s\")\n",
      "\n",
      "  grouper = pd.Grouper(\n"
     ]
    }
   ],
   "source": [
    "# Get daily rain totals for model/fluxnet sites\n",
    "fluxnetPrec_DS = xr.DataArray(fluxnet_precip, coords=[stationID, dayRange], dims=['stationID','time'])\n",
    "rainDaily_fluxnet = fluxnetPrec_DS.resample(time='1D').sum()\n",
    "\n",
    "rainDaily_model = modelDS['modelPrecip_mm'].resample(time='1D').sum()\n"
   ]
  },
  {
   "cell_type": "code",
   "execution_count": 44,
   "metadata": {
    "ExecuteTime": {
     "end_time": "2021-03-02T17:41:22.687775Z",
     "start_time": "2021-03-02T17:41:21.566764Z"
    }
   },
   "outputs": [
    {
     "name": "stderr",
     "output_type": "stream",
     "text": [
      "/Users/mdfowler/opt/anaconda3/envs/newBase/lib/python3.8/site-packages/xarray/core/nanops.py:142: RuntimeWarning: Mean of empty slice\n",
      "  return np.nanmean(a, axis=axis, dtype=dtype)\n"
     ]
    }
   ],
   "source": [
    "#Fill in NaN's for precip anywhere there should be one (based on whether or not SH has data)\n",
    "#   If not, xarray is filling these with zeros and it's throwing things off later. \n",
    "fluxnetSH_DS = xr.DataArray(fluxnet_SH, coords=[stationID, dayRange], dims=['stationID','time'])\n",
    "shDaily_fluxnet = fluxnetSH_DS.resample(time='1D').mean()\n",
    "\n",
    "for iStation in range(len(stationID)):\n",
    "    indNan=np.where(np.isnan(shDaily_fluxnet[iStation,:])==True)[0]\n",
    "    rainDaily_fluxnet[iStation,indNan] = np.nan\n"
   ]
  },
  {
   "cell_type": "code",
   "execution_count": 45,
   "metadata": {
    "ExecuteTime": {
     "end_time": "2021-03-02T17:41:25.130686Z",
     "start_time": "2021-03-02T17:41:24.912921Z"
    },
    "scrolled": true
   },
   "outputs": [
    {
     "name": "stderr",
     "output_type": "stream",
     "text": [
      "/Users/mdfowler/opt/anaconda3/envs/newBase/lib/python3.8/site-packages/ipykernel/ipkernel.py:287: DeprecationWarning: `should_run_async` will not call `transform_cell` automatically in the future. Please pass the result to `transformed_cell` argument and any exception that happen during thetransform in `preprocessing_exc_tuple` in IPython 7.17 and above.\n",
      "  and should_run_async(code)\n"
     ]
    }
   ],
   "source": [
    "## Step 1: What should the threshold be for a \"wet\" day? Should it vary by station? \n",
    "# Could try 3 mm, in line with Burns et al...  \n",
    "\n",
    "minWet = 3\n",
    "\n",
    "pctWetDays_obs   = np.full([len(stationID)], np.nan)\n",
    "pctWetDays_model = np.full([len(stationID)], np.nan)\n",
    "for iStation in range(len(stationID)):\n",
    "    pctWetDays_obs[iStation]   = len(np.where(rainDaily_fluxnet[iStation,:]>=minWet)[0])/len(np.where(np.isfinite(rainDaily_fluxnet[iStation,:])==True)[0])\n",
    "    pctWetDays_model[iStation] = len(np.where(rainDaily_model[iStation,:]>=minWet)[0])/len(np.where(np.isfinite(rainDaily_model[iStation,:])==True)[0])\n",
    "    \n",
    "    # Just to double check that the order is consistent between model and obs \n",
    "    if (modelDS.station.values[iStation]!=stationID[iStation]):\n",
    "        print(modelDS.station.values[iStation], '  ', stationID[iStation])\n",
    "    "
   ]
  },
  {
   "cell_type": "code",
   "execution_count": 22,
   "metadata": {},
   "outputs": [
    {
     "name": "stderr",
     "output_type": "stream",
     "text": [
      "/Users/mdfowler/opt/anaconda3/envs/metPy/lib/python3.9/site-packages/ipykernel/ipkernel.py:283: DeprecationWarning: `should_run_async` will not call `transform_cell` automatically in the future. Please pass the result to `transformed_cell` argument and any exception that happen during thetransform in `preprocessing_exc_tuple` in IPython 7.17 and above.\n",
      "  and should_run_async(code)\n"
     ]
    },
    {
     "data": {
      "text/plain": [
       "Text(0.5, 1.0, 'FLUXNET: Percent days classified as wet by station')"
      ]
     },
     "execution_count": 22,
     "metadata": {},
     "output_type": "execute_result"
    },
    {
     "data": {
      "image/png": "[encoded data removed]",
      "text/plain": [
       "<Figure size 432x288 with 1 Axes>"
      ]
     },
     "metadata": {
      "needs_background": "light"
     },
     "output_type": "display_data"
    }
   ],
   "source": [
    "plt.hist(pctWetDays_obs*100,20)\n",
    "plt.title('FLUXNET: Percent days classified as wet by station')\n"
   ]
  },
  {
   "cell_type": "code",
   "execution_count": 32,
   "metadata": {},
   "outputs": [
    {
     "data": {
      "text/plain": [
       "Text(0.5, 1.0, 'Model: Percent days classified as wet by station')"
      ]
     },
     "execution_count": 32,
     "metadata": {},
     "output_type": "execute_result"
    },
    {
     "data": {
      "image/png": "[encoded data removed]",
      "text/plain": [
       "<Figure size 432x288 with 1 Axes>"
      ]
     },
     "metadata": {
      "needs_background": "light"
     },
     "output_type": "display_data"
    }
   ],
   "source": [
    "plt.hist(pctWetDays_model*100,20)\n",
    "plt.title('Model: Percent days classified as wet by station')"
   ]
  },
  {
   "cell_type": "code",
   "execution_count": 46,
   "metadata": {
    "ExecuteTime": {
     "end_time": "2021-03-02T17:41:30.094482Z",
     "start_time": "2021-03-02T17:41:30.089013Z"
    }
   },
   "outputs": [
    {
     "name": "stderr",
     "output_type": "stream",
     "text": [
      "/Users/mdfowler/opt/anaconda3/envs/newBase/lib/python3.8/site-packages/ipykernel/ipkernel.py:287: DeprecationWarning: `should_run_async` will not call `transform_cell` automatically in the future. Please pass the result to `transformed_cell` argument and any exception that happen during thetransform in `preprocessing_exc_tuple` in IPython 7.17 and above.\n",
      "  and should_run_async(code)\n"
     ]
    }
   ],
   "source": [
    "'''\n",
    "Function to send back which classification each day falls into, \n",
    "based on precipitation amount, similar to Burns et al. (2015; 2018).\n",
    "This version of the function assumes a single column run/input, \n",
    "in that only one dimension exists for precip. \n",
    "\n",
    "Inputs: \n",
    "   time:   An array of times to worry about. \n",
    "           Should be a pandas datetime.\n",
    "   precip: Daily precipitation (summed). Units can be in mm or m, \n",
    "           but need to be consistent with the threshold the user\n",
    "           defines (i.e., no unit conversions done here).\n",
    "   wetDef: User-defined threshold for defining days as wet vs. dry. \n",
    "Outputs:\n",
    "    classificationArr: Array with one fewer length than time, where\n",
    "                       the classification falls into four categories:\n",
    "                       1 :: wWet   (wet day following a wet day)\n",
    "                       2 :: wDry   (dry day following a wet day)\n",
    "                       3 :: dWet   (wet day following a dry day)\n",
    "                       4 :: dDry   (dry day following a dry day)\n",
    "                       \n",
    "                       Difference in length due to the first day not having a \n",
    "                       \"before\" day to reference. So time[0] on the \n",
    "                       classification array corresponds to time[1]. \n",
    "\n",
    "'''\n",
    "\n",
    "def classifyPrectDays_SCAM(time,precip,wetDef): \n",
    "    \n",
    "    # Define empty arrays of the appropriate length\n",
    "    nTimes               = len(time)\n",
    "    classificationArr    = np.empty([len(time)]).astype('str')\n",
    "    \n",
    "    for iDay in range(nTimes-1): \n",
    "        \n",
    "        # Wet day...\n",
    "        if precip[iDay]>=wetDef:\n",
    "            if precip[iDay+1]>=wetDef:\n",
    "                classificationArr[iDay+1] = 'wWet'  # Wet day following wet \n",
    "            elif precip[iDay+1]<wetDef : \n",
    "                classificationArr[iDay+1] = 'wDry' # Dry day following wet \n",
    "        # Dry day...\n",
    "        elif precip[iDay]<wetDef:\n",
    "            if precip[iDay+1]>=wetDef:\n",
    "                classificationArr[iDay+1] = 'dWet'  # Wet day following dry \n",
    "            elif precip[iDay+1]<wetDef : \n",
    "                classificationArr[iDay+1] = 'dDry' # Dry day following dry \n",
    "        # If missing...\n",
    "        else: \n",
    "            classificationArr[iDay+1] = 'nan'\n",
    "\n",
    "    return(classificationArr[1::])\n",
    "\n"
   ]
  },
  {
   "cell_type": "code",
   "execution_count": 27,
   "metadata": {
    "scrolled": true
   },
   "outputs": [],
   "source": [
    "# # Get classification of all days... \n",
    "# nDays_obs   = len(rainDaily_fluxnet.time.values)\n",
    "# nDays_model = len(rainDaily_model.time.values)\n",
    "\n",
    "# dayClass_obs   = np.empty([len(stationID), nDays_obs]).astype(str)\n",
    "# dayClass_model = np.empty([len(stationID), nDays_model]).astype(str)\n",
    "\n",
    "# for iStation in range(len(stationID)):\n",
    "#     dayClass_obs[iStation,1::]   = classifyPrectDays_SCAM(rainDaily_fluxnet.time.values, rainDaily_fluxnet[iStation,:], minWet)\n",
    "#     dayClass_model[iStation,1::] = classifyPrectDays_SCAM(rainDaily_model.time.values, rainDaily_model[iStation,:], minWet)\n"
   ]
  },
  {
   "cell_type": "code",
   "execution_count": 28,
   "metadata": {},
   "outputs": [],
   "source": [
    "# # Fill in first spot with 'nan' (since it's missing anyway)\n",
    "# dayClass_obs[:,0] = np.nan\n",
    "# dayClass_model[:,0] = np.nan\n"
   ]
  },
  {
   "cell_type": "code",
   "execution_count": 29,
   "metadata": {},
   "outputs": [
    {
     "data": {
      "text/plain": [
       "array(['nan', 'nan', 'nan', ..., 'nan', 'nan', 'nan'], dtype='<U32')"
      ]
     },
     "execution_count": 29,
     "metadata": {},
     "output_type": "execute_result"
    }
   ],
   "source": [
    "dayClass_obs[10,:]"
   ]
  },
  {
   "cell_type": "code",
   "execution_count": 30,
   "metadata": {},
   "outputs": [],
   "source": [
    "# # Save out to pickle file? \n",
    "\n",
    "# fileName = '/Users/mdfowler/Documents/Analysis/CLUBB_initial/data/fluxnet_dailyPrecipClassification.p'\n",
    "# with open(fileName, \"wb\") as f:\n",
    "#     pickle.dump(dayClass_obs, f)\n",
    "\n",
    "# fileName = '/Users/mdfowler/Documents/Analysis/CLUBB_initial/data/model_dailyPrecipClassification.p'\n",
    "# with open(fileName, \"wb\") as f:\n",
    "#     pickle.dump(dayClass_model, f)\n"
   ]
  },
  {
   "cell_type": "code",
   "execution_count": 47,
   "metadata": {
    "ExecuteTime": {
     "end_time": "2021-03-02T17:41:34.297532Z",
     "start_time": "2021-03-02T17:41:34.155163Z"
    }
   },
   "outputs": [],
   "source": [
    "# Read in from pickle file: \n",
    "fileName = '/Users/mdfowler/Documents/Analysis/CLUBB_initial/data/fluxnet_dailyPrecipClassification.p'\n",
    "with open(fileName, \"rb\") as f:\n",
    "    dayClass_obs = pickle.load(f)\n",
    "\n",
    "fileName = '/Users/mdfowler/Documents/Analysis/CLUBB_initial/data/model_dailyPrecipClassification.p'\n",
    "with open(fileName, \"rb\") as f:\n",
    "    dayClass_model = pickle.load(f)\n",
    "    "
   ]
  },
  {
   "cell_type": "code",
   "execution_count": 32,
   "metadata": {},
   "outputs": [
    {
     "data": {
      "text/plain": [
       "array(['nan', 'nan', 'nan', ..., 'nan', 'nan', 'nan'], dtype='<U32')"
      ]
     },
     "execution_count": 32,
     "metadata": {},
     "output_type": "execute_result"
    }
   ],
   "source": [
    "dayClass_obs[10,:]"
   ]
  },
  {
   "cell_type": "code",
   "execution_count": 48,
   "metadata": {
    "ExecuteTime": {
     "end_time": "2021-03-02T17:41:38.516020Z",
     "start_time": "2021-03-02T17:41:38.383502Z"
    }
   },
   "outputs": [],
   "source": [
    "## Remove leap year days (Feb 29th)\n",
    "obsTime_daily   = pd.DatetimeIndex(rainDaily_fluxnet.time.values)\n",
    "modelTime_daily =pd.DatetimeIndex(rainDaily_model.time.values)\n",
    "\n",
    "# Where is it Feb 29th?\n",
    "iSkips          = np.where((obsTime_daily.month==2) & (obsTime_daily.day==29))[0]\n",
    "dayClass_obsSel = np.delete(dayClass_obs,iSkips,axis=1)\n",
    "\n",
    "iSkipsModel       = np.where((modelTime_daily.month==2) & (modelTime_daily.day==29))[0]\n",
    "dayClass_modelSel = np.delete(dayClass_model,iSkipsModel,axis=1)\n"
   ]
  },
  {
   "cell_type": "code",
   "execution_count": 49,
   "metadata": {
    "ExecuteTime": {
     "end_time": "2021-03-02T17:41:40.141603Z",
     "start_time": "2021-03-02T17:41:40.138374Z"
    }
   },
   "outputs": [
    {
     "data": {
      "text/plain": [
       "(114, 5476)"
      ]
     },
     "execution_count": 49,
     "metadata": {},
     "output_type": "execute_result"
    }
   ],
   "source": [
    "np.shape(dayClass_modelSel)\n"
   ]
  },
  {
   "cell_type": "markdown",
   "metadata": {},
   "source": [
    "## Look at flux biases based on day classification "
   ]
  },
  {
   "cell_type": "code",
   "execution_count": 50,
   "metadata": {
    "ExecuteTime": {
     "end_time": "2021-03-02T17:41:41.916288Z",
     "start_time": "2021-03-02T17:41:41.907169Z"
    }
   },
   "outputs": [],
   "source": [
    "'''\n",
    "Function to split up an input array\n",
    "into day/hour.\n",
    "\n",
    "Inputs:  Time should be a pandas datetime array. \n",
    "         Var should be a 2d array, location x time.\n",
    "         MODIFIED: just 1d array [time]\n",
    "Outputs: Output will be station by days by hours.\n",
    "\n",
    "'''\n",
    "\n",
    "def var_separateTime(time,var):\n",
    "    \n",
    "    #nLoc = int(np.shape(var)[0])\n",
    "    \n",
    "    # Get arrays of unique years/months/days/hours \n",
    "    startDay = datetime.date(int(time.year[0]), int(time.month[0]), int(time.day[0]))\n",
    "    var_separate = np.full([1,8], np.nan)  # Initialize array to hold daily data \n",
    "    \n",
    "    # Counter for number of days to split things into\n",
    "    dayCheck = 0 \n",
    "    while np.isfinite(dayCheck)==True:\n",
    "        iDay    = np.where((time.year==startDay.year)  & \n",
    "                           (time.month==startDay.month) &\n",
    "                           (time.day==startDay.day))[0]\n",
    "        \n",
    "        if len(iDay)>=1:\n",
    "            timeDay = time[iDay]\n",
    "            varDay  = var[iDay]\n",
    "\n",
    "            # Initialize array to hold 3-hourly values\n",
    "            hourlyVars = np.full([8],np.nan)\n",
    "            hourValues = np.unique(time.hour)\n",
    "            hourValues  = hourValues[np.isfinite(hourValues)==True]\n",
    "\n",
    "            for iHr in range(len(hourValues)):\n",
    "                selHour = np.where(timeDay.hour==hourValues[iHr])[0]\n",
    "\n",
    "                # Check if not already in hourly form\n",
    "#                 if len(selHour)>1: \n",
    "#                     varHour = np.nanmean(varDay[:, selHour])\n",
    "                if len(selHour)<1:\n",
    "                    varHour = np.nan\n",
    "                else:\n",
    "                    varHour = varDay[selHour]   \n",
    "                    \n",
    "                # Fill in var_separateTime by day/hour\n",
    "                hourlyVars[iHr] = np.squeeze(varHour)\n",
    "\n",
    "            # Add to a daily array \n",
    "            if dayCheck==0:\n",
    "                var_separate[0, :] = hourlyVars\n",
    "            else:\n",
    "                #np.concatenate((var_separate, hourlyVars[:,None]),axis=0)\n",
    "                var_separate = np.append(var_separate, np.reshape(hourlyVars,[1,8]), axis=0)\n",
    "            \n",
    "            # Set next day \n",
    "            startDay = startDay+datetime.timedelta(days=1)\n",
    "            dayCheck = dayCheck+1\n",
    "        elif ((startDay.month==2) & (startDay.day==29)):\n",
    "            # Set next day \n",
    "            startDay = startDay+datetime.timedelta(days=1)\n",
    "            #dayCheck = dayCheck+1\n",
    "            #print('Skipping a leap year...')\n",
    "        else: \n",
    "            dayCheck = np.nan\n",
    "    \n",
    "    return(var_separate)"
   ]
  },
  {
   "cell_type": "code",
   "execution_count": 73,
   "metadata": {
    "ExecuteTime": {
     "end_time": "2021-03-02T19:50:50.828759Z",
     "start_time": "2021-03-02T17:47:31.998906Z"
    },
    "scrolled": true
   },
   "outputs": [
    {
     "name": "stderr",
     "output_type": "stream",
     "text": [
      "/Users/mdfowler/opt/anaconda3/envs/newBase/lib/python3.8/site-packages/ipykernel/ipkernel.py:287: DeprecationWarning: `should_run_async` will not call `transform_cell` automatically in the future. Please pass the result to `transformed_cell` argument and any exception that happen during thetransform in `preprocessing_exc_tuple` in IPython 7.17 and above.\n",
      "  and should_run_async(code)\n"
     ]
    },
    {
     "name": "stdout",
     "output_type": "stream",
     "text": [
      "Done with station 1\n",
      "Done with station 2\n",
      "Done with station 3\n",
      "Done with station 4\n",
      "Done with station 5\n",
      "Done with station 6\n",
      "Done with station 7\n",
      "Done with station 8\n",
      "Done with station 9\n",
      "Done with station 10\n",
      "Done with station 11\n",
      "Done with station 12\n",
      "Done with station 13\n",
      "Done with station 14\n",
      "Done with station 15\n",
      "Done with station 16\n",
      "Done with station 17\n",
      "Done with station 18\n",
      "Done with station 19\n",
      "Done with station 20\n",
      "Done with station 21\n",
      "Done with station 22\n",
      "Done with station 23\n",
      "Done with station 24\n",
      "Done with station 25\n",
      "Done with station 26\n",
      "Done with station 27\n",
      "Done with station 28\n",
      "Done with station 29\n",
      "Done with station 30\n",
      "Done with station 31\n",
      "Done with station 32\n",
      "Done with station 33\n",
      "Done with station 34\n",
      "Done with station 35\n",
      "Done with station 36\n",
      "Done with station 37\n",
      "Done with station 38\n",
      "Done with station 39\n",
      "Done with station 40\n",
      "Done with station 41\n",
      "Done with station 42\n",
      "Done with station 43\n",
      "Done with station 44\n",
      "Done with station 45\n",
      "Done with station 46\n",
      "Done with station 47\n",
      "Done with station 48\n",
      "Done with station 49\n",
      "Done with station 50\n",
      "Done with station 51\n",
      "Done with station 52\n",
      "Done with station 53\n",
      "Done with station 54\n",
      "Done with station 55\n",
      "Done with station 56\n",
      "Done with station 57\n",
      "Done with station 58\n",
      "Done with station 59\n",
      "Done with station 60\n",
      "Done with station 61\n",
      "Done with station 62\n",
      "Done with station 63\n",
      "Done with station 64\n",
      "Done with station 65\n",
      "Done with station 66\n",
      "Done with station 67\n",
      "Done with station 68\n",
      "Done with station 69\n",
      "Done with station 70\n",
      "Done with station 71\n",
      "Done with station 72\n",
      "Done with station 73\n",
      "Done with station 74\n",
      "Done with station 75\n",
      "Done with station 76\n",
      "Done with station 77\n",
      "Done with station 78\n",
      "Done with station 79\n",
      "Done with station 80\n",
      "Done with station 81\n",
      "Done with station 82\n",
      "Done with station 83\n",
      "Done with station 84\n",
      "Done with station 85\n",
      "Done with station 86\n",
      "Done with station 87\n",
      "Done with station 88\n",
      "Done with station 89\n",
      "Done with station 90\n",
      "Done with station 91\n",
      "Done with station 92\n",
      "Done with station 93\n",
      "Done with station 94\n",
      "Done with station 95\n",
      "Done with station 96\n",
      "Done with station 97\n",
      "Done with station 98\n",
      "Done with station 99\n",
      "Done with station 100\n",
      "Done with station 101\n",
      "Done with station 102\n",
      "Done with station 103\n",
      "Done with station 104\n",
      "Done with station 105\n",
      "Done with station 106\n",
      "Done with station 107\n",
      "Done with station 108\n",
      "Done with station 109\n",
      "Done with station 110\n",
      "Done with station 111\n",
      "Done with station 112\n",
      "Done with station 113\n",
      "Done with station 114\n"
     ]
    }
   ],
   "source": [
    "# modelDaily_SH = np.full([len(stationID), int(np.ceil(len(modelTimes_local[10,:])/8)), 8], np.nan)\n",
    "# modelDaily_LH = np.full([len(stationID), int(np.ceil(len(modelTimes_local[10,:])/8)), 8], np.nan)\n",
    "\n",
    "# for iStation in range(len(stationID)):\n",
    "\n",
    "#     # Get model data separated by day/hour \n",
    "#     modelDaily_SH[iStation,:,:] = var_separateTime(modelTimes_local[iStation,:], modelDS.model_SH.values[iStation,:])\n",
    "    \n",
    "#     modelDaily_LH[iStation,:,:] = var_separateTime(modelTimes_local[iStation,:], modelDS.model_LH.values[iStation,:])\n",
    "\n",
    "#     print('Done with station %i' % (iStation+1))\n",
    "    "
   ]
  },
  {
   "cell_type": "code",
   "execution_count": 74,
   "metadata": {
    "ExecuteTime": {
     "end_time": "2021-03-02T20:31:16.220764Z",
     "start_time": "2021-03-02T20:31:16.153658Z"
    }
   },
   "outputs": [],
   "source": [
    "# meanSH_model = np.nanmean(modelDaily_SH,axis=1)\n",
    "\n"
   ]
  },
  {
   "cell_type": "code",
   "execution_count": 83,
   "metadata": {
    "ExecuteTime": {
     "end_time": "2021-03-02T20:32:01.682623Z",
     "start_time": "2021-03-02T20:32:01.674578Z"
    }
   },
   "outputs": [
    {
     "data": {
      "text/plain": [
       "array([ 1.,  4.,  7., 10., 13., 16., 19., 22., nan, nan, nan, nan])"
      ]
     },
     "execution_count": 83,
     "metadata": {},
     "output_type": "execute_result"
    }
   ],
   "source": [
    "np.unique(modelTimes_local[22,:].hour)"
   ]
  },
  {
   "cell_type": "code",
   "execution_count": 75,
   "metadata": {
    "ExecuteTime": {
     "end_time": "2021-03-02T20:31:19.762379Z",
     "start_time": "2021-03-02T20:31:19.602105Z"
    },
    "scrolled": true
   },
   "outputs": [
    {
     "data": {
      "text/plain": [
       "<matplotlib.legend.Legend at 0x7fd14a34c160>"
      ]
     },
     "execution_count": 75,
     "metadata": {},
     "output_type": "execute_result"
    },
    {
     "data": {
      "image/png": "[encoded data removed]",
      "text/plain": [
       "<Figure size 432x288 with 1 Axes>"
      ]
     },
     "metadata": {
      "needs_background": "light"
     },
     "output_type": "display_data"
    }
   ],
   "source": [
    "plt.plot(np.unique(modelTimes_local[3,:].hour)[0:8], meanSH_model[3,:],label=stationID[3])\n",
    "plt.plot(np.unique(modelTimes_local[10,:].hour)[0:8], meanSH_model[10,:],label=stationID[10])\n",
    "plt.plot(np.unique(modelTimes_local[53,:].hour)[0:8], meanSH_model[53,:],label=stationID[53])\n",
    "plt.legend()\n"
   ]
  },
  {
   "cell_type": "code",
   "execution_count": 82,
   "metadata": {
    "ExecuteTime": {
     "end_time": "2021-03-02T20:31:46.599598Z",
     "start_time": "2021-03-02T20:31:46.531825Z"
    }
   },
   "outputs": [
    {
     "name": "stderr",
     "output_type": "stream",
     "text": [
      "/Users/mdfowler/opt/anaconda3/envs/newBase/lib/python3.8/site-packages/ipykernel/ipkernel.py:287: DeprecationWarning: `should_run_async` will not call `transform_cell` automatically in the future. Please pass the result to `transformed_cell` argument and any exception that happen during thetransform in `preprocessing_exc_tuple` in IPython 7.17 and above.\n",
      "  and should_run_async(code)\n"
     ]
    }
   ],
   "source": [
    "# # Save out to pickle file? \n",
    "\n",
    "# fileName = '/Users/mdfowler/Documents/Analysis/CLUBB_initial/data/model_dailySH.p'\n",
    "# with open(fileName, \"wb\") as f:\n",
    "#     pickle.dump(modelDaily_SH, f)\n",
    "\n",
    "# fileName = '/Users/mdfowler/Documents/Analysis/CLUBB_initial/data/model_dailyLH.p'\n",
    "# with open(fileName, \"wb\") as f:\n",
    "#     pickle.dump(modelDaily_LH, f)\n",
    "\n"
   ]
  },
  {
   "cell_type": "code",
   "execution_count": 154,
   "metadata": {
    "scrolled": true
   },
   "outputs": [
    {
     "name": "stderr",
     "output_type": "stream",
     "text": [
      "/Users/mdfowler/opt/anaconda3/envs/metPy/lib/python3.9/site-packages/ipykernel/ipkernel.py:283: DeprecationWarning: `should_run_async` will not call `transform_cell` automatically in the future. Please pass the result to `transformed_cell` argument and any exception that happen during thetransform in `preprocessing_exc_tuple` in IPython 7.17 and above.\n",
      "  and should_run_async(code)\n"
     ]
    },
    {
     "name": "stdout",
     "output_type": "stream",
     "text": [
      "Done with station 1\n",
      "Done with station 2\n",
      "Done with station 3\n",
      "Done with station 4\n",
      "Done with station 5\n",
      "Done with station 6\n",
      "Done with station 7\n",
      "Done with station 8\n",
      "Done with station 9\n",
      "Done with station 10\n",
      "Done with station 11\n",
      "Done with station 12\n",
      "Done with station 13\n",
      "Done with station 14\n",
      "Done with station 15\n",
      "Done with station 16\n",
      "Done with station 17\n",
      "Done with station 18\n",
      "Done with station 19\n",
      "Done with station 20\n",
      "Done with station 21\n",
      "Done with station 22\n",
      "Done with station 23\n",
      "Done with station 24\n",
      "Done with station 25\n",
      "Done with station 26\n",
      "Done with station 27\n",
      "Done with station 28\n",
      "Done with station 29\n",
      "Done with station 30\n",
      "Done with station 31\n",
      "Done with station 32\n",
      "Done with station 33\n",
      "Done with station 34\n",
      "Done with station 35\n",
      "Done with station 36\n",
      "Done with station 37\n",
      "Done with station 38\n",
      "Done with station 39\n",
      "Done with station 40\n",
      "Done with station 41\n",
      "Done with station 42\n",
      "Done with station 43\n",
      "Done with station 44\n",
      "Done with station 45\n",
      "Done with station 46\n",
      "Done with station 47\n",
      "Done with station 48\n",
      "Done with station 49\n",
      "Done with station 50\n",
      "Done with station 51\n",
      "Done with station 52\n",
      "Done with station 53\n",
      "Done with station 54\n",
      "Done with station 55\n",
      "Done with station 56\n",
      "Done with station 57\n",
      "Done with station 58\n",
      "Done with station 59\n",
      "Done with station 60\n",
      "Done with station 61\n",
      "Done with station 62\n",
      "Done with station 63\n",
      "Done with station 64\n",
      "Done with station 65\n",
      "Done with station 66\n",
      "Done with station 67\n",
      "Done with station 68\n",
      "Done with station 69\n",
      "Done with station 70\n",
      "Done with station 71\n",
      "Done with station 72\n",
      "Done with station 73\n",
      "Done with station 74\n",
      "Done with station 75\n",
      "Done with station 76\n",
      "Done with station 77\n",
      "Done with station 78\n",
      "Done with station 79\n",
      "Done with station 80\n",
      "Done with station 81\n",
      "Done with station 82\n",
      "Done with station 83\n",
      "Done with station 84\n",
      "Done with station 85\n",
      "Done with station 86\n",
      "Done with station 87\n",
      "Done with station 88\n",
      "Done with station 89\n",
      "Done with station 90\n",
      "Done with station 91\n",
      "Done with station 92\n",
      "Done with station 93\n",
      "Done with station 94\n",
      "Done with station 95\n",
      "Done with station 96\n",
      "Done with station 97\n",
      "Done with station 98\n",
      "Done with station 99\n",
      "Done with station 100\n",
      "Done with station 101\n",
      "Done with station 102\n",
      "Done with station 103\n",
      "Done with station 104\n",
      "Done with station 105\n",
      "Done with station 106\n",
      "Done with station 107\n",
      "Done with station 108\n",
      "Done with station 109\n",
      "Done with station 110\n",
      "Done with station 111\n",
      "Done with station 112\n",
      "Done with station 113\n",
      "Done with station 114\n"
     ]
    }
   ],
   "source": [
    "# fluxnetDaily_SH = np.full([len(stationID), int(np.ceil(len(fluxnet_time_match[10,:])/8)), 8], np.nan)\n",
    "# fluxnetDaily_LH = np.full([len(stationID), int(np.ceil(len(fluxnet_time_match[10,:])/8)), 8], np.nan)\n",
    "\n",
    "# fluxnet_time_match = pd.DatetimeIndex(fluxnet_time_match)\n",
    "\n",
    "# for iStation in range(len(stationID)):\n",
    "\n",
    "#     # Get fluxnet data separated by day/hour \n",
    "#     fluxnetDaily_SH[iStation,:,:] = var_separateTime(fluxnet_time_match[iStation,:], fluxnet_SH_match[iStation,:])\n",
    "    \n",
    "#     fluxnetDaily_LH[iStation,:,:] = var_separateTime(fluxnet_time_match[iStation,:], fluxnet_LH_match[iStation,:])\n",
    "\n",
    "#     print('Done with station %i' % (iStation+1))\n",
    "    "
   ]
  },
  {
   "cell_type": "code",
   "execution_count": 155,
   "metadata": {},
   "outputs": [
    {
     "name": "stderr",
     "output_type": "stream",
     "text": [
      "/Users/mdfowler/opt/anaconda3/envs/metPy/lib/python3.9/site-packages/ipykernel/ipkernel.py:283: DeprecationWarning: `should_run_async` will not call `transform_cell` automatically in the future. Please pass the result to `transformed_cell` argument and any exception that happen during thetransform in `preprocessing_exc_tuple` in IPython 7.17 and above.\n",
      "  and should_run_async(code)\n"
     ]
    }
   ],
   "source": [
    "# # Save out to pickle file? \n",
    "\n",
    "# fileName = '/Users/mdfowler/Documents/Analysis/CLUBB_initial/data/fluxnet_dailySH.p'\n",
    "# with open(fileName, \"wb\") as f:\n",
    "#     pickle.dump(fluxnetDaily_SH, f)\n",
    "\n",
    "# fileName = '/Users/mdfowler/Documents/Analysis/CLUBB_initial/data/fluxnet_dailyLH.p'\n",
    "# with open(fileName, \"wb\") as f:\n",
    "#     pickle.dump(fluxnetDaily_LH, f)\n"
   ]
  },
  {
   "cell_type": "code",
   "execution_count": 64,
   "metadata": {
    "ExecuteTime": {
     "end_time": "2021-03-02T17:46:47.228230Z",
     "start_time": "2021-03-02T17:46:47.072837Z"
    }
   },
   "outputs": [
    {
     "name": "stderr",
     "output_type": "stream",
     "text": [
      "/Users/mdfowler/opt/anaconda3/envs/newBase/lib/python3.8/site-packages/ipykernel/ipkernel.py:287: DeprecationWarning: `should_run_async` will not call `transform_cell` automatically in the future. Please pass the result to `transformed_cell` argument and any exception that happen during thetransform in `preprocessing_exc_tuple` in IPython 7.17 and above.\n",
      "  and should_run_async(code)\n",
      "<ipython-input-64-75b3e932f0a6>:4: ResourceWarning: unclosed file <_io.BufferedReader name='/Users/mdfowler/Documents/Analysis/CLUBB_initial/data/fluxnet_dailySH.p'>\n",
      "  fluxnetDaily_SH = pickle.load( open( fileName, \"rb\" ) )\n",
      "ResourceWarning: Enable tracemalloc to get the object allocation traceback\n",
      "<ipython-input-64-75b3e932f0a6>:7: ResourceWarning: unclosed file <_io.BufferedReader name='/Users/mdfowler/Documents/Analysis/CLUBB_initial/data/fluxnet_dailyLH.p'>\n",
      "  fluxnetDaily_LH = pickle.load( open( fileName, \"rb\" ) )\n",
      "ResourceWarning: Enable tracemalloc to get the object allocation traceback\n",
      "<ipython-input-64-75b3e932f0a6>:11: ResourceWarning: unclosed file <_io.BufferedReader name='/Users/mdfowler/Documents/Analysis/CLUBB_initial/data/model_dailySH.p'>\n",
      "  modelDaily_SH = pickle.load( open( fileName, \"rb\") )\n",
      "ResourceWarning: Enable tracemalloc to get the object allocation traceback\n",
      "<ipython-input-64-75b3e932f0a6>:14: ResourceWarning: unclosed file <_io.BufferedReader name='/Users/mdfowler/Documents/Analysis/CLUBB_initial/data/model_dailyLH.p'>\n",
      "  modelDaily_LH = pickle.load( open( fileName, \"rb\") )\n",
      "ResourceWarning: Enable tracemalloc to get the object allocation traceback\n"
     ]
    }
   ],
   "source": [
    "# # Save out to pickle file? \n",
    "\n",
    "fileName = '/Users/mdfowler/Documents/Analysis/CLUBB_initial/data/fluxnet_dailySH.p'\n",
    "fluxnetDaily_SH = pickle.load( open( fileName, \"rb\" ) )\n",
    "\n",
    "fileName = '/Users/mdfowler/Documents/Analysis/CLUBB_initial/data/fluxnet_dailyLH.p'\n",
    "fluxnetDaily_LH = pickle.load( open( fileName, \"rb\" ) )\n",
    "\n",
    "\n",
    "fileName = '/Users/mdfowler/Documents/Analysis/CLUBB_initial/data/model_dailySH.p'\n",
    "modelDaily_SH = pickle.load( open( fileName, \"rb\") )\n",
    "\n",
    "fileName = '/Users/mdfowler/Documents/Analysis/CLUBB_initial/data/model_dailyLH.p'\n",
    "modelDaily_LH = pickle.load( open( fileName, \"rb\") )\n",
    "\n"
   ]
  },
  {
   "cell_type": "code",
   "execution_count": null,
   "metadata": {},
   "outputs": [],
   "source": []
  },
  {
   "cell_type": "code",
   "execution_count": 65,
   "metadata": {
    "ExecuteTime": {
     "end_time": "2021-03-02T17:46:50.316252Z",
     "start_time": "2021-03-02T17:46:50.312647Z"
    }
   },
   "outputs": [
    {
     "name": "stdout",
     "output_type": "stream",
     "text": [
      "Dimensions for model data:\n",
      "(114, 5476, 8)\n",
      "(114, 5476)\n",
      "\n",
      "Dimensions for fluxnet data:\n",
      "(114, 8395, 8)\n",
      "(114, 8395)\n"
     ]
    }
   ],
   "source": [
    "# Check that the dimensions all work out\n",
    "print('Dimensions for model data:')\n",
    "print(np.shape(modelDaily_SH))\n",
    "print(np.shape(dayClass_modelSel))\n",
    "\n",
    "print('\\nDimensions for fluxnet data:')\n",
    "print(np.shape(fluxnetDaily_SH))\n",
    "print(np.shape(dayClass_obsSel))\n"
   ]
  },
  {
   "cell_type": "code",
   "execution_count": 76,
   "metadata": {
    "ExecuteTime": {
     "end_time": "2021-03-02T20:31:29.078469Z",
     "start_time": "2021-03-02T20:31:28.812878Z"
    }
   },
   "outputs": [
    {
     "name": "stderr",
     "output_type": "stream",
     "text": [
      "/Users/mdfowler/opt/anaconda3/envs/newBase/lib/python3.8/site-packages/ipykernel/ipkernel.py:287: DeprecationWarning: `should_run_async` will not call `transform_cell` automatically in the future. Please pass the result to `transformed_cell` argument and any exception that happen during thetransform in `preprocessing_exc_tuple` in IPython 7.17 and above.\n",
      "  and should_run_async(code)\n",
      "<ipython-input-76-e758a30aa155>:3: RuntimeWarning: divide by zero encountered in true_divide\n",
      "  fluxnetDaily_EF = fluxnetDaily_LH/(fluxnetDaily_SH+fluxnetDaily_LH)\n",
      "<ipython-input-76-e758a30aa155>:3: RuntimeWarning: invalid value encountered in true_divide\n",
      "  fluxnetDaily_EF = fluxnetDaily_LH/(fluxnetDaily_SH+fluxnetDaily_LH)\n"
     ]
    }
   ],
   "source": [
    "# Compute EF ahead of time...\n",
    "modelDaily_EF   = modelDaily_LH/(modelDaily_SH+modelDaily_LH)\n",
    "fluxnetDaily_EF = fluxnetDaily_LH/(fluxnetDaily_SH+fluxnetDaily_LH)\n",
    "\n"
   ]
  },
  {
   "cell_type": "code",
   "execution_count": 77,
   "metadata": {
    "ExecuteTime": {
     "end_time": "2021-03-02T20:31:31.174879Z",
     "start_time": "2021-03-02T20:31:30.372197Z"
    }
   },
   "outputs": [
    {
     "name": "stderr",
     "output_type": "stream",
     "text": [
      "/Users/mdfowler/opt/anaconda3/envs/newBase/lib/python3.8/site-packages/numpy/core/fromnumeric.py:87: RuntimeWarning: invalid value encountered in reduce\n",
      "  return ufunc.reduce(obj, axis, dtype, out, **passkwargs)\n"
     ]
    }
   ],
   "source": [
    "# Now get means for each rain/dry day classification\n",
    "classCodes = ['wWet','wDry','dWet','dDry']\n",
    "\n",
    "modelMean_SHbyClass = np.full([len(classCodes), len(stationID), 8],np.nan)\n",
    "obsMean_SHbyClass   = np.full([len(classCodes), len(stationID), 8],np.nan)\n",
    "modelMean_LHbyClass = np.full([len(classCodes), len(stationID), 8],np.nan)\n",
    "obsMean_LHbyClass   = np.full([len(classCodes), len(stationID), 8],np.nan)\n",
    "modelMean_EFbyClass = np.full([len(classCodes), len(stationID), 8],np.nan)\n",
    "obsMean_EFbyClass   = np.full([len(classCodes), len(stationID), 8],np.nan)\n",
    "\n",
    "\n",
    "for iClass in range(len(classCodes)):\n",
    "    selClass = classCodes[iClass]\n",
    "    \n",
    "    for iStation in range(len(stationID)): \n",
    "        iModelDays = np.where(dayClass_modelSel[iStation,:]==selClass)[0]\n",
    "        iObsDays   = np.where(dayClass_obsSel[iStation,:]==selClass)[0]\n",
    "        \n",
    "        # Average over those days \n",
    "        modelMean_SHbyClass[iClass,iStation,:] = np.nanmean(modelDaily_SH[iStation,iModelDays,:],axis=0)\n",
    "        obsMean_SHbyClass[iClass,iStation,:]   = np.nanmean(fluxnetDaily_SH[iStation,iObsDays,:],axis=0)\n",
    "        \n",
    "        modelMean_LHbyClass[iClass,iStation,:] = np.nanmean(modelDaily_LH[iStation,iModelDays,:],axis=0)\n",
    "        obsMean_LHbyClass[iClass,iStation,:]   = np.nanmean(fluxnetDaily_LH[iStation,iObsDays,:],axis=0)\n",
    "        \n",
    "        modelMean_EFbyClass[iClass,iStation,:] = np.nanmean(modelDaily_EF[iStation,iModelDays,:],axis=0)\n",
    "        obsMean_EFbyClass[iClass,iStation,:]   = np.nanmean(fluxnetDaily_EF[iStation,iObsDays,:],axis=0)\n",
    "\n",
    "    if (iStation % 10)==0:\n",
    "        print('Done with station %i' % iStation)\n"
   ]
  },
  {
   "cell_type": "code",
   "execution_count": 68,
   "metadata": {
    "ExecuteTime": {
     "end_time": "2021-03-02T17:46:57.008533Z",
     "start_time": "2021-03-02T17:46:57.005386Z"
    }
   },
   "outputs": [
    {
     "data": {
      "text/plain": [
       "(4, 114, 8)"
      ]
     },
     "execution_count": 68,
     "metadata": {},
     "output_type": "execute_result"
    }
   ],
   "source": [
    "np.shape(modelMean_SHbyClass)\n"
   ]
  },
  {
   "cell_type": "code",
   "execution_count": 78,
   "metadata": {
    "ExecuteTime": {
     "end_time": "2021-03-02T20:31:33.446028Z",
     "start_time": "2021-03-02T20:31:33.326300Z"
    }
   },
   "outputs": [
    {
     "data": {
      "text/plain": [
       "[<matplotlib.lines.Line2D at 0x7fd0dc307250>]"
      ]
     },
     "execution_count": 78,
     "metadata": {},
     "output_type": "execute_result"
    },
    {
     "data": {
      "image/png": "[encoded data removed]",
      "text/plain": [
       "<Figure size 432x288 with 1 Axes>"
      ]
     },
     "metadata": {
      "needs_background": "light"
     },
     "output_type": "display_data"
    }
   ],
   "source": [
    "# Test plot...\n",
    "plt.plot(np.unique(modelTimes_local[1,:].hour)[0:8], modelMean_EFbyClass[0,1,:],'*-')\n",
    "\n"
   ]
  },
  {
   "cell_type": "code",
   "execution_count": 79,
   "metadata": {
    "ExecuteTime": {
     "end_time": "2021-03-02T20:31:34.362440Z",
     "start_time": "2021-03-02T20:31:34.092120Z"
    }
   },
   "outputs": [
    {
     "name": "stderr",
     "output_type": "stream",
     "text": [
      "/Users/mdfowler/opt/anaconda3/envs/newBase/lib/python3.8/site-packages/ipykernel/ipkernel.py:287: DeprecationWarning: `should_run_async` will not call `transform_cell` automatically in the future. Please pass the result to `transformed_cell` argument and any exception that happen during thetransform in `preprocessing_exc_tuple` in IPython 7.17 and above.\n",
      "  and should_run_async(code)\n"
     ]
    }
   ],
   "source": [
    "# What does mean bias look like, averaged across stations? \n",
    "\n",
    "absBias_SHbyClass = modelMean_SHbyClass - obsMean_SHbyClass\n",
    "absBias_LHbyClass = modelMean_LHbyClass - obsMean_LHbyClass\n",
    "absBias_EFbyClass = modelMean_EFbyClass - obsMean_EFbyClass\n",
    "\n",
    "absBias_SHbyClass_24hours = np.full([4, len(stationID), 24], np.nan)\n",
    "absBias_LHbyClass_24hours = np.full([4, len(stationID), 24], np.nan)\n",
    "absBias_EFbyClass_24hours = np.full([4, len(stationID), 24], np.nan)\n",
    "model_SHbyClass_24hours   = np.full([4, len(stationID), 24], np.nan)\n",
    "model_LHbyClass_24hours   = np.full([4, len(stationID), 24], np.nan)\n",
    "model_EFbyClass_24hours   = np.full([4, len(stationID), 24], np.nan)\n",
    "obs_SHbyClass_24hours     = np.full([4, len(stationID), 24], np.nan)\n",
    "obs_LHbyClass_24hours     = np.full([4, len(stationID), 24], np.nan)\n",
    "obs_EFbyClass_24hours     = np.full([4, len(stationID), 24], np.nan)\n",
    "\n",
    "for iStation in range(len(stationID)):\n",
    "    iPlace = np.unique(modelTimes_local[iStation,:].hour)[0:8].astype(int)\n",
    "    \n",
    "    absBias_SHbyClass_24hours[:, iStation, iPlace] = absBias_SHbyClass[:,iStation,:]\n",
    "    absBias_LHbyClass_24hours[:, iStation, iPlace] = absBias_LHbyClass[:,iStation,:]\n",
    "    absBias_EFbyClass_24hours[:, iStation, iPlace] = absBias_EFbyClass[:,iStation,:]\n",
    "    \n",
    "    model_SHbyClass_24hours[:,iStation,iPlace] = modelMean_SHbyClass[:,iStation,:]\n",
    "    model_LHbyClass_24hours[:,iStation,iPlace] = modelMean_LHbyClass[:,iStation,:]\n",
    "    model_EFbyClass_24hours[:,iStation,iPlace] = modelMean_EFbyClass[:,iStation,:]\n",
    "    \n",
    "    obs_SHbyClass_24hours[:,iStation,iPlace] = obsMean_SHbyClass[:,iStation,:]\n",
    "    obs_LHbyClass_24hours[:,iStation,iPlace] = obsMean_LHbyClass[:,iStation,:]\n",
    "    obs_EFbyClass_24hours[:,iStation,iPlace] = obsMean_EFbyClass[:,iStation,:]\n",
    "    \n",
    "    \n",
    "    #plt.plot(np.unique(modelTimes_local[iStation,:].hour)[0:8], modelMean_EFbyClass[0,iStation,:],'*-')\n"
   ]
  },
  {
   "cell_type": "code",
   "execution_count": 80,
   "metadata": {
    "ExecuteTime": {
     "end_time": "2021-03-02T20:31:35.371951Z",
     "start_time": "2021-03-02T20:31:35.367270Z"
    }
   },
   "outputs": [
    {
     "data": {
      "text/plain": [
       "(4, 114, 24)"
      ]
     },
     "execution_count": 80,
     "metadata": {},
     "output_type": "execute_result"
    }
   ],
   "source": [
    "np.shape(model_LHbyClass_24hours)"
   ]
  },
  {
   "cell_type": "code",
   "execution_count": 81,
   "metadata": {
    "ExecuteTime": {
     "end_time": "2021-03-02T20:31:36.149584Z",
     "start_time": "2021-03-02T20:31:35.754482Z"
    }
   },
   "outputs": [
    {
     "data": {
      "text/plain": [
       "(-30.0, 250.0)"
      ]
     },
     "execution_count": 81,
     "metadata": {},
     "output_type": "execute_result"
    },
    {
     "data": {
      "image/png": "[encoded data removed]",
      "text/plain": [
       "<Figure size 1152x288 with 4 Axes>"
      ]
     },
     "metadata": {
      "needs_background": "light"
     },
     "output_type": "display_data"
    }
   ],
   "source": [
    "fig, axs = plt.subplots(1,4, figsize=(16, 4))\n",
    "axs = axs.ravel()\n",
    "\n",
    "axs[0].plot(np.arange(0,24,1), np.nanmean(obs_SHbyClass_24hours[0,:,:], axis=0), 'k',  label='FLUXNET')\n",
    "axs[0].plot(np.arange(0,24,1), np.nanmean(model_SHbyClass_24hours[0,:,:], axis=0),'r', label='CESM2')\n",
    "axs[0].set_title('Mean SH:\\n'+classCodes[0]+' Days',fontsize=14)\n",
    "axs[0].legend()\n",
    "axs[0].set_xlabel('Hour (local)')\n",
    "axs[0].set_ylabel('SHFLX [W/m2]')\n",
    "\n",
    "axs[1].plot(np.arange(0,24,1), np.nanmean(obs_SHbyClass_24hours[1,:,:], axis=0), 'k',  label='FLUXNET')\n",
    "axs[1].plot(np.arange(0,24,1), np.nanmean(model_SHbyClass_24hours[1,:,:], axis=0),'r', label='CESM2')\n",
    "axs[1].set_title('Mean SH:\\n'+classCodes[1]+' Days',fontsize=14)\n",
    "axs[1].legend()\n",
    "axs[1].set_xlabel('Hour (local)')\n",
    "\n",
    "axs[2].plot(np.arange(0,24,1), np.nanmean(obs_SHbyClass_24hours[2,:,:], axis=0), 'k',  label='FLUXNET')\n",
    "axs[2].plot(np.arange(0,24,1), np.nanmean(model_SHbyClass_24hours[2,:,:], axis=0),'r', label='CESM2')\n",
    "axs[2].set_title('Mean SH:\\n'+classCodes[2]+' Days',fontsize=14)\n",
    "axs[2].legend()\n",
    "axs[2].set_xlabel('Hour (local)')\n",
    "\n",
    "axs[3].plot(np.arange(0,24,1), np.nanmean(obs_SHbyClass_24hours[3,:,:], axis=0), 'k',  label='FLUXNET')\n",
    "axs[3].plot(np.arange(0,24,1), np.nanmean(model_SHbyClass_24hours[3,:,:], axis=0),'r', label='CESM2')\n",
    "axs[3].set_title('Mean SH:\\n'+classCodes[3]+' Days',fontsize=14)\n",
    "axs[3].legend()\n",
    "axs[3].set_xlabel('Hour (local)')\n",
    "\n",
    "# Set y-axis limits\n",
    "axs[0].set_ylim([-30,250])\n",
    "axs[1].set_ylim([-30,250])\n",
    "axs[2].set_ylim([-30,250])\n",
    "axs[3].set_ylim([-30,250])\n"
   ]
  },
  {
   "cell_type": "code",
   "execution_count": 84,
   "metadata": {
    "ExecuteTime": {
     "end_time": "2021-03-02T20:32:48.066547Z",
     "start_time": "2021-03-02T20:32:47.639368Z"
    }
   },
   "outputs": [
    {
     "data": {
      "text/plain": [
       "(-10.0, 200.0)"
      ]
     },
     "execution_count": 84,
     "metadata": {},
     "output_type": "execute_result"
    },
    {
     "data": {
      "image/png": "[encoded data removed]",
      "text/plain": [
       "<Figure size 1152x288 with 4 Axes>"
      ]
     },
     "metadata": {
      "needs_background": "light"
     },
     "output_type": "display_data"
    }
   ],
   "source": [
    "fig, axs = plt.subplots(1,4, figsize=(16, 4))\n",
    "axs = axs.ravel()\n",
    "\n",
    "axs[0].plot(np.arange(0,24,1), np.nanmean(obs_LHbyClass_24hours[0,:,:], axis=0), 'k',  label='FLUXNET')\n",
    "axs[0].plot(np.arange(0,24,1), np.nanmean(model_LHbyClass_24hours[0,:,:], axis=0),'r', label='CESM2')\n",
    "axs[0].set_title('Mean LH:\\n'+classCodes[0]+' Days',fontsize=14)\n",
    "axs[0].legend()\n",
    "axs[0].set_xlabel('Hour (local)')\n",
    "axs[0].set_ylabel('LHFLX [W/m2]')\n",
    "\n",
    "axs[1].plot(np.arange(0,24,1), np.nanmean(obs_LHbyClass_24hours[1,:,:], axis=0), 'k',  label='FLUXNET')\n",
    "axs[1].plot(np.arange(0,24,1), np.nanmean(model_LHbyClass_24hours[1,:,:], axis=0),'r', label='CESM2')\n",
    "axs[1].set_title('Mean LH:\\n'+classCodes[1]+' Days',fontsize=14)\n",
    "axs[1].legend()\n",
    "axs[1].set_xlabel('Hour (local)')\n",
    "\n",
    "axs[2].plot(np.arange(0,24,1), np.nanmean(obs_LHbyClass_24hours[2,:,:], axis=0), 'k',  label='FLUXNET')\n",
    "axs[2].plot(np.arange(0,24,1), np.nanmean(model_LHbyClass_24hours[2,:,:], axis=0),'r', label='CESM2')\n",
    "axs[2].set_title('Mean LH:\\n'+classCodes[2]+' Days',fontsize=14)\n",
    "axs[2].legend()\n",
    "axs[2].set_xlabel('Hour (local)')\n",
    "\n",
    "axs[3].plot(np.arange(0,24,1), np.nanmean(obs_LHbyClass_24hours[3,:,:], axis=0), 'k',  label='FLUXNET')\n",
    "axs[3].plot(np.arange(0,24,1), np.nanmean(model_LHbyClass_24hours[3,:,:], axis=0),'r', label='CESM2')\n",
    "axs[3].set_title('Mean SLH:\\n'+classCodes[3]+' Days',fontsize=14)\n",
    "axs[3].legend()\n",
    "axs[3].set_xlabel('Hour (local)')\n",
    "\n",
    "# Set y-axis limits\n",
    "axs[0].set_ylim([-10,200])\n",
    "axs[1].set_ylim([-10,200])\n",
    "axs[2].set_ylim([-10,200])\n",
    "axs[3].set_ylim([-10,200])\n",
    "\n"
   ]
  },
  {
   "cell_type": "code",
   "execution_count": 85,
   "metadata": {
    "ExecuteTime": {
     "end_time": "2021-03-02T20:32:53.059799Z",
     "start_time": "2021-03-02T20:32:52.634249Z"
    }
   },
   "outputs": [
    {
     "name": "stderr",
     "output_type": "stream",
     "text": [
      "/Users/mdfowler/opt/anaconda3/envs/newBase/lib/python3.8/site-packages/ipykernel/ipkernel.py:287: DeprecationWarning: `should_run_async` will not call `transform_cell` automatically in the future. Please pass the result to `transformed_cell` argument and any exception that happen during thetransform in `preprocessing_exc_tuple` in IPython 7.17 and above.\n",
      "  and should_run_async(code)\n",
      "/Users/mdfowler/opt/anaconda3/envs/newBase/lib/python3.8/site-packages/numpy/core/fromnumeric.py:87: RuntimeWarning: invalid value encountered in reduce\n",
      "  return ufunc.reduce(obj, axis, dtype, out, **passkwargs)\n",
      "/Users/mdfowler/opt/anaconda3/envs/newBase/lib/python3.8/site-packages/numpy/core/fromnumeric.py:87: RuntimeWarning: invalid value encountered in reduce\n",
      "  return ufunc.reduce(obj, axis, dtype, out, **passkwargs)\n",
      "/Users/mdfowler/opt/anaconda3/envs/newBase/lib/python3.8/site-packages/numpy/core/fromnumeric.py:87: RuntimeWarning: invalid value encountered in reduce\n",
      "  return ufunc.reduce(obj, axis, dtype, out, **passkwargs)\n"
     ]
    },
    {
     "data": {
      "text/plain": [
       "(-10.0, 10.0)"
      ]
     },
     "execution_count": 85,
     "metadata": {},
     "output_type": "execute_result"
    },
    {
     "data": {
      "image/png": "[encoded data removed]",
      "text/plain": [
       "<Figure size 1152x288 with 4 Axes>"
      ]
     },
     "metadata": {
      "needs_background": "light"
     },
     "output_type": "display_data"
    }
   ],
   "source": [
    "fig, axs = plt.subplots(1,4, figsize=(16, 4))\n",
    "axs = axs.ravel()\n",
    "\n",
    "axs[0].plot(np.arange(0,24,1), np.nanmean(obs_EFbyClass_24hours[0,:,:], axis=0), 'k',  label='FLUXNET')\n",
    "axs[0].plot(np.arange(0,24,1), np.nanmean(model_EFbyClass_24hours[0,:,:], axis=0),'r', label='CESM2')\n",
    "axs[0].set_title('Mean EF:\\n'+classCodes[0]+' Days',fontsize=14)\n",
    "axs[0].legend()\n",
    "axs[0].set_xlabel('Hour (local)')\n",
    "axs[0].set_ylabel('EF')\n",
    "\n",
    "axs[1].plot(np.arange(0,24,1), np.nanmean(obs_EFbyClass_24hours[1,:,:], axis=0), 'k',  label='FLUXNET')\n",
    "axs[1].plot(np.arange(0,24,1), np.nanmean(model_EFbyClass_24hours[1,:,:], axis=0),'r', label='CESM2')\n",
    "axs[1].set_title('Mean EF:\\n'+classCodes[1]+' Days',fontsize=14)\n",
    "axs[1].legend()\n",
    "axs[1].set_xlabel('Hour (local)')\n",
    "\n",
    "axs[2].plot(np.arange(0,24,1), np.nanmean(obs_EFbyClass_24hours[2,:,:], axis=0), 'k',  label='FLUXNET')\n",
    "axs[2].plot(np.arange(0,24,1), np.nanmean(model_EFbyClass_24hours[2,:,:], axis=0),'r', label='CESM2')\n",
    "axs[2].set_title('Mean EF:\\n'+classCodes[2]+' Days',fontsize=14)\n",
    "axs[2].legend()\n",
    "axs[2].set_xlabel('Hour (local)')\n",
    "\n",
    "axs[3].plot(np.arange(0,24,1), np.nanmean(obs_EFbyClass_24hours[3,:,:], axis=0), 'k',  label='FLUXNET')\n",
    "axs[3].plot(np.arange(0,24,1), np.nanmean(model_EFbyClass_24hours[3,:,:], axis=0),'r', label='CESM2')\n",
    "axs[3].set_title('Mean EF:\\n'+classCodes[3]+' Days',fontsize=14)\n",
    "axs[3].legend()\n",
    "axs[3].set_xlabel('Hour (local)')\n",
    "\n",
    "# Set y-axis limits\n",
    "axs[0].set_ylim([-10,10])\n",
    "axs[1].set_ylim([-10,10])\n",
    "axs[2].set_ylim([-10,10])\n",
    "axs[3].set_ylim([-10,10])\n",
    "\n",
    "\n"
   ]
  },
  {
   "cell_type": "code",
   "execution_count": 86,
   "metadata": {
    "ExecuteTime": {
     "end_time": "2021-03-02T20:35:26.755689Z",
     "start_time": "2021-03-02T20:35:26.555654Z"
    }
   },
   "outputs": [
    {
     "name": "stderr",
     "output_type": "stream",
     "text": [
      "/Users/mdfowler/opt/anaconda3/envs/newBase/lib/python3.8/site-packages/ipykernel/ipkernel.py:287: DeprecationWarning: `should_run_async` will not call `transform_cell` automatically in the future. Please pass the result to `transformed_cell` argument and any exception that happen during thetransform in `preprocessing_exc_tuple` in IPython 7.17 and above.\n",
      "  and should_run_async(code)\n"
     ]
    },
    {
     "data": {
      "text/plain": [
       "Text(0.5, 0, 'Hour (local)')"
      ]
     },
     "execution_count": 86,
     "metadata": {},
     "output_type": "execute_result"
    },
    {
     "data": {
      "image/png": "[encoded data removed]",
      "text/plain": [
       "<Figure size 576x432 with 1 Axes>"
      ]
     },
     "metadata": {
      "needs_background": "light"
     },
     "output_type": "display_data"
    }
   ],
   "source": [
    "fig, ax1 = plt.subplots(1,1, figsize=(8, 6))\n",
    "\n",
    "ax1.plot(np.arange(0,24,1), np.nanmean(absBias_SHbyClass_24hours[0,:,:], axis=0), label=classCodes[0])\n",
    "ax1.plot(np.arange(0,24,1), np.nanmean(absBias_SHbyClass_24hours[1,:,:], axis=0), label=classCodes[1])\n",
    "ax1.plot(np.arange(0,24,1), np.nanmean(absBias_SHbyClass_24hours[2,:,:], axis=0), label=classCodes[2])\n",
    "ax1.plot(np.arange(0,24,1), np.nanmean(absBias_SHbyClass_24hours[3,:,:], axis=0), label=classCodes[3])\n",
    "\n",
    "ax1.legend()\n",
    "ax1.axhline(0,color='gray')\n",
    "ax1.set_title('Diurnal cycle of absolute SHFLX Bias (model-obs)')\n",
    "ax1.set_ylabel('Bias [W/m2]')\n",
    "ax1.set_xlabel('Hour (local)')\n"
   ]
  },
  {
   "cell_type": "code",
   "execution_count": 88,
   "metadata": {
    "ExecuteTime": {
     "end_time": "2021-03-02T20:35:53.684897Z",
     "start_time": "2021-03-02T20:35:53.510326Z"
    }
   },
   "outputs": [
    {
     "name": "stderr",
     "output_type": "stream",
     "text": [
      "/Users/mdfowler/opt/anaconda3/envs/newBase/lib/python3.8/site-packages/ipykernel/ipkernel.py:287: DeprecationWarning: `should_run_async` will not call `transform_cell` automatically in the future. Please pass the result to `transformed_cell` argument and any exception that happen during thetransform in `preprocessing_exc_tuple` in IPython 7.17 and above.\n",
      "  and should_run_async(code)\n"
     ]
    },
    {
     "data": {
      "text/plain": [
       "Text(0.5, 0, 'Hour (local)')"
      ]
     },
     "execution_count": 88,
     "metadata": {},
     "output_type": "execute_result"
    },
    {
     "data": {
      "image/png": "[encoded data removed]",
      "text/plain": [
       "<Figure size 576x432 with 1 Axes>"
      ]
     },
     "metadata": {
      "needs_background": "light"
     },
     "output_type": "display_data"
    }
   ],
   "source": [
    "fig, ax1 = plt.subplots(1,1, figsize=(8, 6))\n",
    "\n",
    "ax1.plot(np.arange(0,24,1), np.nanmean(absBias_LHbyClass_24hours[0,:,:], axis=0), label=classCodes[0])\n",
    "ax1.plot(np.arange(0,24,1), np.nanmean(absBias_LHbyClass_24hours[1,:,:], axis=0), label=classCodes[1])\n",
    "ax1.plot(np.arange(0,24,1), np.nanmean(absBias_LHbyClass_24hours[2,:,:], axis=0), label=classCodes[2])\n",
    "ax1.plot(np.arange(0,24,1), np.nanmean(absBias_LHbyClass_24hours[3,:,:], axis=0), label=classCodes[3])\n",
    "\n",
    "ax1.legend()\n",
    "ax1.axhline(0,color='gray')\n",
    "ax1.set_title('Diurnal cycle of absolute LHFLX Bias (model-obs)')\n",
    "ax1.set_ylabel('Bias [W/m2]')\n",
    "ax1.set_xlabel('Hour (local)')\n",
    "\n"
   ]
  },
  {
   "cell_type": "code",
   "execution_count": 89,
   "metadata": {
    "ExecuteTime": {
     "end_time": "2021-03-02T20:39:38.385262Z",
     "start_time": "2021-03-02T20:39:38.222900Z"
    }
   },
   "outputs": [
    {
     "name": "stderr",
     "output_type": "stream",
     "text": [
      "/Users/mdfowler/opt/anaconda3/envs/newBase/lib/python3.8/site-packages/ipykernel/ipkernel.py:287: DeprecationWarning: `should_run_async` will not call `transform_cell` automatically in the future. Please pass the result to `transformed_cell` argument and any exception that happen during thetransform in `preprocessing_exc_tuple` in IPython 7.17 and above.\n",
      "  and should_run_async(code)\n",
      "/Users/mdfowler/opt/anaconda3/envs/newBase/lib/python3.8/site-packages/numpy/core/fromnumeric.py:87: RuntimeWarning: invalid value encountered in reduce\n",
      "  return ufunc.reduce(obj, axis, dtype, out, **passkwargs)\n",
      "/Users/mdfowler/opt/anaconda3/envs/newBase/lib/python3.8/site-packages/numpy/core/fromnumeric.py:87: RuntimeWarning: invalid value encountered in reduce\n",
      "  return ufunc.reduce(obj, axis, dtype, out, **passkwargs)\n",
      "/Users/mdfowler/opt/anaconda3/envs/newBase/lib/python3.8/site-packages/numpy/core/fromnumeric.py:87: RuntimeWarning: invalid value encountered in reduce\n",
      "  return ufunc.reduce(obj, axis, dtype, out, **passkwargs)\n"
     ]
    },
    {
     "data": {
      "text/plain": [
       "(0.0, 100.0)"
      ]
     },
     "execution_count": 89,
     "metadata": {},
     "output_type": "execute_result"
    },
    {
     "data": {
      "image/png": "[encoded data removed]",
      "text/plain": [
       "<Figure size 576x432 with 1 Axes>"
      ]
     },
     "metadata": {
      "needs_background": "light"
     },
     "output_type": "display_data"
    }
   ],
   "source": [
    "fig, ax1 = plt.subplots(1,1, figsize=(8, 6))\n",
    "\n",
    "ax1.plot(np.arange(0,24,1), np.nanmean(absBias_EFbyClass_24hours[0,:,:], axis=0), label=classCodes[0])\n",
    "ax1.plot(np.arange(0,24,1), np.nanmean(absBias_EFbyClass_24hours[1,:,:], axis=0), label=classCodes[1])\n",
    "ax1.plot(np.arange(0,24,1), np.nanmean(absBias_EFbyClass_24hours[2,:,:], axis=0), label=classCodes[2])\n",
    "ax1.plot(np.arange(0,24,1), np.nanmean(absBias_EFbyClass_24hours[3,:,:], axis=0), label=classCodes[3])\n",
    "\n",
    "ax1.legend()\n",
    "ax1.axhline(0,color='gray')\n",
    "ax1.set_title('Diurnal cycle of absolute EF bias (model-obs)')\n",
    "ax1.set_ylabel('Bias [W/m2]')\n",
    "ax1.set_xlabel('Hour (local)')\n",
    "ax1.set_ylim([0,100])\n"
   ]
  },
  {
   "cell_type": "code",
   "execution_count": null,
   "metadata": {},
   "outputs": [],
   "source": []
  }
 ],
 "metadata": {
  "kernelspec": {
   "display_name": "Python 3",
   "language": "python",
   "name": "python3"
  },
  "language_info": {
   "codemirror_mode": {
    "name": "ipython",
    "version": 3
   },
   "file_extension": ".py",
   "mimetype": "text/x-python",
   "name": "python",
   "nbconvert_exporter": "python",
   "pygments_lexer": "ipython3",
   "version": "3.8.8"
  }
 },
 "nbformat": 4,
 "nbformat_minor": 4
}
