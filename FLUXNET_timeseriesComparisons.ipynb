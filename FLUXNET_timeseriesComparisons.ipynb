{
 "cells": [
  {
   "cell_type": "markdown",
   "metadata": {},
   "source": [
    "## As we've been digging in to try and understand the correlation coefficients between surface fluxes and mean wind speeds/variances, it's come up that it might be better to try looking at individual sites and timeseries. \n",
    "So this will involve FLUXNET sites in particular to try and get a feel for which synoptic conditions are really hard for the model to get right, and/or which ones tend to lead to negative vs. positive correlations between wind speeds and surface fluxes. <br><br>\n",
    "<b>Date:</b> 3 Dec 2020"
   ]
  },
  {
   "cell_type": "code",
   "execution_count": 1,
   "metadata": {},
   "outputs": [],
   "source": [
    "# Load libraries\n",
    "\n",
    "# Plotting utils \n",
    "import matplotlib.pyplot as plt \n",
    "import matplotlib.colors as colors\n",
    "import matplotlib.ticker as ticker \n",
    "import matplotlib.patches as patches\n",
    "import matplotlib.animation as animation\n",
    "import matplotlib as matplotlib\n",
    "import cartopy\n",
    "import cartopy.feature as cfeature\n",
    "import cartopy.crs as ccrs\n",
    "import cartopy.util\n",
    "\n",
    "# Analysis\n",
    "import os\n",
    "import numpy as np \n",
    "import xarray as xr\n",
    "import datetime\n",
    "from   datetime import date, timedelta\n",
    "import pandas as pd \n",
    "#import regionmask\n",
    "import pickle\n",
    "import scipy.stats as stats\n",
    "import glob\n"
   ]
  },
  {
   "cell_type": "markdown",
   "metadata": {},
   "source": [
    "## 1. Read in FLUXNET data (and filter out a few stations based on length of record)"
   ]
  },
  {
   "cell_type": "code",
   "execution_count": 2,
   "metadata": {},
   "outputs": [
    {
     "name": "stdout",
     "output_type": "stream",
     "text": [
      "Available site characteristics (metadata) include: \n",
      "\n",
      " ['SITE_ID' 'SITE_NAME' 'FLUXNET2015' 'FLUXNET-CH4' 'LOCATION_LAT'\n",
      " 'LOCATION_LONG' 'LOCATION_ELEV' 'IGBP' 'MAT' 'MAP'] \n",
      "\n"
     ]
    }
   ],
   "source": [
    "# --------------------------------------\n",
    "# Define data directory: \n",
    "# --------------------------------------\n",
    "fluxnetDir   = '/Users/mdfowler/Documents/Analysis/Coupling_initial/data/FLUXNET2015/'\n",
    "\n",
    "# --------------------------------------\n",
    "# Get general site info\n",
    "# --------------------------------------\n",
    "siteInfoFile = fluxnetDir+'SiteList.csv'\n",
    "# Now read that CSV file into a pandas dataframe \n",
    "siteInfoDF = pd.read_csv(siteInfoFile)\n",
    "\n",
    "# Print out information available:\n",
    "print('Available site characteristics (metadata) include: \\n\\n', siteInfoDF.columns.values, '\\n')\n",
    "\n",
    "# --------------------------------------\n",
    "# And read in metadata for good measure\n",
    "# --------------------------------------\n",
    "metadataFile = fluxnetDir+'FLX_AA-Flx_BIF_ALL_20200501/FLX_AA-Flx_BIF_DD_20200501.xlsx'\n",
    "\n",
    "# Read in that file \n",
    "metadataDF = pd.read_excel(metadataFile)\n"
   ]
  },
  {
   "cell_type": "code",
   "execution_count": 3,
   "metadata": {},
   "outputs": [],
   "source": [
    "# --------------------------------------\n",
    "# Get a list of all fluxnet data files\n",
    "# --------------------------------------\n",
    "dataFiles = glob.glob(fluxnetDir + 'FLX_*/*SUBSET_DD*')\n"
   ]
  },
  {
   "cell_type": "code",
   "execution_count": 4,
   "metadata": {},
   "outputs": [],
   "source": [
    "# ------------------------------------------\n",
    "# Define a function to read in FLUXNET data \n",
    "# ------------------------------------------\n",
    "\n",
    "# --------------------------------------------------------\n",
    "# Function to read requested variables from FLUXNET file. \n",
    "# - - - - - - - - - - - - - - - - - - - - - - - - - - - - \n",
    "# \n",
    "# Inputs:  fileName --> Full path to FLUXNET data file \n",
    "#          varNames --> An array of variable names to be \n",
    "#                       retrieved from said data file. \n",
    "#                       NOTE: If you wish to retrieve *all* \n",
    "#                       variables, pass the string 'ALL'. \n",
    "#          Note: varInfo found here\n",
    "#                https://fluxnet.org/data/fluxnet2015-dataset/subset-data-product/\n",
    "#  \n",
    "# Outputs: fluxnetID --> ID string used to identify station\n",
    "#          fluxnetDS --> An x-array dataset containing the \n",
    "#                        requested variables.\n",
    "#                        Missing values will be set to NaN. \n",
    "# \n",
    "# --------------------------------------------------------\n",
    "\n",
    "def readFLUXNET_var(fileName, varNames): \n",
    "    # Get ID of station \n",
    "    startID   = fileName.find('FLX_')\n",
    "    fluxnetID = fileName[startID+4:startID+10]\n",
    "    \n",
    "    # print('Reading in site - ', fluxnetID)\n",
    "    \n",
    "    # Read in CSV file containing data \n",
    "    dataDF = pd.read_csv(fileName)\n",
    "    \n",
    "    # Return ALL variables from dataDF if requested\n",
    "    if varNames=='ALL':\n",
    "        fluxnetDF = dataDF\n",
    "        \n",
    "        # Set any value that's missing to NaN (not -999)\n",
    "        fluxnetDF = fluxnetDF.replace(-9999, np.nan)\n",
    "\n",
    "        \n",
    "        # If time has been requested, reformat to pandas make index\n",
    "        fluxnetDF['TIMESTAMP'] = pd.to_datetime(fluxnetDF['TIMESTAMP'].values, format='%Y%m%d')\n",
    "        fluxnetDF = fluxnetDF.set_index(['TIMESTAMP'])\n",
    "        \n",
    "        # Convert dataframe to Xarray Dataset (required to use coupling metrics toolbox)\n",
    "        fluxnetDS = fluxnetDF.to_xarray()\n",
    "            \n",
    "    # Reduce returned DF to contain only variables of interest  \n",
    "    else:\n",
    "        \n",
    "        # Check that requested variables are available in specific file\n",
    "        errCount = 0                       # Initialize flag for error \n",
    "        colNames = dataDF.columns.values   # Available variables in file \n",
    "        \n",
    "        for iVar in range(len(varNames)):  # Check each variable individually\n",
    "            if (varNames[iVar] in colNames)==False:\n",
    "                # Turn on print statement for more verbose output\n",
    "                # print('** ERROR: %13s   not contained in file for %8s  **' %(varNames[iVar], fluxnetID))\n",
    "                \n",
    "                # If any variable is not conatined in file, return a NaN \n",
    "                fluxnetDS = -999\n",
    "                errCount  = errCount+1\n",
    "                \n",
    "        # If all the variables *are* available, isolate those in DF and return that\n",
    "        if errCount == 0: \n",
    "            fluxnetDF = dataDF[varNames]\n",
    "            \n",
    "            # Set any value that's missing to NaN (not -999)\n",
    "            fluxnetDF = fluxnetDF.replace(-9999, np.nan)\n",
    "            \n",
    "            # If time has been requested, reformat to pandas make index\n",
    "            if ('TIMESTAMP' in varNames)==True:\n",
    "                fluxnetDF['TIMESTAMP'] = pd.to_datetime(fluxnetDF['TIMESTAMP'].values, format='%Y%m%d')\n",
    "                fluxnetDF = fluxnetDF.set_index(['TIMESTAMP'])\n",
    "        \n",
    "            # Convert dataframe to Xarray Dataset (required to use coupling metrics toolbox)\n",
    "            fluxnetDS = fluxnetDF.to_xarray()\n",
    "    \n",
    "    return(fluxnetID, fluxnetDS)\n"
   ]
  },
  {
   "cell_type": "markdown",
   "metadata": {},
   "source": [
    "### 1.1 First find out total period spanned by FLUXNET data \n",
    "This will help define empty arrays that can be filled properly for each station individually, leaving NaNs on days that don't have data per station. "
   ]
  },
  {
   "cell_type": "code",
   "execution_count": 69,
   "metadata": {
    "scrolled": true
   },
   "outputs": [],
   "source": [
    "# Define emtpy arrays to save stuff into \n",
    "startTime_fluxnet = np.full([len(dataFiles)], np.nan)\n",
    "endTime_fluxnet   = np.full([len(dataFiles)], np.nan)\n",
    "nMonths_fluxnet   = np.full([len(dataFiles)], np.nan)\n",
    "# allStationID      = np.empty([len(dataFiles)]).astype(str)\n",
    "\n",
    "# Variables I want returned:\n",
    "varNames = ['TIMESTAMP','H_F_MDS','LE_F_MDS','WS_F','P_F','PA_F','TA_F']\n",
    "\n",
    "# Loop over each station (data file)\n",
    "for iStation in range(len(dataFiles)): \n",
    "    \n",
    "    # Read in data \n",
    "    # ----------------------------------------------------------\n",
    "    fluxnetID,fluxnetDS = readFLUXNET_var(dataFiles[iStation], varNames)\n",
    "#     allStationID[iStation] = fluxnetID\n",
    "    \n",
    "    # Save lat and lon for this station \n",
    "    # ----------------------------------------------------------\n",
    "    indStation  = np.where(fluxnetID==siteInfoDF['SITE_ID'])\n",
    "    lat_fluxnet = siteInfoDF['LOCATION_LAT'].values[indStation]\n",
    "    lon_fluxnet = siteInfoDF['LOCATION_LONG'].values[indStation]\n",
    "    \n",
    "    # Check that there was data saved for this particular site: \n",
    "    # ----------------------------------------------------------\n",
    "    if (type(fluxnetDS)==int):\n",
    "        print('No data for station: %8s' % fluxnetID)\n",
    "    \n",
    "    elif ( (np.all(np.isnan(fluxnetDS['H_F_MDS']))==True) | (np.all(np.isnan(fluxnetDS['WS_F']))==True) | (np.all(np.isnan(fluxnetDS['LE_F_MDS']))==True) ):\n",
    "        print('No data for station: %8s' % fluxnetID)\n",
    "        \n",
    "    # If data is present: \n",
    "    # ----------------------------------------------------------\n",
    "    else:        \n",
    "        # Only consider where data is actually present for selected vars\n",
    "        iReal      = np.where((np.isfinite(fluxnetDS['LE_F_MDS'])==True) & \n",
    "                              (np.isfinite(fluxnetDS['H_F_MDS'])==True) & \n",
    "                              (np.isfinite(fluxnetDS['WS_F'])==True) & \n",
    "                              (np.isfinite(fluxnetDS['P_F'])==True) &\n",
    "                              (np.isfinite(fluxnetDS['PA_F'])==True) &   \n",
    "                              (np.isfinite(fluxnetDS['TA_F'])==True))[0]\n",
    "        fluxnetDS  = fluxnetDS.isel(TIMESTAMP=iReal)\n",
    "        \n",
    "        # Check how long data is available for and isolate JJA \n",
    "        # -----------------------------------------------------------\n",
    "        startTime_fluxnet[iStation]  = fluxnetDS['TIMESTAMP'].values[0]\n",
    "        endTime_fluxnet[iStation]    = fluxnetDS['TIMESTAMP'].values[-1]\n",
    "        \n",
    "        dateRange = pd.date_range(start=startTime_fluxnet[iStation],end=endTime_fluxnet[iStation],freq='M')\n",
    "        nMonths_fluxnet[iStation] = len(dateRange)\n",
    "        "
   ]
  },
  {
   "cell_type": "code",
   "execution_count": 71,
   "metadata": {},
   "outputs": [
    {
     "name": "stdout",
     "output_type": "stream",
     "text": [
      "Number of stations with at least 5 years of data:  116\n",
      "\n",
      "Looking at every station available...\n",
      "Earliest start of data:     1991-01-01 00:00:00\n",
      "Latest end of data:         2014-12-31 00:00:00\n",
      "\n",
      "Of stations with at least 5 years of data...\n",
      "Earliest start of data:     1991-01-01 00:00:00\n",
      "Latest end of data:         2014-12-31 00:00:00\n"
     ]
    }
   ],
   "source": [
    "# Check how many/which stations have enough years of data to be used, then\n",
    "#    print some useful information on all that and \n",
    "\n",
    "iMinStart = np.where(startTime_fluxnet==np.nanmin(startTime_fluxnet))[0]\n",
    "iMaxEnd   = np.where(endTime_fluxnet==np.nanmax(endTime_fluxnet))[0]\n",
    "\n",
    "limYears = 5 \n",
    "iStation_limYears = np.where(nMonths_fluxnet>=limYears*12)[0]\n",
    "\n",
    "print('Number of stations with at least 5 years of data: ', len(iStation_limYears))\n",
    "print()\n",
    "\n",
    "print('Looking at every station available...')\n",
    "print('Earliest start of data:    ', pd.DatetimeIndex(startTime_fluxnet[iMinStart])[0] )\n",
    "print('Latest end of data:        ', pd.DatetimeIndex(endTime_fluxnet[iMaxEnd])[0] )\n",
    "\n",
    "print()\n",
    "del iMinStart\n",
    "del iMaxEnd\n",
    "\n",
    "startTime_fluxnet_sel = startTime_fluxnet[iStation_limYears]\n",
    "endTime_fluxnet_sel   = endTime_fluxnet[iStation_limYears]\n",
    "\n",
    "iMinStart = np.where(startTime_fluxnet_sel==np.nanmin(startTime_fluxnet_sel))[0]\n",
    "iMaxEnd   = np.where(endTime_fluxnet_sel==np.nanmax(endTime_fluxnet_sel))[0]\n",
    "print('Of stations with at least 5 years of data...')\n",
    "print('Earliest start of data:    ', pd.DatetimeIndex(startTime_fluxnet_sel[iMinStart])[0] )\n",
    "print('Latest end of data:        ', pd.DatetimeIndex(endTime_fluxnet_sel[iMaxEnd])[0] )\n"
   ]
  },
  {
   "cell_type": "code",
   "execution_count": 83,
   "metadata": {},
   "outputs": [
    {
     "name": "stdout",
     "output_type": "stream",
     "text": [
      "Max number of days:  8766\n"
     ]
    }
   ],
   "source": [
    "# So let's filter stations to use just the ones that have at least 5 years of data \n",
    "#    (or whatever the limYears threshold is set to above...)\n",
    "dataFiles_filter = np.squeeze(dataFiles)[iStation_limYears]\n",
    "\n",
    "# Let's also figure out just how many days we'll need to create empty arrays for \n",
    "dayRange = pd.date_range(start=pd.DatetimeIndex(startTime_fluxnet_sel[iMinStart])[0],\n",
    "                         end=pd.DatetimeIndex(endTime_fluxnet_sel[iMaxEnd])[0],\n",
    "                         freq='D')\n",
    "nDays = len(dayRange)\n",
    "\n",
    "print('Max number of days: ', nDays)"
   ]
  },
  {
   "cell_type": "markdown",
   "metadata": {},
   "source": [
    "### 1.2 Now read in and save data for each individual tower site"
   ]
  },
  {
   "cell_type": "code",
   "execution_count": 84,
   "metadata": {},
   "outputs": [],
   "source": [
    "# Define emtpy arrays to save stuff into \n",
    "lat_fluxnet     = np.full([len(dataFiles_filter)], np.nan)\n",
    "lon_fluxnet     = np.full([len(dataFiles_filter)], np.nan)\n",
    "stationID       = np.empty([len(dataFiles_filter)]).astype(str)\n",
    "fluxnet_SH      = np.full([len(dataFiles_filter), nDays], np.nan)    # H_F_MDS  [W/m2]\n",
    "fluxnet_LH      = np.full([len(dataFiles_filter), nDays], np.nan)    # LE_F_MDS [W/m2] \n",
    "fluxnet_spd     = np.full([len(dataFiles_filter), nDays], np.nan)    # WS_F     [m/s]\n",
    "fluxnet_precip  = np.full([len(dataFiles_filter), nDays], np.nan)    # P_F      [mm/day - summed from half/hourly for daily data]\n",
    "fluxnet_pressr  = np.full([len(dataFiles_filter), nDays], np.nan)    # PA_F     [kPa] -- seriously? kPa? \n",
    "fluxnet_temp    = np.full([len(dataFiles_filter), nDays], np.nan)    # TA_F     [deg C]\n",
    "\n",
    "# Variables I want returned:\n",
    "varNames = ['TIMESTAMP','H_F_MDS','LE_F_MDS','WS_F','P_F','PA_F','TA_F']\n",
    "\n",
    "# Loop over each station (data file)\n",
    "for iStation in range(len(dataFiles_filter)):\n",
    "    \n",
    "    # Read in data \n",
    "    # ----------------------------------------------------------\n",
    "    fluxnetID,fluxnetDS = readFLUXNET_var(dataFiles_filter[iStation], varNames)\n",
    "    \n",
    "    # Save lat and lon for this station \n",
    "    # ----------------------------------------------------------\n",
    "    indStation            = np.where(fluxnetID==siteInfoDF['SITE_ID'])\n",
    "    lat_fluxnet[iStation] = siteInfoDF['LOCATION_LAT'].values[indStation]\n",
    "    lon_fluxnet[iStation] = siteInfoDF['LOCATION_LONG'].values[indStation]\n",
    "    stationID[iStation]   = fluxnetID\n",
    "    \n",
    "    # Check that there was data saved for this particular site: \n",
    "    # ----------------------------------------------------------\n",
    "    if (type(fluxnetDS)==int):\n",
    "        print('No data for station: %8s' % fluxnetID)\n",
    "    \n",
    "    elif ( (np.all(np.isnan(fluxnetDS['H_F_MDS']))==True) | (np.all(np.isnan(fluxnetDS['WS_F']))==True) | (np.all(np.isnan(fluxnetDS['LE_F_MDS']))==True) ):\n",
    "        print('No data for station: %8s' % fluxnetID)\n",
    "        \n",
    "    # If data is present: \n",
    "    # ----------------------------------------------------------\n",
    "    else:        \n",
    "        # Only consider where data is actually present for selected vars\n",
    "        iReal      = np.where((np.isfinite(fluxnetDS['LE_F_MDS'])==True) & \n",
    "                              (np.isfinite(fluxnetDS['H_F_MDS'])==True) & \n",
    "                              (np.isfinite(fluxnetDS['WS_F'])==True) & \n",
    "                              (np.isfinite(fluxnetDS['P_F'])==True) &\n",
    "                              (np.isfinite(fluxnetDS['PA_F'])==True) &   \n",
    "                              (np.isfinite(fluxnetDS['TA_F'])==True))[0]\n",
    "        fluxnetDS  = fluxnetDS.isel(TIMESTAMP=iReal)\n",
    " \n",
    "        \n",
    "        # Check where to save data in time arrays \n",
    "        # -----------------------------------------------------------\n",
    "        startTime_fluxnet = pd.DatetimeIndex(fluxnetDS['TIMESTAMP'].values)[0]\n",
    "        endTime_fluxnet   = pd.DatetimeIndex(fluxnetDS['TIMESTAMP'].values)[-1]\n",
    "        \n",
    "        iTime_start = int(np.where(startTime_fluxnet==dayRange)[0])\n",
    "        iTime_end   = int(np.where(endTime_fluxnet==dayRange)[0])\n",
    "       \n",
    "        # Save timeseries of each variable out to arrays \n",
    "        # -----------------------------------------------------------\n",
    "        fluxnet_SH[iStation,iTime_start:(iTime_end+1)]     = fluxnetDS['H_F_MDS'].values\n",
    "        fluxnet_LH[iStation,iTime_start:(iTime_end+1)]     = fluxnetDS['LE_F_MDS'].values\n",
    "        fluxnet_spd[iStation,iTime_start:(iTime_end+1)]    = fluxnetDS['WS_F'].values\n",
    "        fluxnet_precip[iStation,iTime_start:(iTime_end+1)] = fluxnetDS['P_F'].values\n",
    "        fluxnet_pressr[iStation,iTime_start:(iTime_end+1)] = fluxnetDS['PA_F'].values\n",
    "        fluxnet_temp[iStation,iTime_start:(iTime_end+1)]   = fluxnetDS['TA_F'].values\n"
   ]
  },
  {
   "cell_type": "code",
   "execution_count": 87,
   "metadata": {},
   "outputs": [
    {
     "data": {
      "text/plain": [
       "[<matplotlib.lines.Line2D at 0x7f800734ea30>]"
      ]
     },
     "execution_count": 87,
     "metadata": {},
     "output_type": "execute_result"
    },
    {
     "data": {
      "image/png": "[encoded data removed]",
      "text/plain": [
       "<Figure size 432x288 with 1 Axes>"
      ]
     },
     "metadata": {
      "needs_background": "light"
     },
     "output_type": "display_data"
    }
   ],
   "source": [
    "# Plot a few stations of temperature to make sure it exists and seems okay... \n",
    "plt.plot(dayRange, fluxnet_temp[10,:])\n",
    "plt.plot(dayRange, fluxnet_temp[78,:])\n"
   ]
  },
  {
   "cell_type": "code",
   "execution_count": null,
   "metadata": {},
   "outputs": [],
   "source": []
  },
  {
   "cell_type": "markdown",
   "metadata": {},
   "source": [
    "## 2. Read in model data "
   ]
  },
  {
   "cell_type": "code",
   "execution_count": 2,
   "metadata": {},
   "outputs": [],
   "source": [
    "# Set up directories \n",
    "dataDir     = '/Users/mdfowler/Documents/Analysis/CLUBB_initial/data/daily/'\n",
    "nameStart   = 'f.e20.FHIST.f09_f09.cesm2_1.001.cam.h1.'\n",
    "nameEnd_UV  = '_sfcLevs-dailyUV.nc'\n",
    "nameEnd_FLX = '_dailySfcFluxes.nc'\n",
    "nameEnd_TS  = '_TSprecip.nc'\n",
    "\n",
    "decadeList  = ['1970-79','1980-89','1990-99']\n"
   ]
  },
  {
   "cell_type": "code",
   "execution_count": 5,
   "metadata": {
    "scrolled": true
   },
   "outputs": [
    {
     "name": "stderr",
     "output_type": "stream",
     "text": [
      "<ipython-input-5-eae957e082f5>:11: RuntimeWarning: Converting a CFTimeIndex with dates from a non-standard calendar, 'noleap', to a pandas.DatetimeIndex, which uses dates from the standard calendar.  This may lead to subtle errors in operations that depend on the length of time between dates.\n",
      "  windDF['time'] = windDF.indexes['time'].to_datetimeindex()\n",
      "<ipython-input-5-eae957e082f5>:15: RuntimeWarning: Converting a CFTimeIndex with dates from a non-standard calendar, 'noleap', to a pandas.DatetimeIndex, which uses dates from the standard calendar.  This may lead to subtle errors in operations that depend on the length of time between dates.\n",
      "  flxDF['time'] = flxDF.indexes['time'].to_datetimeindex()\n",
      "<ipython-input-5-eae957e082f5>:19: RuntimeWarning: Converting a CFTimeIndex with dates from a non-standard calendar, 'noleap', to a pandas.DatetimeIndex, which uses dates from the standard calendar.  This may lead to subtle errors in operations that depend on the length of time between dates.\n",
      "  tsDF['time']  = tsDF.indexes['time'].to_datetimeindex()\n"
     ]
    },
    {
     "name": "stdout",
     "output_type": "stream",
     "text": [
      "Done with decade  1970-79  ... \n",
      "Done with decade  1980-89  ... \n",
      "Done with decade  1990-99  ... \n"
     ]
    }
   ],
   "source": [
    "# Read in data by decade \n",
    "for iDec in range(len(decadeList)): \n",
    "    \n",
    "    # Open datasets for each decade \n",
    "#     fileName       = dataDir+nameStart+decadeList[iDec]+nameEnd\n",
    "#     dataDF         = xr.open_dataset(fileName, decode_times=True)\n",
    "#     dataDF['time'] = dataDF.indexes['time'].to_datetimeindex() # Convert from cf time (non-standard calendar) to datetime\n",
    "\n",
    "    UVfile         = dataDir+nameStart+decadeList[iDec]+nameEnd_UV \n",
    "    windDF         = xr.open_dataset(UVfile, decode_times=True)\n",
    "    windDF['time'] = windDF.indexes['time'].to_datetimeindex()\n",
    "    \n",
    "    FLXfile       = dataDir+nameStart+decadeList[iDec]+nameEnd_FLX\n",
    "    flxDF         = xr.open_dataset(FLXfile, decode_times=True)\n",
    "    flxDF['time'] = flxDF.indexes['time'].to_datetimeindex()\n",
    "    \n",
    "    TSfile        = dataDir+nameStart+decadeList[iDec]+nameEnd_TS\n",
    "    tsDF          = xr.open_dataset(TSfile, decode_times=True)\n",
    "    tsDF['time']  = tsDF.indexes['time'].to_datetimeindex()\n",
    "\n",
    "    # Create *giant* datasets that span the full period of the simulations\n",
    "    if iDec==0:\n",
    "#         fullDF   = dataDF\n",
    "        fullUV   = windDF\n",
    "        fullFLX  = flxDF\n",
    "        fullTS   = tsDF\n",
    "    else:\n",
    "#         fullDF   = xr.concat([fullDF, dataDF], dim=\"time\")\n",
    "        fullUV   = xr.concat([fullUV, windDF], dim=\"time\")\n",
    "        fullFLX  = xr.concat([fullFLX, flxDF], dim=\"time\")\n",
    "        fullTS   = xr.concat([fullTS,   tsDF], dim=\"time\")\n",
    "        \n",
    "    print('Done with decade ', decadeList[iDec], ' ... ')\n",
    "    "
   ]
  },
  {
   "cell_type": "code",
   "execution_count": 92,
   "metadata": {},
   "outputs": [],
   "source": [
    "## Load in pickle file containing near-surface temprature gradient (TBOT-TS) [K]\n",
    "gradFile  = dataDir+nameStart+'1970-99_gradT_daily.p'\n",
    "with open( gradFile, \"rb\" ) as pic: \n",
    "    delT = pickle.load(pic)\n",
    "    "
   ]
  },
  {
   "cell_type": "code",
   "execution_count": 93,
   "metadata": {},
   "outputs": [],
   "source": [
    "# To be able to easily access years, months, days - use Pandas \n",
    "dates = pd.DatetimeIndex(fullDF['time'].values) \n",
    "\n",
    "# Let's set the monthly averages to be roughly mid-month\n",
    "#   This way, the average for January has a month of 1 instead of being the first day of February \n",
    "midTime = dates - timedelta(days=15)       \n"
   ]
  },
  {
   "cell_type": "code",
   "execution_count": 94,
   "metadata": {},
   "outputs": [],
   "source": [
    "# Read into individual arrays for easy access\n",
    "UP2   = fullDF.UP2_CLUBB.values      # Zonal velocity variance (m2/s2)\n",
    "VP2   = fullDF.VP2_CLUBB.values      # Meridional velocity variance (m2/s2)\n",
    "SHFLX = fullFLX.SHFLX.values\n",
    "LHFLX = fullFLX.LHFLX.values\n",
    "TS    = fullTS.TS.values \n",
    "U     = fullUV.U.values              # Zonal wind (m/s)\n",
    "V     = fullUV.V.values              # Meridional wind (m/s)\n"
   ]
  },
  {
   "cell_type": "code",
   "execution_count": 95,
   "metadata": {},
   "outputs": [],
   "source": [
    "# Flip along vertical (level) axis, so that index 0 is surface \n",
    "UP2 = np.flip(UP2, axis=1)\n",
    "VP2 = np.flip(VP2, axis=1)\n",
    "U   = np.flip(U,   axis=1)\n",
    "V   = np.flip(V,   axis=1)\n",
    "\n",
    "# Save levels themselves to arrays and flip them too (avoids confusion later, hopefully)\n",
    "lev_interface = np.flip(fullDF.ilev.values)\n",
    "lev_middle    = np.flip(fullUV.lev.values)\n"
   ]
  },
  {
   "cell_type": "code",
   "execution_count": 96,
   "metadata": {},
   "outputs": [],
   "source": [
    "# Now get surface wind magnitude and combine variances \n",
    "windSpd = np.sqrt(U**2 + V**2)\n",
    "windVar = UP2 + VP2 \n",
    "\n",
    "# Select near surface speed and variance \n",
    "sfcWindSpd = windSpd[:,0,:,:]\n",
    "sfcWindVar = windVar[:,1,:,:]\n"
   ]
  },
  {
   "cell_type": "code",
   "execution_count": 100,
   "metadata": {},
   "outputs": [],
   "source": [
    "# Define lat and lon for model\n",
    "lat = fullFLX.lat.values\n",
    "lon = fullFLX.lon.values"
   ]
  },
  {
   "cell_type": "code",
   "execution_count": 97,
   "metadata": {},
   "outputs": [],
   "source": [
    "# Remove some of the larger arrays from memory now that we don't need them \n",
    "del U \n",
    "del V \n",
    "del UP2 \n",
    "del VP2 \n"
   ]
  },
  {
   "cell_type": "code",
   "execution_count": null,
   "metadata": {},
   "outputs": [],
   "source": []
  },
  {
   "cell_type": "markdown",
   "metadata": {},
   "source": [
    "### 2.1 Get model data at gridcells containing towers "
   ]
  },
  {
   "cell_type": "code",
   "execution_count": null,
   "metadata": {},
   "outputs": [],
   "source": [
    "# Consider each station individually \n",
    "for iStation in range(len(dataFiles_filter)):\n",
    "    \n",
    "    # Get model gridcells that match fluxnet site \n",
    "    iLat        = np.where( (lat>=(lat_fluxnet[iStation]-0.4712)) & \n",
    "                            (lat<=(lat_fluxnet[iStation]+0.4712)) )[0]\n",
    "     # Convert longitude of point into 0-360 range \n",
    "    lonSel_flux = (lon_fluxnet[iStation] + 360) % 360                \n",
    "    iLon        = np.where( (lon>=(lonSel_flux-0.625)) & \n",
    "                            (lon<=(lonSel_flux+0.625)) )[0]\n",
    "    \n",
    "    # Pull out model variables for each station's gridcell \n",
    "    model_spd = sfcWindSpd[:,iLat,iLon]\n",
    "    model_SH  =\n",
    "    model_LH  = \n",
    "    model_\n",
    "    \n",
    "    \n",
    "    "
   ]
  },
  {
   "cell_type": "code",
   "execution_count": 98,
   "metadata": {},
   "outputs": [
    {
     "data": {
      "text/plain": [
       "(360, 192, 288)"
      ]
     },
     "execution_count": 98,
     "metadata": {},
     "output_type": "execute_result"
    }
   ],
   "source": [
    "np.shape(sfcWindSpd)"
   ]
  },
  {
   "cell_type": "code",
   "execution_count": 101,
   "metadata": {},
   "outputs": [
    {
     "data": {
      "text/plain": [
       "(192,)"
      ]
     },
     "execution_count": 101,
     "metadata": {},
     "output_type": "execute_result"
    }
   ],
   "source": [
    "np.shape(lat)"
   ]
  },
  {
   "cell_type": "code",
   "execution_count": null,
   "metadata": {},
   "outputs": [],
   "source": [
    "fluxnet_"
   ]
  }
 ],
 "metadata": {
  "kernelspec": {
   "display_name": "Python 3",
   "language": "python",
   "name": "python3"
  },
  "language_info": {
   "codemirror_mode": {
    "name": "ipython",
    "version": 3
   },
   "file_extension": ".py",
   "mimetype": "text/x-python",
   "name": "python",
   "nbconvert_exporter": "python",
   "pygments_lexer": "ipython3",
   "version": "3.8.3"
  }
 },
 "nbformat": 4,
 "nbformat_minor": 4
}
